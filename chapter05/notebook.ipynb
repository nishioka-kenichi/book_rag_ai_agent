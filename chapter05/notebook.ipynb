{
 "cells": [
  {
   "cell_type": "markdown",
   "metadata": {},
   "source": [
    "# 5. LangChain Expression Language（LCEL）徹底解説\n"
   ]
  },
  {
   "cell_type": "code",
   "execution_count": 11,
   "metadata": {
    "execution": {
     "iopub.execute_input": "2024-06-28T02:32:34.489407Z",
     "iopub.status.busy": "2024-06-28T02:32:34.488775Z",
     "iopub.status.idle": "2024-06-28T02:32:34.491583Z",
     "shell.execute_reply": "2024-06-28T02:32:34.491086Z"
    }
   },
   "outputs": [
    {
     "name": "stdout",
     "output_type": "stream",
     "text": [
      "現在の作業ディレクトリ: /Users/kenichi/Projects\n",
      "参照する.envパス: /Users/kenichi/Projects/rag_ai_agent_book/.env\n",
      "OPENAI_API_KEY が正常に設定されました。\n"
     ]
    }
   ],
   "source": [
    "import os\n",
    "from dotenv import load_dotenv\n",
    "\n",
    "current_working_directory = os.getcwd()\n",
    "dotenv_path = os.path.join(current_working_directory, 'rag_ai_agent_book', '.env')\n",
    "\n",
    "print(f\"現在の作業ディレクトリ: {current_working_directory}\")\n",
    "print(f\"参照する.envパス: {dotenv_path}\")\n",
    "\n",
    "load_dotenv(dotenv_path=dotenv_path)\n",
    "\n",
    "# 環境変数がロードされたか確認し、必要であればos.environに設定\n",
    "api_key = os.getenv(\"OPENAI_API_KEY\")\n",
    "langchain_api_key = os.getenv(\"LANGCHAIN_API_KEY\")\n",
    "\n",
    "if api_key is None:\n",
    "    print(\"OPENAI_API_KEY 環境変数が設定されていません。\")\n",
    "    print(\"rag_ai_agent_book/ディレクトリに.envファイルを作成し、OpenAI APIキーを設定してください。\")\n",
    "    print(\"例: OPENAI_API_KEY=\\\"sk-xxxxxxxxxxxxxxxxxxxxxxxxxxxxxxxxx\\\"\")\n",
    "else:\n",
    "    os.environ[\"OPENAI_API_KEY\"] = api_key\n",
    "    print(\"OPENAI_API_KEY が正常に設定されました。\")\n",
    "\n",
    "os.environ[\"LANGCHAIN_TRACING_V2\"] = \"true\"\n",
    "os.environ[\"LANGCHAIN_ENDPOINT\"] = \"https://api.smith.langchain.com\"\n",
    "os.environ[\"LANGCHAIN_API_KEY\"] = langchain_api_key if langchain_api_key else \"\"\n",
    "os.environ[\"LANGCHAIN_PROJECT\"] = \"agent-book\""
   ]
  },
  {
   "cell_type": "markdown",
   "metadata": {},
   "source": [
    "## 5.1. Runnable と RunnableSequence―LCEL の最も基本的な構成要素\n"
   ]
  },
  {
   "cell_type": "code",
   "execution_count": 12,
   "metadata": {},
   "outputs": [],
   "source": [
    "# LangChainの出力パーサー（文字列用）をインポート\n",
    "from langchain_core.output_parsers import StrOutputParser\n",
    "# LangChainのチャットプロンプトテンプレートをインポート\n",
    "from langchain_core.prompts import ChatPromptTemplate\n",
    "# OpenAIのチャットモデル（LangChainラッパー）をインポート\n",
    "from langchain_openai import ChatOpenAI\n",
    "\n",
    "# システムメッセージとユーザーメッセージからプロンプトテンプレートを作成\n",
    "prompt = ChatPromptTemplate.from_messages(\n",
    "    [\n",
    "        # システムメッセージ：ユーザーが入力した料理を京都風にアレンジしたレシピを考えるよう指示\n",
    "        (\"system\", \"ユーザーが入力した料理の京都風にアレンジしたレシピを考えてください。\"),\n",
    "        # ユーザーメッセージ：{dish}は後で入力される料理名に置き換わる\n",
    "        (\"human\", \"{dish}\")\n",
    "    ]\n",
    ")\n",
    "\n",
    "# OpenAIのgpt-4o-miniモデルを温度0で初期化（出力の多様性を抑える）\n",
    "model = ChatOpenAI(model=\"gpt-4o-mini\", temperature=0)\n",
    "\n",
    "# モデルの出力を文字列としてパースするためのパーサーを初期化\n",
    "output_parser = StrOutputParser()"
   ]
  },
  {
   "cell_type": "code",
   "execution_count": 13,
   "metadata": {},
   "outputs": [
    {
     "name": "stdout",
     "output_type": "stream",
     "text": [
      "京都風フレンチトーストのレシピをご紹介します。抹茶や黒蜜、季節の果物を使って、和のテイストを取り入れたアレンジです。\n",
      "\n",
      "### 材料（2人分）\n",
      "- 食パン（厚切り） 2枚\n",
      "- 卵 2個\n",
      "- 牛乳 100ml\n",
      "- 砂糖 大さじ1\n",
      "- 抹茶パウダー 小さじ1（お好みで）\n",
      "- バター 適量\n",
      "- 黒蜜 適量\n",
      "- 季節の果物（いちご、バナナ、柿など） 適量\n",
      "- 粉砂糖（お好みで） 適量\n",
      "\n",
      "### 作り方\n",
      "1. **卵液を作る**: ボウルに卵を割り入れ、牛乳、砂糖、抹茶パウダーを加え、よく混ぜます。抹茶はお好みで調整してください。\n",
      "\n",
      "2. **パンを浸す**: 食パンを卵液に浸し、両面がしっかりと液を吸収するようにします。約5分ほど置いておくと良いでしょう。\n",
      "\n",
      "3. **焼く**: フライパンにバターを熱し、浸した食パンを中火で焼きます。両面がこんがりときつね色になるまで焼きます（約3〜4分ずつ）。\n",
      "\n",
      "4. **盛り付け**: 焼き上がったフレンチトーストを皿に盛り、上に季節の果物をトッピングします。黒蜜をたっぷりかけ、お好みで粉砂糖を振りかけて完成です。\n",
      "\n",
      "### 提案\n",
      "- 抹茶の代わりに、きな粉を使っても美味しいです。\n",
      "- フレンチトーストの上に、あんこやクリームチーズを添えると、さらに和の風味が楽しめます。\n",
      "\n",
      "この京都風フレンチトーストは、和の素材を取り入れた新しい味わいを楽しむことができます。ぜひお試しください！\n"
     ]
    }
   ],
   "source": [
    "# プロンプトテンプレートに「フレンチトースト」を入力し、プロンプト値を生成\n",
    "prompt_value = prompt.invoke({\"dish\": \"フレンチトースト\"})\n",
    "# 生成したプロンプト値をOpenAIチャットモデルに渡してAIメッセージを取得\n",
    "ai_message = model.invoke(prompt_value)\n",
    "# AIメッセージを文字列としてパース（整形）する\n",
    "output = output_parser.invoke(ai_message)\n",
    "# 最終的な出力（京都風レシピ）を表示\n",
    "print(output)"
   ]
  },
  {
   "cell_type": "code",
   "execution_count": 14,
   "metadata": {},
   "outputs": [
    {
     "name": "stdout",
     "output_type": "stream",
     "text": [
      "京都風グラタンのレシピをご紹介します。京都の食材や風味を取り入れた、和のテイストを感じるグラタンです。\n",
      "\n",
      "### 材料（4人分）\n",
      "- マカロニ：200g\n",
      "- 鶏むね肉：200g（または鶏ささみ）\n",
      "- ほうれん草：1束\n",
      "- しいたけ：4〜5個\n",
      "- 京揚げ（厚揚げ）：1枚\n",
      "- 牛乳：400ml\n",
      "- 生クリーム：100ml\n",
      "- バター：30g\n",
      "- 小麦粉：30g\n",
      "- 塩：適量\n",
      "- こしょう：適量\n",
      "- みりん：大さじ1\n",
      "- だしの素：小さじ1（または和風だし）\n",
      "- とろけるチーズ：適量\n",
      "- 青ねぎ（飾り用）：適量\n",
      "\n",
      "### 作り方\n",
      "1. **下準備**：\n",
      "   - マカロニは塩を加えたお湯で茹で、表示時間より1分短く茹でて水を切ります。\n",
      "   - 鶏肉は一口大に切り、塩、こしょう、みりんで下味をつけます。\n",
      "   - ほうれん草はさっと茹でて水にさらし、絞って食べやすい大きさに切ります。\n",
      "   - しいたけは薄切り、京揚げは食べやすい大きさに切ります。\n",
      "\n",
      "2. **具材を炒める**：\n",
      "   - フライパンにバターを溶かし、鶏肉を炒めます。鶏肉が白くなったら、しいたけと京揚げを加えてさらに炒めます。\n",
      "\n",
      "3. **ホワイトソースを作る**：\n",
      "   - 別の鍋にバターを溶かし、小麦粉を加えてよく混ぜ、少し色がつくまで炒めます。\n",
      "   - 牛乳と生クリームを少しずつ加え、ダマにならないように混ぜながら煮ます。\n",
      "   - だしの素を加え、塩、こしょうで味を調えます。\n",
      "\n",
      "4. **グラタンを組み立てる**：\n",
      "   - 炒めた具材とほうれん草をホワイトソースに加え、よく混ぜます。\n",
      "   - 茹でたマカロニを加え、全体をよく混ぜ合わせます。\n",
      "\n",
      "5. **焼く**：\n",
      "   - グラタン皿に具材を入れ、とろけるチーズをたっぷりのせます。\n",
      "   - 予熱したオーブンで180℃で約20〜25分、表面がこんがりと焼き色がつくまで焼きます。\n",
      "\n",
      "6. **仕上げ**：\n",
      "   - 焼き上がったら、青ねぎを散らして彩りを添えます。\n",
      "\n",
      "### 提供\n",
      "熱々のうちにお召し上がりください。京都の風味を感じる、和風グラタンの完成です！お好みで、七味唐辛子を振りかけても美味しいです。\n"
     ]
    }
   ],
   "source": [
    "# プロンプト、モデル、出力パーサーをパイプ（|）で連結してチェーンを作成\n",
    "chain = prompt | model | output_parser\n",
    "# チェーンに「グラタン」という料理名を入力して京都風レシピを生成\n",
    "output = chain.invoke({\"dish\": \"グラタン\"})\n",
    "# 生成された京都風レシピを表示\n",
    "print(output)"
   ]
  },
  {
   "cell_type": "markdown",
   "metadata": {},
   "source": [
    "### Runnable の実行方法―invoke・stream・batch\n"
   ]
  },
  {
   "cell_type": "code",
   "execution_count": 15,
   "metadata": {},
   "outputs": [
    {
     "name": "stdout",
     "output_type": "stream",
     "text": [
      "京都風のビザをアレンジしたレシピをご紹介します。伝統的なイタリアンピザに、京都の食材や風味を取り入れた一品です。\n",
      "\n",
      "### 京都風ピザ「京野菜と抹茶のピザ」\n",
      "\n",
      "#### 材料（2人分）\n",
      "- ピザ生地（市販または手作り）: 1枚\n",
      "- モッツァレラチーズ: 150g\n",
      "- 京野菜（九条ネギ、賀茂ナス、壬生菜など）: 適量\n",
      "- 抹茶パウダー: 小さじ1\n",
      "- オリーブオイル: 大さじ1\n",
      "- 塩: 少々\n",
      "- 黒胡椒: 少々\n",
      "- みりん: 小さじ1\n",
      "- しょうゆ: 小さじ1（お好みで）\n",
      "\n",
      "#### 作り方\n",
      "1. **準備**: オーブンを220℃に予熱します。ピザ生地を薄く伸ばして、オーブンシートの上に置きます。\n",
      "\n",
      "2. **野菜の下ごしらえ**: 京野菜を洗い、九条ネギは斜め切り、賀茂ナスは薄切り、壬生菜はざく切りにします。\n",
      "\n",
      "3. **トッピングの準備**: フライパンにオリーブオイルを熱し、賀茂ナスを軽く炒め、塩と黒胡椒で味付けします。九条ネギと壬生菜も加え、さっと炒めます。\n",
      "\n",
      "4. **ピザの組み立て**: ピザ生地の上にモッツァレラチーズを均等に散らし、その上に炒めた京野菜をのせます。\n",
      "\n",
      "5. **抹茶の風味**: 抹茶パウダーを全体にふりかけ、さらにオリーブオイルを少し垂らします。\n",
      "\n",
      "6. **焼く**: 予熱したオーブンで約10〜12分、チーズが溶けて生地がこんがりと焼き色がつくまで焼きます。\n",
      "\n",
      "7. **仕上げ**: 焼き上がったら、お好みでみりんとしょうゆを軽くかけて、風味を引き立てます。\n",
      "\n",
      "8. **サーブ**: 切り分けて、お皿に盛り付けて完成です。抹茶の香りと京野菜の旨味が楽しめる、京都風のピザをお楽しみください。\n",
      "\n",
      "このレシピは、京都の食材を使い、抹茶の風味を加えることで、独特の味わいを楽しむことができます。ぜひお試しください！"
     ]
    }
   ],
   "source": [
    "# チェーン（プロンプト、モデル、出力パーサー）をパイプで連結して作成\n",
    "chain = prompt | model | output_parser\n",
    "# 「ビザ」という料理名を入力し、京都風レシピをストリームで逐次生成\n",
    "for chunk in chain.stream({\"dish\": \"ビザ\"}):\n",
    "    # 生成されたテキストのチャンクをそのまま出力（改行なし、即時出力）\n",
    "    print(chunk, end=\"\", flush=True)"
   ]
  },
  {
   "cell_type": "code",
   "execution_count": 17,
   "metadata": {},
   "outputs": [
    {
     "name": "stdout",
     "output_type": "stream",
     "text": [
      "['京都風のステーキアレンジレシピをご紹介します。京都の食材や風味を取り入れた、和のテイストを感じるステーキです。\\n\\n### 京都風ステーキのレシピ\\n\\n#### 材料（2人分）\\n- 牛肉（サーロインまたはリブロース） 300g\\n- みりん 2 tbsp\\n- 醤油 2 tbsp\\n- 砂糖 1 tsp\\n- 生姜（すりおろし） 1 tsp\\n- にんにく（すりおろし） 1 tsp\\n- 青ねぎ（小口切り） 適量\\n- ほうれん草（おひたし用） 1束\\n- しいたけ（または舞茸） 2-3個\\n- ごま油 1 tbsp\\n- 七味唐辛子（お好みで） 適量\\n\\n#### 作り方\\n1. **マリネ液の準備**: ボウルにみりん、醤油、砂糖、生姜、にんにくを混ぜ合わせ、マリネ液を作ります。\\n\\n2. **牛肉のマリネ**: 牛肉をマリネ液に漬け込み、30分から1時間ほど冷蔵庫で寝かせます。これにより、肉が柔らかくなり、風味が増します。\\n\\n3. **ほうれん草のおひたし**: ほうれん草をさっと茹でて冷水にさらし、水気を切ります。軽く絞ってから、醤油を少々かけておひたしにします。\\n\\n4. **しいたけのソテー**: フライパンにごま油を熱し、スライスしたしいたけを加えて炒めます。塩を少々振りかけ、香ばしくなるまで炒めます。\\n\\n5. **ステーキの焼き方**: マリネした牛肉をフライパンで中火で焼きます。お好みの焼き加減に仕上げたら、焼き上がった肉をアルミホイルで包み、数分休ませます。\\n\\n6. **盛り付け**: 休ませたステーキをスライスし、皿に盛ります。周りにほうれん草のおひたしとしいたけを添え、青ねぎを散らします。お好みで七味唐辛子を振りかけて完成です。\\n\\n### 提案\\nこの京都風ステーキは、和のテイストを取り入れた一品で、特にご飯との相性が抜群です。お酒と一緒に楽しむのもおすすめです。京都の風情を感じながら、ぜひお楽しみください！', '京都風のうなぎ料理として「京風うなぎの蒲焼き」をご提案します。京都の伝統的な味付けや食材を取り入れたレシピです。\\n\\n### 京風うなぎの蒲焼き\\n\\n#### 材料（2人分）\\n- うなぎの蒲焼き（冷凍または生） 2尾\\n- みりん 50ml\\n- しょうゆ 50ml\\n- 砂糖 1 tablespoon（お好みで調整）\\n- 酒 50ml\\n- だし昆布 1枚（5cm角）\\n- 山椒（粉または実） 適量\\n- 白ごま 適量\\n- ご飯（白ご飯または京風の炊き込みご飯） 適量\\n- きゅうり（千切り） 適量\\n- みょうが（薄切り） 適量\\n- 大葉（千切り） 適量\\n\\n#### 作り方\\n1. **タレの準備**: 小鍋にみりん、しょうゆ、砂糖、酒を入れ、だし昆布を加えて中火にかけます。沸騰したら火を弱め、5分ほど煮詰めてタレを作ります。昆布は取り出しておきます。\\n\\n2. **うなぎの焼き方**: うなぎをグリルまたはフライパンで焼きます。表面がパリッとするまで焼き、途中でタレを何度か塗りながら焼きます。\\n\\n3. **盛り付け**: ご飯を器に盛り、その上に焼き上がったうなぎをのせます。タレをかけ、山椒や白ごまを振りかけます。\\n\\n4. **付け合わせ**: 千切りのきゅうり、薄切りのみょうが、大葉を添えて彩りを加えます。\\n\\n5. **仕上げ**: お好みで、さらにタレをかけて味を調整し、完成です。\\n\\n### ポイント\\n- 京都では、うなぎの蒲焼きに山椒をかけることが多いので、ぜひお好みでたっぷりと振りかけてください。\\n- 付け合わせの野菜は、季節のものを使うとより京都らしい一品になります。\\n- ご飯は、京風の炊き込みご飯にすると、さらに風味が増します。\\n\\nこの京風うなぎの蒲焼きは、伝統的な味わいを楽しみながら、見た目にも美しい一皿です。ぜひお試しください！']\n"
     ]
    }
   ],
   "source": [
    "chain=prompt|model|output_parser\n",
    "\n",
    "outputs=chain.batch([{\"dish\":\"ステーキ\"},{\"dish\":\"うなぎ\"}])\n",
    "print(outputs)\n",
    "# for output in outputs:\n",
    "# \tprint(output)"
   ]
  },
  {
   "cell_type": "markdown",
   "metadata": {},
   "source": [
    "### LCEL の「|」で様々な Runnable を連鎖させる\n"
   ]
  },
  {
   "cell_type": "code",
   "execution_count": null,
   "metadata": {},
   "outputs": [
    {
     "name": "stdout",
     "output_type": "stream",
     "text": [
      "結論: \\(10 + 2 * 3 = 16\\) です。\n"
     ]
    }
   ],
   "source": [
    "# StrOutputParserをインポート（モデル出力を文字列としてパースするためのクラス）\n",
    "from langchain_core.output_parsers import StrOutputParser\n",
    "# ChatPromptTemplateをインポート（チャット形式のプロンプトを作成するためのクラス）\n",
    "from langchain_core.prompts import ChatPromptTemplate\n",
    "# ChatOpenAIをインポート（OpenAIのチャットモデルを利用するためのクラス）\n",
    "from langchain_openai import ChatOpenAI\n",
    "\n",
    "# OpenAIのチャットモデル（gpt-4o-mini）を初期化（温度は0で決定的な出力に設定）\n",
    "model = ChatOpenAI(model=\"gpt-4o-mini\", temperature=0)\n",
    "# モデル出力を文字列としてパースするパーサーを初期化\n",
    "output_parser = StrOutputParser()\n",
    "\n",
    "# ステップバイステップで回答するプロンプトを作成\n",
    "cot_prompt = ChatPromptTemplate.from_messages(\n",
    "    [\n",
    "        (\"system\", \"ユーザーの質問にステップバイステップで回答してください\"),\n",
    "        (\"human\", \"{question}\")\n",
    "    ]\n",
    ")\n",
    "# プロンプト、モデル、出力パーサーをパイプで連結しチェーンを作成\n",
    "cot_chain = cot_prompt | model | output_parser\n",
    "\n",
    "# ステップバイステップの回答から結論だけを抽出するプロンプトを作成\n",
    "summarize_prompt = ChatPromptTemplate.from_messages(\n",
    "    [\n",
    "        (\"system\", \"ステップバイステップで考えた回答から結論だけ抽出してください\"),\n",
    "        (\"human\", \"{text}\"),\n",
    "    ]\n",
    ")\n",
    "# プロンプト、モデル、出力パーサーをパイプで連結しサマライズ用チェーンを作成\n",
    "summarize_chain = summarize_prompt | model | output_parser\n",
    "\n",
    "# ステップバイステップ回答チェーンとサマライズチェーンを連結し、複合チェーンを作成\n",
    "cot_summarize_chain = cot_chain | summarize_chain\n",
    "# 複合チェーンに「10+2*3」という質問を入力し、結論のみを抽出\n",
    "output = cot_summarize_chain.invoke({\"question\": \"10+2*3\"})\n",
    "# 抽出された結論を表示\n",
    "print(output)"
   ]
  },
  {
   "cell_type": "code",
   "execution_count": null,
   "metadata": {},
   "outputs": [
    {
     "name": "stdout",
     "output_type": "stream",
     "text": [
      "この計算をステップバイステップで行います。\n",
      "\n",
      "1. **計算の順序を確認**: 数学では、掛け算と割り算は足し算と引き算よりも優先されます。したがって、まず掛け算を計算します。\n",
      "\n",
      "2. **掛け算を計算**: \n",
      "   - \\(2 * 3 = 6\\)\n",
      "\n",
      "3. **足し算を計算**: \n",
      "   - \\(10 + 6 = 16\\)\n",
      "\n",
      "したがって、\\(10 + 2 * 3 = 16\\) です。\n",
      "-------------------------\n",
      "結論: \\(10 + 2 * 3 = 16\\) です。\n"
     ]
    }
   ],
   "source": [
    "# 個別の結果を確認する\n",
    "cot_output=cot_chain.invoke({\"question\":\"10+2*3\"})\n",
    "print(cot_output)\n",
    "print(\"-------------------------\")\n",
    "summarize_output=summarize_chain.invoke({\"text\":cot_output})\n",
    "print(summarize_output)"
   ]
  },
  {
   "cell_type": "markdown",
   "metadata": {},
   "source": [
    "## 5.2. RunnableLambda―任意の関数を Runnable にする\n"
   ]
  },
  {
   "cell_type": "code",
   "execution_count": null,
   "metadata": {},
   "outputs": [
    {
     "name": "stdout",
     "output_type": "stream",
     "text": [
      "HELLO! HOW CAN I ASSIST YOU TODAY?\n"
     ]
    }
   ],
   "source": [
    "# StrOutputParser をインポート（モデル出力を文字列としてパースするためのクラス）\n",
    "from langchain_core.output_parsers import StrOutputParser\n",
    "# ChatPromptTemplate をインポート（チャット形式のプロンプトを作成するためのクラス）\n",
    "from langchain_core.prompts import ChatPromptTemplate\n",
    "# ChatOpenAI をインポート（OpenAI のチャットモデルを利用するためのクラス）\n",
    "from langchain_openai import ChatOpenAI\n",
    "\n",
    "# チャットプロンプトを作成（system メッセージと human メッセージを定義）\n",
    "prompt = ChatPromptTemplate.from_messages(\n",
    "    [\n",
    "        (\"system\", \"You ar a helpful assistant.\"),  # システムメッセージ（アシスタントの役割を指定）\n",
    "        (\"human\", \"{input}\"),  # ユーザーからの入力を受け取るプレースホルダー\n",
    "    ]\n",
    ")\n",
    "# OpenAI のチャットモデルを初期化（gpt-4o-mini、温度0で決定的な出力）\n",
    "model = ChatOpenAI(model=\"gpt-4o-mini\", temperature=0)\n",
    "# モデル出力を文字列としてパースするパーサーを初期化\n",
    "output_parser = StrOutputParser()\n",
    "\n",
    "#-----------------------------------------------------------\n",
    "# RunnableLambda をインポート（任意の関数を Runnable としてチェーンに組み込むためのクラス）\n",
    "from langchain_core.runnables import RunnableLambda\n",
    "\n",
    "# 文字列を大文字に変換する関数を定義\n",
    "def upper(text: str) -> str:\n",
    "    return text.upper()\n",
    "\n",
    "# プロンプト、モデル、出力パーサー、upper 関数をパイプで連結しチェーンを作成\n",
    "chain = prompt | model | output_parser | RunnableLambda(upper)\n",
    "\n",
    "# チェーンに入力を与えて実行し、AI の応答を取得\n",
    "ai_message = chain.invoke({\"input\": \"Hello!\"})\n",
    "# AI の応答（大文字変換後）を表示\n",
    "print(ai_message)"
   ]
  },
  {
   "cell_type": "markdown",
   "metadata": {},
   "source": [
    "### chain デコレーターを使った RunnableLambda の実装\n"
   ]
  },
  {
   "cell_type": "code",
   "execution_count": null,
   "metadata": {},
   "outputs": [
    {
     "name": "stdout",
     "output_type": "stream",
     "text": [
      "HELLO! HOW CAN I ASSIST YOU TODAY?\n"
     ]
    }
   ],
   "source": [
    "# chain デコレーターをインポート\n",
    "from langchain_core.runnables import chain\n",
    "\n",
    "# upper 関数を chain デコレーターでラップし、Runnable として利用可能にする\n",
    "@chain\n",
    "def upper(text:str)->str:\n",
    "\treturn text.upper()\n",
    "\n",
    "# prompt, model, output_parser, upper をパイプで連結しチェーンを作成\n",
    "chain=prompt|model|output_parser|upper\n",
    "# チェーンに入力を与えて実行し、AI の応答を取得\n",
    "ai_message=chain.invoke({\"input\":\"Hello!\"})\n",
    "# AI の応答（大文字変換後）を表示\n",
    "print(ai_message)"
   ]
  },
  {
   "cell_type": "markdown",
   "metadata": {},
   "source": [
    "### RunnableLambda への自動変換\n"
   ]
  },
  {
   "cell_type": "code",
   "execution_count": null,
   "metadata": {
    "execution": {
     "iopub.execute_input": "2024-06-28T02:33:43.508518Z",
     "iopub.status.busy": "2024-06-28T02:33:43.508321Z",
     "iopub.status.idle": "2024-06-28T02:33:43.511080Z",
     "shell.execute_reply": "2024-06-28T02:33:43.510672Z"
    }
   },
   "outputs": [
    {
     "name": "stdout",
     "output_type": "stream",
     "text": [
      "HELLO! HOW CAN I ASSIST YOU TODAY?\n"
     ]
    }
   ],
   "source": [
    "# @chainを利用せずにも使える\n",
    "def upper(text: str) -> str:\n",
    "    return text.upper()\n",
    "\n",
    "chain = prompt | model | output_parser | upper\n",
    "ai_message = chain.invoke({\"input\": \"Hello!\"})\n",
    "print(ai_message)"
   ]
  },
  {
   "cell_type": "markdown",
   "metadata": {},
   "source": [
    "### （コラム）独自の関数を stream に対応させたい場合\n"
   ]
  },
  {
   "cell_type": "code",
   "execution_count": null,
   "metadata": {
    "execution": {
     "iopub.execute_input": "2024-06-28T02:33:44.533838Z",
     "iopub.status.busy": "2024-06-28T02:33:44.533678Z",
     "iopub.status.idle": "2024-06-28T02:33:45.353621Z",
     "shell.execute_reply": "2024-06-28T02:33:45.353115Z"
    }
   },
   "outputs": [
    {
     "name": "stdout",
     "output_type": "stream",
     "text": [
      "HELLO! I AM AN AI LANGUAGE MODEL CREATED TO ASSIST WITH INFORMATION AND ANSWER QUESTIONS. I EXIST IN THE DIGITAL REALM AND DON'T HAVE A PHYSICAL LOCATION. AS OF MY LAST UPDATE IN OCTOBER 2023, THE PRESIDENT OF THE UNITED STATES IS JOE BIDEN. HE TOOK OFFICE ON JANUARY 20, 2021. IF YOU HAVE ANY MORE QUESTIONS, FEEL FREE TO ASK!"
     ]
    }
   ],
   "source": [
    "from typing import Iterator\n",
    "\n",
    "\n",
    "# イテレータとして受け取った文字列を大文字に変換して返す関数を定義\n",
    "def upper(input_stream: Iterator[str]) -> Iterator[str]:\n",
    "    # 入力ストリームから1行ずつ取り出す\n",
    "    for text in input_stream:\n",
    "        # 取り出した文字列を大文字に変換してyieldで返す\n",
    "        yield text.upper()\n",
    "\n",
    "chain = prompt | model | StrOutputParser() | upper\n",
    "\n",
    "# chain.stream() を使って、AIチェーンのストリーム出力を逐次取得する\n",
    "for chunk in chain.stream({\"input\": \"Hello! who are you? and where you are? , who is american president?\"}):\n",
    "    # 取得した各チャンク（部分的な応答）を改行なしで即時出力する\n",
    "    print(chunk, end=\"\", flush=True)"
   ]
  },
  {
   "cell_type": "markdown",
   "metadata": {},
   "source": [
    "## 5.3. RunnableParallel―複数の Runnable を並列で処理する\n"
   ]
  },
  {
   "cell_type": "code",
   "execution_count": 36,
   "metadata": {},
   "outputs": [
    {
     "name": "stdout",
     "output_type": "stream",
     "text": [
      "{'optimistic_opinion': '生成AIの進化は、SES（システムエンジニアリングサービス）事業にとって非常にポジティブな影響をもたらすと考えられます。まず、生成AIは業務の効率化を促進し、エンジニアがよりクリエイティブな作業に集中できる環境を提供します。例えば、コードの自動生成やデバッグ支援、ドキュメント作成の自動化などが進むことで、エンジニアの負担が軽減され、より高い付加価値を生み出すことが可能になります。\\n'\n",
      "                       '\\n'\n",
      "                       'さらに、生成AIは新しいビジネスモデルやサービスの創出を促進します。SES事業者は、AIを活用した新しいソリューションを提供することで、顧客のニーズに応えることができ、競争力を高めることができます。例えば、AIを活用したデータ分析や予測モデルの構築など、より高度なサービスを提供することで、顧客の信頼を得ることができるでしょう。\\n'\n",
      "                       '\\n'\n",
      "                       '勝ち筋としては、以下のポイントが挙げられます：\\n'\n",
      "                       '\\n'\n",
      "                       '1. **AIスキルの習得**: '\n",
      "                       'エンジニアが生成AIを活用するスキルを身につけることで、競争力を高めることができます。これにより、より複雑なプロジェクトにも対応できるようになります。\\n'\n",
      "                       '\\n'\n",
      "                       '2. **顧客ニーズの理解**: '\n",
      "                       'AIを活用したサービスを提供する際には、顧客のニーズを深く理解し、それに基づいたソリューションを提案することが重要です。\\n'\n",
      "                       '\\n'\n",
      "                       '3. **コラボレーションの強化**: '\n",
      "                       'AIを活用することで、チーム内のコラボレーションが促進され、より効率的なプロジェクト運営が可能になります。\\n'\n",
      "                       '\\n'\n",
      "                       '4. **イノベーションの推進**: '\n",
      "                       '新しい技術やサービスを積極的に取り入れ、常に進化し続ける姿勢が重要です。\\n'\n",
      "                       '\\n'\n",
      "                       '生成AIの進化は、SES事業に新たなチャンスをもたらすと同時に、業界全体の成長を促進する要因となるでしょう。楽観的に捉え、積極的に取り組むことで、未来の成功を手に入れることができるはずです！',\n",
      " 'pessimistic_opinion': '生成AIの進化は確かに注目されていますが、その影響は必ずしもポジティブなものばかりではありません。SES（システムエンジニアリングサービス）事業においても、生成AIの導入が進むことで、従来のエンジニアの役割が大きく変わる可能性があります。\\n'\n",
      "                        '\\n'\n",
      "                        'まず、生成AIが高い精度でコードを生成したり、問題を解決したりする能力を持つため、SES事業における人間のエンジニアの需要が減少することが懸念されます。例えば、2023年の調査によると、AIによる自動化が進むことで、IT業界全体で数十万の職が失われる可能性があるとされています。これにより、SES事業は競争が激化し、価格競争に巻き込まれるリスクも高まります。\\n'\n",
      "                        '\\n'\n",
      "                        'さらに、生成AIの進化に伴い、クライアントの期待も高まります。クライアントはより迅速で高品質なサービスを求めるようになり、SES事業者はその要求に応えるために、ますます厳しい環境に置かれることになるでしょう。これにより、SES事業者は常に新しい技術を学び続けなければならず、適応できない企業は淘汰される運命にあるかもしれません。\\n'\n",
      "                        '\\n'\n",
      "                        '結局のところ、SES事業の勝ち筋は、生成AIを活用して効率化を図ることにあるかもしれませんが、その過程で多くの企業が苦しむことになるでしょう。技術の進化は常に人間にとっての脅威であり、未来は決して明るいものではないと考えざるを得ません。'}\n"
     ]
    }
   ],
   "source": [
    "# StrOutputParserをインポート（AI出力を文字列としてパースするためのクラス）\n",
    "from langchain_core.output_parsers import StrOutputParser\n",
    "# ChatPromptTemplateをインポート（チャット形式のプロンプトを作成するためのクラス）\n",
    "from langchain_core.prompts import ChatPromptTemplate\n",
    "# OpenAIのチャットモデルをインポート\n",
    "from langchain_openai import ChatOpenAI\n",
    "\n",
    "# gpt-4o-miniモデルを温度0で初期化\n",
    "model=ChatOpenAI(model=\"gpt-4o-mini\",temperature=0)\n",
    "# 出力パーサーを初期化\n",
    "output_parser=StrOutputParser()\n",
    "\n",
    "# 楽観主義者用のプロンプトを作成\n",
    "optimistic_prompt=ChatPromptTemplate.from_messages(\n",
    "\t[\n",
    "\t\t# システムメッセージ：楽観主義者として振る舞うよう指示\n",
    "\t\t(\"system\",\"あなたは楽観主義者です。ユーザーの入力に対して楽観的な意見をください。ファクト情報も提示せよ\"),\n",
    "\t\t# ユーザーからの入力（トピック）を受け取る\n",
    "\t\t(\"human\",\"{topic}\")\n",
    "\t]\n",
    ")\n",
    "# 楽観主義者チェーンを作成（プロンプト→モデル→出力パーサー）\n",
    "optinistic_chain=optimistic_prompt|model|output_parser\n",
    "\n",
    "# 悲観主義者用のプロンプトを作成\n",
    "pessimistic_prompt=ChatPromptTemplate.from_messages(\n",
    "\t[\n",
    "\t\t# システムメッセージ：悲観主義者として振る舞うよう指示\n",
    "\t\t(\"system\",\"あなたは悲観主義者です。ユーザーの入力に対して悲観的な意見をください。ファクト情報も提示せよ\"),\n",
    "\t\t# ユーザーからの入力（トピック）を受け取る\n",
    "\t\t(\"human\",\"{topic}\")\n",
    "\t]\n",
    ")\n",
    "# 悲観主義者チェーンを作成（プロンプト→モデル→出力パーサー）\n",
    "pessimistic_chain=pessimistic_prompt|model|output_parser\n",
    "\n",
    "# pprintをインポート（出力を見やすく整形するため）\n",
    "import pprint\n",
    "# RunnableParallelをインポート（複数のRunnableを並列実行するためのクラス）\n",
    "from langchain_core.runnables import RunnableParallel\n",
    "\n",
    "# 楽観主義者・悲観主義者チェーンを並列実行するチェーンを作成\n",
    "parallel_chain=RunnableParallel(\n",
    "\t{\n",
    "\t\t\"optimistic_opinion\":optinistic_chain,  # 楽観主義者の意見\n",
    "\t\t\"pessimistic_opinion\":pessimistic_chain  # 悲観主義者の意見\n",
    "\t}\n",
    ")\n",
    "# 並列チェーンにトピックを渡して実行し、出力を取得\n",
    "output=parallel_chain.invoke({\"topic\":\"生成AIの進化と、これからのSES事業の変化と勝ち筋について\"})\n",
    "# 出力を整形して表示\n",
    "pprint.pprint(output)\n"
   ]
  },
  {
   "cell_type": "markdown",
   "metadata": {},
   "source": [
    "### RunnableParallel の出力を Runnable の入力に連結する\n"
   ]
  },
  {
   "cell_type": "code",
   "execution_count": 37,
   "metadata": {},
   "outputs": [
    {
     "name": "stdout",
     "output_type": "stream",
     "text": [
      "生成AIの進化に関する楽観的意見と悲観的意見を総合的に考慮すると、SES（システムエンジニアリングサービス）事業における現実的な見解は以下のようになります。\n",
      "\n",
      "### 現実的な意見\n",
      "\n",
      "生成AIの進化はSES事業に対して両面の影響を及ぼすことが予想されます。ポジティブな側面としては、業務の効率化や新しいサービスの創出が挙げられますが、同時に従来のエンジニアの需要が減少するリスクも存在します。このため、SES事業は変革の時期にあり、企業は適応力を求められています。\n",
      "\n",
      "#### 1. **業務効率化と人材の再教育**\n",
      "生成AIは、コードの自動生成やデバッグ支援、ドキュメント作成の自動化を通じて、エンジニアの負担を軽減し、よりクリエイティブな作業に集中できる環境を提供します。しかし、これにより従来のプログラミング業務が減少する可能性もあるため、企業はエンジニアに対してAIを活用するスキルの習得を促進し、再教育を行う必要があります。これにより、エンジニアは新たな価値を提供できるようになります。\n",
      "\n",
      "#### 2. **競争の激化と淘汰のリスク**\n",
      "SES事業においては、AIを活用できる企業が競争優位に立つ一方で、技術に追いつけない企業は淘汰されるリスクがあります。したがって、企業は生成AIを取り入れたビジネスモデルの構築や、AIと人間の協働を前提とした新しいサービスの提供に注力する必要があります。これにより、競争の中で生き残るための戦略を確立することが求められます。\n",
      "\n",
      "#### 3. **長期的なパートナーシップの構築**\n",
      "生成AIを活用することで、クライアントのニーズに迅速かつ的確に応えることが可能になります。これにより、SES事業はクライアントとの信頼関係を深め、長期的なパートナーシップを築くチャンスが増えるでしょう。ただし、これを実現するためには、企業は常に技術の進化に目を光らせ、柔軟に対応する姿勢が必要です。\n",
      "\n",
      "### 結論\n",
      "生成AIの進化はSES事業にとって新たな可能性をもたらす一方で、従来のビジネスモデルや人材の在り方に変革を迫るものでもあります。企業は、効率化を追求しつつも、エンジニアのスキル向上や新しいサービスの開発に注力することで、競争の中での生き残りを図る必要があります。未来は明るい可能性を秘めていますが、それを実現するためには現実的な戦略と柔軟な対応が不可欠です。\n"
     ]
    }
   ],
   "source": [
    "# 2つの意見を統合するためのプロンプトを作成\n",
    "synthesize_prompt=ChatPromptTemplate.from_messages(\n",
    "\t[\n",
    "\t\t# システムメッセージ：聡明で客観的な現実主義者として振る舞うよう指示\n",
    "\t\t(\"system\",\"あなたは聡明で客観的な現実主義者です。２つの意見を総合的にまとめて、より現実的な意見を詳細にください\"),\n",
    "\t\t# ユーザーからの入力：楽観的・悲観的意見を渡す\n",
    "\t\t(\"human\",\"楽観的意見:{optimistic_opinion}\\n悲観定期意見:{pessimistic_opinion}\")\n",
    "\t]\n",
    ")\n",
    "# 楽観主義者・悲観主義者チェーンを並列実行し、その出力をsynthesize_promptに渡すチェーンを作成\n",
    "synthesize_chain=(\n",
    "\tRunnableParallel(\n",
    "\t\t{\n",
    "\t\t\t\"optimistic_opinion\":optinistic_chain,\n",
    "\t\t\t\"pessimistic_opinion\":pessimistic_chain\n",
    "\t\t}\n",
    "\t)\n",
    "\t|synthesize_prompt\n",
    "\t|model\n",
    "\t|output_parser\n",
    ")\n",
    "# チェーンにトピックを渡して実行し、統合意見を取得\n",
    "output=synthesize_chain.invoke({\"topic\":\"生成AIの進化と、これからのSES事業の変化と勝ち筋について\"})\n",
    "# 統合意見を出力\n",
    "print(output)"
   ]
  },
  {
   "cell_type": "code",
   "execution_count": null,
   "metadata": {},
   "outputs": [
    {
     "name": "stdout",
     "output_type": "stream",
     "text": [
      "生成AIの進化に関する楽観的意見と悲観的意見を総合的に考慮すると、SES（システムエンジニアリングサービス）事業における現実的な見解は以下のようになります。\n",
      "\n",
      "### 現実的な意見\n",
      "\n",
      "生成AIの進化はSES事業に多くの機会を提供する一方で、リスクも伴います。以下のポイントを考慮することで、企業はこの変化に適応し、競争力を維持するための戦略を構築することができます。\n",
      "\n",
      "1. **業務効率化と人材の再配置**:\n",
      "   生成AIは業務の効率化を促進し、エンジニアがよりクリエイティブな作業に集中できる環境を提供しますが、同時に従来の業務が自動化されることで、エンジニアの需要が減少する可能性もあります。企業は、AIを活用して業務を効率化する一方で、エンジニアのスキルを再評価し、より高度な業務や新しい役割に再配置する必要があります。\n",
      "\n",
      "2. **新しいビジネスモデルの模索**:\n",
      "   生成AIを活用した新しいサービスの提供は、SES事業者にとって重要な戦略です。しかし、競争が激化する中で、差別化が難しくなる可能性があります。企業は、顧客のニーズを深く理解し、独自の価値を提供するためのイノベーションを追求することが求められます。\n",
      "\n",
      "3. **教育とスキルの向上**:\n",
      "   エンジニアが生成AIを効果的に活用するための教育やトレーニングプログラムの充実が不可欠です。AI技術の進化に追いつくためには、継続的な学習とスキルの向上が必要です。これにより、エンジニアは新しい技術に適応し、競争力を維持することができます。\n",
      "\n",
      "4. **協働とパートナーシップの強化**:\n",
      "   他の企業やスタートアップとの連携を強化することで、相互に補完し合い、より大きな価値を提供できるようになります。特に、AI技術を持つ企業とのパートナーシップは、SES事業者にとって重要な戦略となるでしょう。\n",
      "\n",
      "5. **リスク管理と適応力**:\n",
      "   SES事業は厳しい競争にさらされるため、企業はリスクを管理し、変化に柔軟に対応する能力を高める必要があります。市場の動向を常に把握し、迅速に戦略を見直すことが成功の鍵となります。\n",
      "\n",
      "### 結論\n",
      "生成AIの進化はSES事業に新たなチャンスをもたらす一方で、競争の激化や人材の再配置といった課題も伴います。企業は、効率化と人材の再配置、新しいビジネスモデルの模索、教育とスキルの向上、協働の強化、リスク管理を通じて、変化に適応し、持続可能な成長を目指すべきです。\n"
     ]
    }
   ],
   "source": [
    "# チェインの動作確認。同じことをやっているはず\n",
    "synthesize_chain2=parallel_chain|synthesize_prompt|model|output_parser\n",
    "output2=synthesize_chain2.invoke({\"topic\":\"生成AIの進化と、これからのSES事業の変化と勝ち筋について\"})\n",
    "print(output2)\n"
   ]
  },
  {
   "cell_type": "markdown",
   "metadata": {},
   "source": [
    "### RunnableLambda との組み合わせ―itemgetter を使う例\n"
   ]
  },
  {
   "cell_type": "code",
   "execution_count": null,
   "metadata": {},
   "outputs": [
    {
     "name": "stdout",
     "output_type": "stream",
     "text": [
      "生成AIの進化について\n"
     ]
    }
   ],
   "source": [
    "# operatorモジュールからitemgetter関数をインポート\n",
    "from operator import itemgetter\n",
    "\n",
    "# 辞書型でAIに関する情報を定義（トピックとタイトル）\n",
    "dec_about_ai={\"topic\":\"生成AIの進化について\",\"title\":\"生成AIの反乱\"}\n",
    "# \"topic\"キーの値を取得するためのitemgetterオブジェクトを作成\n",
    "topic_getter=itemgetter(\"topic\")\n",
    "# itemgetterを使って辞書から\"topic\"の値を取得\n",
    "topic=topic_getter(dec_about_ai)\n",
    "# 取得したトピックを出力\n",
    "print(topic)\n"
   ]
  },
  {
   "cell_type": "code",
   "execution_count": null,
   "metadata": {},
   "outputs": [
    {
     "name": "stdout",
     "output_type": "stream",
     "text": [
      "日本の少子高齢化は、確かに深刻な課題でありながら、同時に新たな機会をもたらす可能性も秘めています。この現象は、労働力不足や社会保障制度の持続可能性に対する懸念を引き起こしていますが、適切な対策を講じることで、社会全体の活力を高めるチャンスにもなり得ます。\n",
      "\n",
      "まず、少子高齢化によって高齢者の割合が増加する中で、彼らの知識や経験を活かすことが重要です。高齢者が労働市場に参加することで、労働力不足を補い、企業にとっても貴重な人材となります。これにより、経済の活性化が期待できるでしょう。また、高齢者向けの新しいビジネスモデルやサービスが生まれることで、経済成長の新たな原動力となる可能性もあります。\n",
      "\n",
      "一方で、少子化に対する対策も急務です。政府は保育所の整備や育児休暇の充実を進めており、これにより若い世代が安心して子どもを持つ環境を整えています。しかし、これらの施策が実際に効果を上げるためには、さらなる取り組みが必要です。例えば、働き方改革を進めることで、仕事と家庭の両立を支援し、若者が子育てをしやすい社会を実現することが求められます。\n",
      "\n",
      "また、テクノロジーの進化も重要な要素です。AIやロボット技術の発展により、高齢者の生活をサポートする新しいサービスが増えてきています。これにより、高齢者がより自立した生活を送ることができ、社会全体の活力が向上するでしょう。\n",
      "\n",
      "結論として、日本の少子高齢化は挑戦であると同時に、社会の変革や新しいビジネスチャンスを生むきっかけともなり得ます。悲観的な見方だけでなく、ポジティブな視点を持って、未来に向けた具体的な対策を講じていくことが重要です。社会全体で協力し、持続可能な未来を築くための取り組みを進めていく必要があります。\n"
     ]
    }
   ],
   "source": [
    "# operatorモジュールからitemgetter関数をインポートする\n",
    "from operator import itemgetter\n",
    "\n",
    "# ChatPromptTemplateを使って、AIへのプロンプト（指示文）を定義する\n",
    "synthesize_prompt=ChatPromptTemplate.from_messages(\n",
    "\t[\n",
    "\t\t# systemメッセージとしてAIに「{topic}について2つの意見をまとめて、より現実的で示唆に富んだ説得力のある意見にしてください」と指示している\n",
    "\t\t(\n",
    "\t\t\t\"system\",\n",
    "            \"あなたは客観的AIです。{topic}について2つの意見をまとめて、より現実的で示唆に富んだ説得力のある意見にしてください\"\n",
    "\t\t),\n",
    "\t\t(\n",
    "\t\t\t\"human\",\n",
    "\t\t\t\"楽観的意見:{optimistic_opinion}\\n悲観的意見:{pessimistic_opinion}\"\n",
    "\t\t)\n",
    "\t]\n",
    ")\n",
    "# ChatPromptTemplate.from_messagesで、systemメッセージとhumanメッセージをリストで指定している\n",
    "# systemメッセージではAIに対して「{topic}について2つの意見をまとめて、より現実的で示唆に富んだ説得力のある意見にしてください」と指示している\n",
    "# humanメッセージでは「楽観的意見:{optimistic_opinion}\\n悲観的意見:{pessimistic_opinion}」という形式で2つの意見を渡している\n",
    "\n",
    "# 各意見チェーンとトピック取得関数をまとめて、プロンプト・モデル・パーサーにパイプでつなぐチェーンを作成する\n",
    "synthesize_chain=(\n",
    "\t{\n",
    "\t\t\"optimistic_opinion\":optinistic_chain,\n",
    "\t\t\"pessimistic_opinion\":pessimistic_chain,\n",
    "\t\t\"topic\":itemgetter(\"topic\")\n",
    "\t}\n",
    "\t|synthesize_prompt\n",
    "\t|model\n",
    "\t|output_parser\n",
    ")\n",
    "# synthesize_chainは辞書で各意見チェーンとitemgetter(\"topic\")をまとめている\n",
    "# その後、synthesize_prompt（プロンプトテンプレート）、model（AIモデル）、output_parser（出力パーサー）をパイプでつないでいる\n",
    "\n",
    "# チェーンに「日本の少子高齢化について」というトピックを渡して実行し、結果を取得する\n",
    "output=synthesize_chain.invoke({\"topic\":\"日本の少子高齢化について\"})\n",
    "# synthesize_chain.invokeで{\"topic\":\"日本の少子高齢化について\"}という入力を渡している\n",
    "# その結果をoutput変数に格納している\n",
    "\n",
    "# 結果を出力する\n",
    "print(output)\n",
    "# print関数でoutputの内容を表示している\n"
   ]
  },
  {
   "cell_type": "markdown",
   "metadata": {},
   "source": [
    "## 5.4. RunnablePassthrough―入力をそのまま出力する\n"
   ]
  },
  {
   "cell_type": "code",
   "execution_count": 1,
   "metadata": {},
   "outputs": [
    {
     "name": "stdout",
     "output_type": "stream",
     "text": [
      "TAVILY_API_KEY が正常に設定されました。\n"
     ]
    }
   ],
   "source": [
    "# import os\n",
    "# from google.colab import userdata\n",
    "# os.environ[\"TAVILY_API_KEY\"] = userdata.get(\"TAVILY_API_KEY\")\n",
    "\n",
    "# GoogleColabのコードをローカルで使えるように改造した\n",
    "\n",
    "import os\n",
    "from dotenv import load_dotenv\n",
    "\n",
    "# 既に.envが読み込まれていない場合のみ読み込む\n",
    "if \"TAVILY_API_KEY\" not in os.environ:\n",
    "    current_working_directory = os.getcwd()\n",
    "    dotenv_path = os.path.join(current_working_directory, 'rag_ai_agent_book', '.env')\n",
    "    load_dotenv(dotenv_path=dotenv_path)\n",
    "\n",
    "tavily_api_key = os.getenv(\"TAVILY_API_KEY\")\n",
    "\n",
    "if tavily_api_key is None:\n",
    "    print(\"TAVILY_API_KEY 環境変数が設定されていません。\")\n",
    "    print(\"rag_ai_agent_book/ディレクトリの.envファイルにTavily APIキーを追加してください。\")\n",
    "    print(\"例: TAVILY_API_KEY=\\\"tvly-xxxxxxxxxxxxxxxxxxxxxxxxxxxxxxxxx\\\"\")\n",
    "else:\n",
    "    os.environ[\"TAVILY_API_KEY\"] = tavily_api_key\n",
    "    print(\"TAVILY_API_KEY が正常に設定されました。\")"
   ]
  },
  {
   "cell_type": "code",
   "execution_count": null,
   "metadata": {},
   "outputs": [
    {
     "name": "stdout",
     "output_type": "stream",
     "text": [
      "/Users/kenichi/Projects\n",
      "/Users/kenichi/Projects/rag_ai_agent_book/.env\n",
      "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\n"
     ]
    }
   ],
   "source": [
    "# 中身の確認の為のコード。.envを修正したらカーネルの再起動が必要だった\n",
    "print(current_working_directory)\n",
    "print(dotenv_path)\n",
    "print(tavily_api_key)"
   ]
  },
  {
   "cell_type": "code",
   "execution_count": 5,
   "metadata": {},
   "outputs": [],
   "source": [
    "# ChatPromptTemplateとChatOpenAIを使ってプロンプトとモデルを定義している\n",
    "from langchain_core.prompts import ChatPromptTemplate\n",
    "from langchain_openai import ChatOpenAI\n",
    "\n",
    "prompt = ChatPromptTemplate.from_template('''\\\n",
    "以下の文脈だけを踏まえて質問に回答してください。\n",
    "文脈: \"\"\"\n",
    "{context}\n",
    "\"\"\"\n",
    "質問: {question}\n",
    "''')\n",
    "model = ChatOpenAI(model_name=\"gpt-4o-mini\", temperature=0)"
   ]
  },
  {
   "cell_type": "code",
   "execution_count": 6,
   "metadata": {},
   "outputs": [],
   "source": [
    "# Tavilyの検索APIリトリーバーをk=3で初期化\n",
    "from langchain_community.retrievers import TavilySearchAPIRetriever\n",
    "retriever = TavilySearchAPIRetriever(k=3)"
   ]
  },
  {
   "cell_type": "code",
   "execution_count": 19,
   "metadata": {},
   "outputs": [
    {
     "name": "stdout",
     "output_type": "stream",
     "text": [
      "埼玉県戸田市の明日、7月14日（火）の天気は「雨時々曇」で、最高気温は28℃です。\n"
     ]
    }
   ],
   "source": [
    "from langchain_core.runnables import RunnablePassthrough\n",
    "from langchain_core.output_parsers import StrOutputParser\n",
    "\n",
    "# RunnablePassthrough()は、入力値をそのまま次の処理に渡すためのランナブルです。\n",
    "# ここでは、\"question\"キーに入力された値（ユーザーからの質問）をそのままチェーンに流しています。\n",
    "chain=(\n",
    "\t{\"context\":retriever,\"question\":RunnablePassthrough()}\n",
    "\t|prompt\n",
    "\t|model\n",
    "\t|StrOutputParser()\n",
    ")\n",
    "\n",
    "output=chain.invoke(\"埼玉県戸田市の明日の天気と最高気温を教えて\")\n",
    "print(output)"
   ]
  },
  {
   "cell_type": "markdown",
   "metadata": {},
   "source": [
    "### assign―RunnableParallel に値を追加する\n"
   ]
  },
  {
   "cell_type": "code",
   "execution_count": 21,
   "metadata": {},
   "outputs": [
    {
     "name": "stdout",
     "output_type": "stream",
     "text": [
      "{'answer': 'アシックスのGEL-NIMBUS '\n",
      "           '27の魅力は、安定性とクッション性が両立している点です。重量感があるものの、抜群の安心感を提供し、中〜長距離ランナーにとって非常に適したシューズです。また、ジョグやリカバリーに最良とされており、足がぐらつきにくく、路面をしっかり捉えることで膝や足首への負担を軽減します。これにより、長距離を走った後の疲労感も少なく感じられるため、他のシューズと比べて優れたパフォーマンスを発揮します。',\n",
      " 'context': [Document(metadata={'title': '【レビュー】ASICS GEL‑Nimbus 27｜雲の上の履き心地！超厚底で ...', 'source': 'https://note.com/joyful_worm2025/n/n50e0c9747b63', 'score': 0.7274535, 'images': []}, page_content='**「安定性とクッション性が両立している」**：重量感があるものの、抜群の安心感が魅力 。 **「ジョグとリカバリーに最良」**：中〜長距離ランナーからの'),\n",
      "             Document(metadata={'title': 'GEL-NIMBUS 27｜走る楽しさに、ココロはずませよう。 - ASICS', 'source': 'https://www.asics.com/jp/ja-jp/mk/running/nimbus', 'score': 0.67243975, 'images': []}, page_content='Missing: 魅力 ところ 教え'),\n",
      "             Document(metadata={'title': '【徹底比較】アシックス「GEL-KAYANO 32」VS「GEL-NIMBUS 27 ...', 'source': 'https://runstagramer.com/2025/06/09/asics_kayano_vs_nimbus/', 'score': 0.6219319, 'images': []}, page_content='足がぐらつきにくく、常に路面をしっかり捉えているような安心感があります。膝や足首への負担が軽減され、長距離を走り終えた後の疲労感も少なく感じまし')],\n",
      " 'question': 'アシックスのGEL-NIMBUS27の魅力と他商品に比べて優れているところを教えて'}\n"
     ]
    }
   ],
   "source": [
    "import pprint\n",
    "\n",
    "# assign()は、既存のランナブル（ここでは辞書）に新たなキーと値（ここでは\"answer\"）を追加するメソッドです。\n",
    "# \"answer\"の値には、prompt | model | StrOutputParser() というチェーンを指定しており、\n",
    "# これはpromptでプロンプトを生成し、modelでAIモデルに投げ、StrOutputParser()で文字列として出力をパースします。\n",
    "# assign()を使うことで、元の入力情報（question, context）に加えて、AIの回答（answer）も含めた複合的な出力を得ることができます。\n",
    "chain={\n",
    "\t\"question\":RunnablePassthrough(),\n",
    "\t\"context\":retriever,\n",
    "}|RunnablePassthrough.assign(answer=prompt|model|StrOutputParser())\n",
    "\n",
    "output=chain.invoke(\"アシックスのGEL-NIMBUS27の魅力と他商品に比べて優れているところを教えて\")\n",
    "pprint.pprint(output)"
   ]
  },
  {
   "cell_type": "markdown",
   "metadata": {},
   "source": [
    "#### ＜補足：pick ＞\n"
   ]
  },
  {
   "cell_type": "code",
   "execution_count": null,
   "metadata": {
    "execution": {
     "iopub.execute_input": "2024-06-28T02:34:27.725885Z",
     "iopub.status.busy": "2024-06-28T02:34:27.725708Z",
     "iopub.status.idle": "2024-06-28T02:34:34.101909Z",
     "shell.execute_reply": "2024-06-28T02:34:34.101439Z"
    }
   },
   "outputs": [],
   "source": [
    "chain = (\n",
    "    RunnableParallel(\n",
    "        {\n",
    "            \"question\": RunnablePassthrough(),\n",
    "            \"context\": retriever,\n",
    "        }\n",
    "    )\n",
    "    .assign(answer=prompt | model | StrOutputParser())\n",
    "    .pick([\"context\", \"answer\"])\n",
    ")\n",
    "output = chain.invoke(\"東京の今日の天気は？\")\n",
    "print(output)"
   ]
  },
  {
   "cell_type": "markdown",
   "metadata": {},
   "source": [
    "### （コラム）astream_events\n"
   ]
  },
  {
   "cell_type": "code",
   "execution_count": null,
   "metadata": {},
   "outputs": [],
   "source": [
    "# Google Colabでは次のコードの「async」の箇所に「Use of \"async\" not allowed outside of async function」と表示されますが、エラーなく実行できます"
   ]
  },
  {
   "cell_type": "code",
   "execution_count": 22,
   "metadata": {
    "execution": {
     "iopub.execute_input": "2024-06-28T02:34:34.103973Z",
     "iopub.status.busy": "2024-06-28T02:34:34.103802Z",
     "iopub.status.idle": "2024-06-28T02:34:34.107769Z",
     "shell.execute_reply": "2024-06-28T02:34:34.107274Z"
    }
   },
   "outputs": [
    {
     "name": "stdout",
     "output_type": "stream",
     "text": [
      "{'event': 'on_chain_start', 'data': {'input': '東京の今日の天気は？'}, 'name': 'RunnableSequence', 'tags': [], 'run_id': '2d52b46f-7fc1-454e-8e68-fee50456929e', 'metadata': {}, 'parent_ids': []}\n",
      "{'event': 'on_chain_start', 'data': {}, 'name': 'RunnableParallel<context,question>', 'tags': ['seq:step:1'], 'run_id': '9e963d1a-614c-4364-add1-811a67bbd08b', 'metadata': {}, 'parent_ids': ['2d52b46f-7fc1-454e-8e68-fee50456929e']}\n",
      "{'event': 'on_retriever_start', 'data': {'input': {'query': '東京の今日の天気は？'}}, 'name': 'TavilySearchAPIRetriever', 'tags': ['map:key:context'], 'run_id': 'a6b3ff38-3f88-4912-970c-40ac9f8f5021', 'metadata': {'ls_retriever_name': 'tavilysearchapi'}, 'parent_ids': ['2d52b46f-7fc1-454e-8e68-fee50456929e', '9e963d1a-614c-4364-add1-811a67bbd08b']}\n",
      "{'event': 'on_chain_start', 'data': {}, 'name': 'RunnablePassthrough', 'tags': ['map:key:question'], 'run_id': 'bcd749d9-aca1-404f-ba25-20416759273d', 'metadata': {}, 'parent_ids': ['2d52b46f-7fc1-454e-8e68-fee50456929e', '9e963d1a-614c-4364-add1-811a67bbd08b']}\n",
      "{'event': 'on_chain_stream', 'run_id': 'bcd749d9-aca1-404f-ba25-20416759273d', 'name': 'RunnablePassthrough', 'tags': ['map:key:question'], 'metadata': {}, 'data': {'chunk': '東京の今日の天気は？'}, 'parent_ids': ['2d52b46f-7fc1-454e-8e68-fee50456929e', '9e963d1a-614c-4364-add1-811a67bbd08b']}\n",
      "{'event': 'on_chain_stream', 'run_id': '9e963d1a-614c-4364-add1-811a67bbd08b', 'name': 'RunnableParallel<context,question>', 'tags': ['seq:step:1'], 'metadata': {}, 'data': {'chunk': {'question': '東京の今日の天気は？'}}, 'parent_ids': ['2d52b46f-7fc1-454e-8e68-fee50456929e']}\n",
      "{'event': 'on_chain_end', 'data': {'output': '東京の今日の天気は？', 'input': '東京の今日の天気は？'}, 'run_id': 'bcd749d9-aca1-404f-ba25-20416759273d', 'name': 'RunnablePassthrough', 'tags': ['map:key:question'], 'metadata': {}, 'parent_ids': ['2d52b46f-7fc1-454e-8e68-fee50456929e', '9e963d1a-614c-4364-add1-811a67bbd08b']}\n",
      "{'event': 'on_retriever_end', 'data': {'output': [Document(metadata={'title': '東京都の天気 - 日本気象協会 tenki.jp', 'source': 'https://tenki.jp/forecast/3/16/', 'score': 0.7803451, 'images': []}, page_content='# tenki.jp 雨雲レーダー) 天気図 PM2.5分布予測 地震情報 日直予報士 熱中症情報 東京都の天気 ### 05月29日(木) 東京都の天気 曇のち雨 曇のち雨 曇のち雨 曇のち雨 曇のち雨 曇のち雨 曇のち雨 曇のち雨 晴時々曇 曇のち雨 曇のち雨 曇のち雨 曇のち雨 曇のち雨 最新の天気履歴 渋谷区 曇のち雨 豊島区 曇のち雨 江東区 曇のち雨 港区 曇のち雨 大田区 曇のち雨 府中市 曇のち雨 奥多摩町 曇のち雨 関東・甲信 ### 気象予報士のポイント解説(日直予報士) newマーク 関東甲信\\u3000今日29日は天気下り坂\\u3000昼頃から所々で雨雲が湧く\\u3000夜は広く雨に 関東甲信\\u3000今日29日は天気下り坂\\u3000昼頃から所々で雨雲が湧く\\u3000夜は広く雨に newマーク 今日29日は気圧が低下\\u3000沖縄や九州から近畿は影響度「大」の所も\\u3000頭痛など注意 今日29日は気圧が低下\\u3000沖縄や九州から近畿は影響度「大」の所も\\u3000頭痛など注意 今日29日\\u3000九州から関東は次第に雨\\u3000東北と北海道は晴れて気温上昇\\u3000真夏日も 今日29日\\u3000九州から関東は次第に雨\\u3000東北と北海道は晴れて気温上昇\\u3000真夏日も ### 東京都各地の天気 #### 東京23区 #### 多摩 #### 伊豆諸島北部(大島) #### 伊豆諸島南部(八丈島) #### 小笠原諸島(父島) ### おすすめ記事 LINEの友達追加 ### 天気ガイド 雨雲 ### 注目の情報 アプリに便利なサブスクプラン開始 「tenki.jpライト」なら現在地の雨雲接近通知が受け取れる！ 新サービス「気圧予報」 気圧変化を確認して、頭痛やめまい、倦怠感といった症状に備えましょう。 X（旧Twitter） tenki.jpの公式X（旧Twitter） 最新の気象・防災情報や、生活に役立つ情報を毎日リアルタイムに配信中！ 天気予報 観測 防災情報 天気図 指数情報 レジャー天気 季節特集 天気ニュース X(旧：Twitter) Youtube Facebook Instagram LINEの友達追加 tenki.jp tenki.jp tenki.jp 登山天気 tenki.jp 登山天気 全国のコンテンツ tenki.jpトップ 天気予報 観測 防災情報 天気図'), Document(metadata={'title': '東京（東京）の天気 - Yahoo!天気・災害', 'source': 'https://weather.yahoo.co.jp/weather/jp/13/4410.html', 'score': 0.71185225, 'images': []}, page_content='東京（東京）の天気 - Yahoo! - Yahoo! Yahoo! | 6月25日(水)  曇一時雨曇一時雨   - *29*℃[-1] - *25*℃[-1]  |  |  |  |  |  | | --- | --- | --- | --- | --- | | 時間 | 0-6 | 6-12 | 12-18 | 18-24 | | 降水 | --- | --- | --- | 50％ |   風：  南東の風後北東の風  波：  0.5メートル | 6月26日(木)  曇一時雨曇一時雨   - *31*℃[+2] - *25*℃[0]  |  |  |  |  |  | | --- | --- | --- | --- | --- | | 時間 | 0-6 | 6-12 | 12-18 | 18-24 | | 降水 | 70％ | 20％ | 20％ | 40％ |   風：  北の風後南の風２３区西部では南西の風やや強く  波：  0.5メートル後1.5メートル | - 6月25日(水) - 6月26日(木) (C) LY Corporation Yahoo! (C) LY Corporation Yahoo! cpt_n=safetymail&cpt_m=bnr&cpt_s=yahoo&cpt_c=weatherbnr) Yahoo!'), Document(metadata={'title': '東京の天気予報 - ウェザーニュース', 'source': 'https://weathernews.jp/onebox/tenki/tokyo/', 'score': 0.6778372, 'images': []}, page_content='{{item.cityname}} {{item.high}} {{item.low}} è\\x87ªç\\x84¶ã\\x83»å\\xad£ç¯\\x80ã\\x83»ã\\x83¬ã\\x82¸ã\\x83£ã\\x83¼æ\\x83\\x85å ± æ¢\\x85é\\x9b¨æ\\x83\\x85å ± è\\x8a±ç²\\x89é£\\x9bæ\\x95£æ\\x83\\x85å ± å\\x9c°é\\x9c\\x87æ\\x83\\x85å ± å\\x8f°é¢¨æ\\x83\\x85å ± é\\x95·æ\\x9c\\x9fäº\\x88å ± å\\x8f°é¢¨æ\\x83\\x85å ± å\\x9c°é\\x9c\\x87æ\\x83\\x85å ± æ´¥æ³¢æ\\x83\\x85å ± ç\\x81«å±±æ\\x83\\x85å ± æ¸\\x9bç\\x81½æ\\x83\\x85å ± é\\x81¿é\\x9b£æ\\x83\\x85å ± ã\\x81\\x95ã\\x81\\x8fã\\x82\\x89é\\x96\\x8bè\\x8a±æ\\x83\\x85å ± ã\\x82¹ã\\x82\\xadã\\x83¼ï¼\\x86ã\\x82¹ã\\x83\\x8eã\\x83\\x9cæ\\x83\\x85å ± è\\x8a±ç\\x81«å¤©æ°\\x97 Ch. ã\\x81»ã\\x81\\x9fã\\x82\\x8bæ\\x83\\x85å ± ã\\x81\\x82ã\\x81\\x98ã\\x81\\x95ã\\x81\\x84æ\\x83\\x85å ± æ\\x98\\x9fç©ºæ\\x83\\x85å ± å\\x88\\x9dæ\\x97¥ã\\x81®å\\x87ºæ\\x83\\x85å ± å\\x88\\x9dè©£æ\\x83\\x85å ± ç´\\x85è\\x91\\x89æ\\x83\\x85å ± ã\\x82¤ã\\x83«ã\\x83\\x9fã\\x83\\x8dã\\x83¼ã\\x82·ã\\x83§ã\\x83³æ\\x83\\x85å ± è\\x8a±ç²\\x89é£\\x9bæ\\x95£æ\\x83\\x85å ± å¤©æ°\\x97ç\\x97\\x9bäº\\x88å ± ç\\x86±ä¸\\xadç\\x97\\x87äº\\x88å ± ç´«å¤\\x96ç·\\x9aäº\\x88å ± æ\\x9c\\x8dè£\\x85äº\\x88å ± ã\\x81\\x8aæ´\\x97æ¿¯æ\\x83\\x85å ± Labs Ch. # æ\\x9d±äº¬ã\\x81®å¤©æ°\\x97äº\\x88å ± ## {{pref\\\\_jp}}{{cityname}}ã\\x81®1æ\\x99\\x82é\\x96\\x93æ¯\\x8eã\\x81®å¤©æ°\\x97 {{daily.date}}æ\\x97¥{{daily.youbi\\\\_str}} {{hourly.time}} {{hourly.prec}} {{hourly.temp}} {{hourly.wndspd}} ## {{pref\\\\_jp}}{{cityname}}ã\\x81®é\\x80±é\\x96\\x93å¤©æ°\\x97äº\\x88å ±ï¼\\x8810æ\\x97¥é\\x96\\x93ï¼\\x89 {{item.date}}   {{item.youbi\\\\_str}} {{item.high}} {{item.low}} {{item.pop}} ## å¸\\x82å\\x8cºç\\x94ºæ\\x9d\\x91å\\x88¥ã\\x81®å¤©æ°\\x97äº\\x88å ± {{point.rank}} ({{point.pref}}) ({{point.dateRecord}}) ## å\\x90\\x84ã\\x82¨ã\\x83ªã\\x82¢ã\\x81®å¤©æ°\\x97äº\\x88å ± {{point.rank}} ({{point.pref}}) ({{point.dateRecord}}) ### è\\x87ªç\\x84¶ã\\x83»å\\xad£ç¯\\x80ã\\x83»ã\\x83¬ã\\x82¸ã\\x83£ã\\x83¼æ\\x83\\x85å ±')], 'input': {'query': '東京の今日の天気は？'}}, 'run_id': 'a6b3ff38-3f88-4912-970c-40ac9f8f5021', 'name': 'TavilySearchAPIRetriever', 'tags': ['map:key:context'], 'metadata': {'ls_retriever_name': 'tavilysearchapi'}, 'parent_ids': ['2d52b46f-7fc1-454e-8e68-fee50456929e', '9e963d1a-614c-4364-add1-811a67bbd08b']}\n",
      "{'event': 'on_chain_stream', 'run_id': '9e963d1a-614c-4364-add1-811a67bbd08b', 'name': 'RunnableParallel<context,question>', 'tags': ['seq:step:1'], 'metadata': {}, 'data': {'chunk': {'context': [Document(metadata={'title': '東京都の天気 - 日本気象協会 tenki.jp', 'source': 'https://tenki.jp/forecast/3/16/', 'score': 0.7803451, 'images': []}, page_content='# tenki.jp 雨雲レーダー) 天気図 PM2.5分布予測 地震情報 日直予報士 熱中症情報 東京都の天気 ### 05月29日(木) 東京都の天気 曇のち雨 曇のち雨 曇のち雨 曇のち雨 曇のち雨 曇のち雨 曇のち雨 曇のち雨 晴時々曇 曇のち雨 曇のち雨 曇のち雨 曇のち雨 曇のち雨 最新の天気履歴 渋谷区 曇のち雨 豊島区 曇のち雨 江東区 曇のち雨 港区 曇のち雨 大田区 曇のち雨 府中市 曇のち雨 奥多摩町 曇のち雨 関東・甲信 ### 気象予報士のポイント解説(日直予報士) newマーク 関東甲信\\u3000今日29日は天気下り坂\\u3000昼頃から所々で雨雲が湧く\\u3000夜は広く雨に 関東甲信\\u3000今日29日は天気下り坂\\u3000昼頃から所々で雨雲が湧く\\u3000夜は広く雨に newマーク 今日29日は気圧が低下\\u3000沖縄や九州から近畿は影響度「大」の所も\\u3000頭痛など注意 今日29日は気圧が低下\\u3000沖縄や九州から近畿は影響度「大」の所も\\u3000頭痛など注意 今日29日\\u3000九州から関東は次第に雨\\u3000東北と北海道は晴れて気温上昇\\u3000真夏日も 今日29日\\u3000九州から関東は次第に雨\\u3000東北と北海道は晴れて気温上昇\\u3000真夏日も ### 東京都各地の天気 #### 東京23区 #### 多摩 #### 伊豆諸島北部(大島) #### 伊豆諸島南部(八丈島) #### 小笠原諸島(父島) ### おすすめ記事 LINEの友達追加 ### 天気ガイド 雨雲 ### 注目の情報 アプリに便利なサブスクプラン開始 「tenki.jpライト」なら現在地の雨雲接近通知が受け取れる！ 新サービス「気圧予報」 気圧変化を確認して、頭痛やめまい、倦怠感といった症状に備えましょう。 X（旧Twitter） tenki.jpの公式X（旧Twitter） 最新の気象・防災情報や、生活に役立つ情報を毎日リアルタイムに配信中！ 天気予報 観測 防災情報 天気図 指数情報 レジャー天気 季節特集 天気ニュース X(旧：Twitter) Youtube Facebook Instagram LINEの友達追加 tenki.jp tenki.jp tenki.jp 登山天気 tenki.jp 登山天気 全国のコンテンツ tenki.jpトップ 天気予報 観測 防災情報 天気図'), Document(metadata={'title': '東京（東京）の天気 - Yahoo!天気・災害', 'source': 'https://weather.yahoo.co.jp/weather/jp/13/4410.html', 'score': 0.71185225, 'images': []}, page_content='東京（東京）の天気 - Yahoo! - Yahoo! Yahoo! | 6月25日(水)  曇一時雨曇一時雨   - *29*℃[-1] - *25*℃[-1]  |  |  |  |  |  | | --- | --- | --- | --- | --- | | 時間 | 0-6 | 6-12 | 12-18 | 18-24 | | 降水 | --- | --- | --- | 50％ |   風：  南東の風後北東の風  波：  0.5メートル | 6月26日(木)  曇一時雨曇一時雨   - *31*℃[+2] - *25*℃[0]  |  |  |  |  |  | | --- | --- | --- | --- | --- | | 時間 | 0-6 | 6-12 | 12-18 | 18-24 | | 降水 | 70％ | 20％ | 20％ | 40％ |   風：  北の風後南の風２３区西部では南西の風やや強く  波：  0.5メートル後1.5メートル | - 6月25日(水) - 6月26日(木) (C) LY Corporation Yahoo! (C) LY Corporation Yahoo! cpt_n=safetymail&cpt_m=bnr&cpt_s=yahoo&cpt_c=weatherbnr) Yahoo!'), Document(metadata={'title': '東京の天気予報 - ウェザーニュース', 'source': 'https://weathernews.jp/onebox/tenki/tokyo/', 'score': 0.6778372, 'images': []}, page_content='{{item.cityname}} {{item.high}} {{item.low}} è\\x87ªç\\x84¶ã\\x83»å\\xad£ç¯\\x80ã\\x83»ã\\x83¬ã\\x82¸ã\\x83£ã\\x83¼æ\\x83\\x85å ± æ¢\\x85é\\x9b¨æ\\x83\\x85å ± è\\x8a±ç²\\x89é£\\x9bæ\\x95£æ\\x83\\x85å ± å\\x9c°é\\x9c\\x87æ\\x83\\x85å ± å\\x8f°é¢¨æ\\x83\\x85å ± é\\x95·æ\\x9c\\x9fäº\\x88å ± å\\x8f°é¢¨æ\\x83\\x85å ± å\\x9c°é\\x9c\\x87æ\\x83\\x85å ± æ´¥æ³¢æ\\x83\\x85å ± ç\\x81«å±±æ\\x83\\x85å ± æ¸\\x9bç\\x81½æ\\x83\\x85å ± é\\x81¿é\\x9b£æ\\x83\\x85å ± ã\\x81\\x95ã\\x81\\x8fã\\x82\\x89é\\x96\\x8bè\\x8a±æ\\x83\\x85å ± ã\\x82¹ã\\x82\\xadã\\x83¼ï¼\\x86ã\\x82¹ã\\x83\\x8eã\\x83\\x9cæ\\x83\\x85å ± è\\x8a±ç\\x81«å¤©æ°\\x97 Ch. ã\\x81»ã\\x81\\x9fã\\x82\\x8bæ\\x83\\x85å ± ã\\x81\\x82ã\\x81\\x98ã\\x81\\x95ã\\x81\\x84æ\\x83\\x85å ± æ\\x98\\x9fç©ºæ\\x83\\x85å ± å\\x88\\x9dæ\\x97¥ã\\x81®å\\x87ºæ\\x83\\x85å ± å\\x88\\x9dè©£æ\\x83\\x85å ± ç´\\x85è\\x91\\x89æ\\x83\\x85å ± ã\\x82¤ã\\x83«ã\\x83\\x9fã\\x83\\x8dã\\x83¼ã\\x82·ã\\x83§ã\\x83³æ\\x83\\x85å ± è\\x8a±ç²\\x89é£\\x9bæ\\x95£æ\\x83\\x85å ± å¤©æ°\\x97ç\\x97\\x9bäº\\x88å ± ç\\x86±ä¸\\xadç\\x97\\x87äº\\x88å ± ç´«å¤\\x96ç·\\x9aäº\\x88å ± æ\\x9c\\x8dè£\\x85äº\\x88å ± ã\\x81\\x8aæ´\\x97æ¿¯æ\\x83\\x85å ± Labs Ch. # æ\\x9d±äº¬ã\\x81®å¤©æ°\\x97äº\\x88å ± ## {{pref\\\\_jp}}{{cityname}}ã\\x81®1æ\\x99\\x82é\\x96\\x93æ¯\\x8eã\\x81®å¤©æ°\\x97 {{daily.date}}æ\\x97¥{{daily.youbi\\\\_str}} {{hourly.time}} {{hourly.prec}} {{hourly.temp}} {{hourly.wndspd}} ## {{pref\\\\_jp}}{{cityname}}ã\\x81®é\\x80±é\\x96\\x93å¤©æ°\\x97äº\\x88å ±ï¼\\x8810æ\\x97¥é\\x96\\x93ï¼\\x89 {{item.date}}   {{item.youbi\\\\_str}} {{item.high}} {{item.low}} {{item.pop}} ## å¸\\x82å\\x8cºç\\x94ºæ\\x9d\\x91å\\x88¥ã\\x81®å¤©æ°\\x97äº\\x88å ± {{point.rank}} ({{point.pref}}) ({{point.dateRecord}}) ## å\\x90\\x84ã\\x82¨ã\\x83ªã\\x82¢ã\\x81®å¤©æ°\\x97äº\\x88å ± {{point.rank}} ({{point.pref}}) ({{point.dateRecord}}) ### è\\x87ªç\\x84¶ã\\x83»å\\xad£ç¯\\x80ã\\x83»ã\\x83¬ã\\x82¸ã\\x83£ã\\x83¼æ\\x83\\x85å ±')]}}, 'parent_ids': ['2d52b46f-7fc1-454e-8e68-fee50456929e']}\n",
      "{'event': 'on_chain_end', 'data': {'output': {'question': '東京の今日の天気は？', 'context': [Document(metadata={'title': '東京都の天気 - 日本気象協会 tenki.jp', 'source': 'https://tenki.jp/forecast/3/16/', 'score': 0.7803451, 'images': []}, page_content='# tenki.jp 雨雲レーダー) 天気図 PM2.5分布予測 地震情報 日直予報士 熱中症情報 東京都の天気 ### 05月29日(木) 東京都の天気 曇のち雨 曇のち雨 曇のち雨 曇のち雨 曇のち雨 曇のち雨 曇のち雨 曇のち雨 晴時々曇 曇のち雨 曇のち雨 曇のち雨 曇のち雨 曇のち雨 最新の天気履歴 渋谷区 曇のち雨 豊島区 曇のち雨 江東区 曇のち雨 港区 曇のち雨 大田区 曇のち雨 府中市 曇のち雨 奥多摩町 曇のち雨 関東・甲信 ### 気象予報士のポイント解説(日直予報士) newマーク 関東甲信\\u3000今日29日は天気下り坂\\u3000昼頃から所々で雨雲が湧く\\u3000夜は広く雨に 関東甲信\\u3000今日29日は天気下り坂\\u3000昼頃から所々で雨雲が湧く\\u3000夜は広く雨に newマーク 今日29日は気圧が低下\\u3000沖縄や九州から近畿は影響度「大」の所も\\u3000頭痛など注意 今日29日は気圧が低下\\u3000沖縄や九州から近畿は影響度「大」の所も\\u3000頭痛など注意 今日29日\\u3000九州から関東は次第に雨\\u3000東北と北海道は晴れて気温上昇\\u3000真夏日も 今日29日\\u3000九州から関東は次第に雨\\u3000東北と北海道は晴れて気温上昇\\u3000真夏日も ### 東京都各地の天気 #### 東京23区 #### 多摩 #### 伊豆諸島北部(大島) #### 伊豆諸島南部(八丈島) #### 小笠原諸島(父島) ### おすすめ記事 LINEの友達追加 ### 天気ガイド 雨雲 ### 注目の情報 アプリに便利なサブスクプラン開始 「tenki.jpライト」なら現在地の雨雲接近通知が受け取れる！ 新サービス「気圧予報」 気圧変化を確認して、頭痛やめまい、倦怠感といった症状に備えましょう。 X（旧Twitter） tenki.jpの公式X（旧Twitter） 最新の気象・防災情報や、生活に役立つ情報を毎日リアルタイムに配信中！ 天気予報 観測 防災情報 天気図 指数情報 レジャー天気 季節特集 天気ニュース X(旧：Twitter) Youtube Facebook Instagram LINEの友達追加 tenki.jp tenki.jp tenki.jp 登山天気 tenki.jp 登山天気 全国のコンテンツ tenki.jpトップ 天気予報 観測 防災情報 天気図'), Document(metadata={'title': '東京（東京）の天気 - Yahoo!天気・災害', 'source': 'https://weather.yahoo.co.jp/weather/jp/13/4410.html', 'score': 0.71185225, 'images': []}, page_content='東京（東京）の天気 - Yahoo! - Yahoo! Yahoo! | 6月25日(水)  曇一時雨曇一時雨   - *29*℃[-1] - *25*℃[-1]  |  |  |  |  |  | | --- | --- | --- | --- | --- | | 時間 | 0-6 | 6-12 | 12-18 | 18-24 | | 降水 | --- | --- | --- | 50％ |   風：  南東の風後北東の風  波：  0.5メートル | 6月26日(木)  曇一時雨曇一時雨   - *31*℃[+2] - *25*℃[0]  |  |  |  |  |  | | --- | --- | --- | --- | --- | | 時間 | 0-6 | 6-12 | 12-18 | 18-24 | | 降水 | 70％ | 20％ | 20％ | 40％ |   風：  北の風後南の風２３区西部では南西の風やや強く  波：  0.5メートル後1.5メートル | - 6月25日(水) - 6月26日(木) (C) LY Corporation Yahoo! (C) LY Corporation Yahoo! cpt_n=safetymail&cpt_m=bnr&cpt_s=yahoo&cpt_c=weatherbnr) Yahoo!'), Document(metadata={'title': '東京の天気予報 - ウェザーニュース', 'source': 'https://weathernews.jp/onebox/tenki/tokyo/', 'score': 0.6778372, 'images': []}, page_content='{{item.cityname}} {{item.high}} {{item.low}} è\\x87ªç\\x84¶ã\\x83»å\\xad£ç¯\\x80ã\\x83»ã\\x83¬ã\\x82¸ã\\x83£ã\\x83¼æ\\x83\\x85å ± æ¢\\x85é\\x9b¨æ\\x83\\x85å ± è\\x8a±ç²\\x89é£\\x9bæ\\x95£æ\\x83\\x85å ± å\\x9c°é\\x9c\\x87æ\\x83\\x85å ± å\\x8f°é¢¨æ\\x83\\x85å ± é\\x95·æ\\x9c\\x9fäº\\x88å ± å\\x8f°é¢¨æ\\x83\\x85å ± å\\x9c°é\\x9c\\x87æ\\x83\\x85å ± æ´¥æ³¢æ\\x83\\x85å ± ç\\x81«å±±æ\\x83\\x85å ± æ¸\\x9bç\\x81½æ\\x83\\x85å ± é\\x81¿é\\x9b£æ\\x83\\x85å ± ã\\x81\\x95ã\\x81\\x8fã\\x82\\x89é\\x96\\x8bè\\x8a±æ\\x83\\x85å ± ã\\x82¹ã\\x82\\xadã\\x83¼ï¼\\x86ã\\x82¹ã\\x83\\x8eã\\x83\\x9cæ\\x83\\x85å ± è\\x8a±ç\\x81«å¤©æ°\\x97 Ch. ã\\x81»ã\\x81\\x9fã\\x82\\x8bæ\\x83\\x85å ± ã\\x81\\x82ã\\x81\\x98ã\\x81\\x95ã\\x81\\x84æ\\x83\\x85å ± æ\\x98\\x9fç©ºæ\\x83\\x85å ± å\\x88\\x9dæ\\x97¥ã\\x81®å\\x87ºæ\\x83\\x85å ± å\\x88\\x9dè©£æ\\x83\\x85å ± ç´\\x85è\\x91\\x89æ\\x83\\x85å ± ã\\x82¤ã\\x83«ã\\x83\\x9fã\\x83\\x8dã\\x83¼ã\\x82·ã\\x83§ã\\x83³æ\\x83\\x85å ± è\\x8a±ç²\\x89é£\\x9bæ\\x95£æ\\x83\\x85å ± å¤©æ°\\x97ç\\x97\\x9bäº\\x88å ± ç\\x86±ä¸\\xadç\\x97\\x87äº\\x88å ± ç´«å¤\\x96ç·\\x9aäº\\x88å ± æ\\x9c\\x8dè£\\x85äº\\x88å ± ã\\x81\\x8aæ´\\x97æ¿¯æ\\x83\\x85å ± Labs Ch. # æ\\x9d±äº¬ã\\x81®å¤©æ°\\x97äº\\x88å ± ## {{pref\\\\_jp}}{{cityname}}ã\\x81®1æ\\x99\\x82é\\x96\\x93æ¯\\x8eã\\x81®å¤©æ°\\x97 {{daily.date}}æ\\x97¥{{daily.youbi\\\\_str}} {{hourly.time}} {{hourly.prec}} {{hourly.temp}} {{hourly.wndspd}} ## {{pref\\\\_jp}}{{cityname}}ã\\x81®é\\x80±é\\x96\\x93å¤©æ°\\x97äº\\x88å ±ï¼\\x8810æ\\x97¥é\\x96\\x93ï¼\\x89 {{item.date}}   {{item.youbi\\\\_str}} {{item.high}} {{item.low}} {{item.pop}} ## å¸\\x82å\\x8cºç\\x94ºæ\\x9d\\x91å\\x88¥ã\\x81®å¤©æ°\\x97äº\\x88å ± {{point.rank}} ({{point.pref}}) ({{point.dateRecord}}) ## å\\x90\\x84ã\\x82¨ã\\x83ªã\\x82¢ã\\x81®å¤©æ°\\x97äº\\x88å ± {{point.rank}} ({{point.pref}}) ({{point.dateRecord}}) ### è\\x87ªç\\x84¶ã\\x83»å\\xad£ç¯\\x80ã\\x83»ã\\x83¬ã\\x82¸ã\\x83£ã\\x83¼æ\\x83\\x85å ±')]}, 'input': '東京の今日の天気は？'}, 'run_id': '9e963d1a-614c-4364-add1-811a67bbd08b', 'name': 'RunnableParallel<context,question>', 'tags': ['seq:step:1'], 'metadata': {}, 'parent_ids': ['2d52b46f-7fc1-454e-8e68-fee50456929e']}\n",
      "{'event': 'on_prompt_start', 'data': {'input': {'question': '東京の今日の天気は？', 'context': [Document(metadata={'title': '東京都の天気 - 日本気象協会 tenki.jp', 'source': 'https://tenki.jp/forecast/3/16/', 'score': 0.7803451, 'images': []}, page_content='# tenki.jp 雨雲レーダー) 天気図 PM2.5分布予測 地震情報 日直予報士 熱中症情報 東京都の天気 ### 05月29日(木) 東京都の天気 曇のち雨 曇のち雨 曇のち雨 曇のち雨 曇のち雨 曇のち雨 曇のち雨 曇のち雨 晴時々曇 曇のち雨 曇のち雨 曇のち雨 曇のち雨 曇のち雨 最新の天気履歴 渋谷区 曇のち雨 豊島区 曇のち雨 江東区 曇のち雨 港区 曇のち雨 大田区 曇のち雨 府中市 曇のち雨 奥多摩町 曇のち雨 関東・甲信 ### 気象予報士のポイント解説(日直予報士) newマーク 関東甲信\\u3000今日29日は天気下り坂\\u3000昼頃から所々で雨雲が湧く\\u3000夜は広く雨に 関東甲信\\u3000今日29日は天気下り坂\\u3000昼頃から所々で雨雲が湧く\\u3000夜は広く雨に newマーク 今日29日は気圧が低下\\u3000沖縄や九州から近畿は影響度「大」の所も\\u3000頭痛など注意 今日29日は気圧が低下\\u3000沖縄や九州から近畿は影響度「大」の所も\\u3000頭痛など注意 今日29日\\u3000九州から関東は次第に雨\\u3000東北と北海道は晴れて気温上昇\\u3000真夏日も 今日29日\\u3000九州から関東は次第に雨\\u3000東北と北海道は晴れて気温上昇\\u3000真夏日も ### 東京都各地の天気 #### 東京23区 #### 多摩 #### 伊豆諸島北部(大島) #### 伊豆諸島南部(八丈島) #### 小笠原諸島(父島) ### おすすめ記事 LINEの友達追加 ### 天気ガイド 雨雲 ### 注目の情報 アプリに便利なサブスクプラン開始 「tenki.jpライト」なら現在地の雨雲接近通知が受け取れる！ 新サービス「気圧予報」 気圧変化を確認して、頭痛やめまい、倦怠感といった症状に備えましょう。 X（旧Twitter） tenki.jpの公式X（旧Twitter） 最新の気象・防災情報や、生活に役立つ情報を毎日リアルタイムに配信中！ 天気予報 観測 防災情報 天気図 指数情報 レジャー天気 季節特集 天気ニュース X(旧：Twitter) Youtube Facebook Instagram LINEの友達追加 tenki.jp tenki.jp tenki.jp 登山天気 tenki.jp 登山天気 全国のコンテンツ tenki.jpトップ 天気予報 観測 防災情報 天気図'), Document(metadata={'title': '東京（東京）の天気 - Yahoo!天気・災害', 'source': 'https://weather.yahoo.co.jp/weather/jp/13/4410.html', 'score': 0.71185225, 'images': []}, page_content='東京（東京）の天気 - Yahoo! - Yahoo! Yahoo! | 6月25日(水)  曇一時雨曇一時雨   - *29*℃[-1] - *25*℃[-1]  |  |  |  |  |  | | --- | --- | --- | --- | --- | | 時間 | 0-6 | 6-12 | 12-18 | 18-24 | | 降水 | --- | --- | --- | 50％ |   風：  南東の風後北東の風  波：  0.5メートル | 6月26日(木)  曇一時雨曇一時雨   - *31*℃[+2] - *25*℃[0]  |  |  |  |  |  | | --- | --- | --- | --- | --- | | 時間 | 0-6 | 6-12 | 12-18 | 18-24 | | 降水 | 70％ | 20％ | 20％ | 40％ |   風：  北の風後南の風２３区西部では南西の風やや強く  波：  0.5メートル後1.5メートル | - 6月25日(水) - 6月26日(木) (C) LY Corporation Yahoo! (C) LY Corporation Yahoo! cpt_n=safetymail&cpt_m=bnr&cpt_s=yahoo&cpt_c=weatherbnr) Yahoo!'), Document(metadata={'title': '東京の天気予報 - ウェザーニュース', 'source': 'https://weathernews.jp/onebox/tenki/tokyo/', 'score': 0.6778372, 'images': []}, page_content='{{item.cityname}} {{item.high}} {{item.low}} è\\x87ªç\\x84¶ã\\x83»å\\xad£ç¯\\x80ã\\x83»ã\\x83¬ã\\x82¸ã\\x83£ã\\x83¼æ\\x83\\x85å ± æ¢\\x85é\\x9b¨æ\\x83\\x85å ± è\\x8a±ç²\\x89é£\\x9bæ\\x95£æ\\x83\\x85å ± å\\x9c°é\\x9c\\x87æ\\x83\\x85å ± å\\x8f°é¢¨æ\\x83\\x85å ± é\\x95·æ\\x9c\\x9fäº\\x88å ± å\\x8f°é¢¨æ\\x83\\x85å ± å\\x9c°é\\x9c\\x87æ\\x83\\x85å ± æ´¥æ³¢æ\\x83\\x85å ± ç\\x81«å±±æ\\x83\\x85å ± æ¸\\x9bç\\x81½æ\\x83\\x85å ± é\\x81¿é\\x9b£æ\\x83\\x85å ± ã\\x81\\x95ã\\x81\\x8fã\\x82\\x89é\\x96\\x8bè\\x8a±æ\\x83\\x85å ± ã\\x82¹ã\\x82\\xadã\\x83¼ï¼\\x86ã\\x82¹ã\\x83\\x8eã\\x83\\x9cæ\\x83\\x85å ± è\\x8a±ç\\x81«å¤©æ°\\x97 Ch. ã\\x81»ã\\x81\\x9fã\\x82\\x8bæ\\x83\\x85å ± ã\\x81\\x82ã\\x81\\x98ã\\x81\\x95ã\\x81\\x84æ\\x83\\x85å ± æ\\x98\\x9fç©ºæ\\x83\\x85å ± å\\x88\\x9dæ\\x97¥ã\\x81®å\\x87ºæ\\x83\\x85å ± å\\x88\\x9dè©£æ\\x83\\x85å ± ç´\\x85è\\x91\\x89æ\\x83\\x85å ± ã\\x82¤ã\\x83«ã\\x83\\x9fã\\x83\\x8dã\\x83¼ã\\x82·ã\\x83§ã\\x83³æ\\x83\\x85å ± è\\x8a±ç²\\x89é£\\x9bæ\\x95£æ\\x83\\x85å ± å¤©æ°\\x97ç\\x97\\x9bäº\\x88å ± ç\\x86±ä¸\\xadç\\x97\\x87äº\\x88å ± ç´«å¤\\x96ç·\\x9aäº\\x88å ± æ\\x9c\\x8dè£\\x85äº\\x88å ± ã\\x81\\x8aæ´\\x97æ¿¯æ\\x83\\x85å ± Labs Ch. # æ\\x9d±äº¬ã\\x81®å¤©æ°\\x97äº\\x88å ± ## {{pref\\\\_jp}}{{cityname}}ã\\x81®1æ\\x99\\x82é\\x96\\x93æ¯\\x8eã\\x81®å¤©æ°\\x97 {{daily.date}}æ\\x97¥{{daily.youbi\\\\_str}} {{hourly.time}} {{hourly.prec}} {{hourly.temp}} {{hourly.wndspd}} ## {{pref\\\\_jp}}{{cityname}}ã\\x81®é\\x80±é\\x96\\x93å¤©æ°\\x97äº\\x88å ±ï¼\\x8810æ\\x97¥é\\x96\\x93ï¼\\x89 {{item.date}}   {{item.youbi\\\\_str}} {{item.high}} {{item.low}} {{item.pop}} ## å¸\\x82å\\x8cºç\\x94ºæ\\x9d\\x91å\\x88¥ã\\x81®å¤©æ°\\x97äº\\x88å ± {{point.rank}} ({{point.pref}}) ({{point.dateRecord}}) ## å\\x90\\x84ã\\x82¨ã\\x83ªã\\x82¢ã\\x81®å¤©æ°\\x97äº\\x88å ± {{point.rank}} ({{point.pref}}) ({{point.dateRecord}}) ### è\\x87ªç\\x84¶ã\\x83»å\\xad£ç¯\\x80ã\\x83»ã\\x83¬ã\\x82¸ã\\x83£ã\\x83¼æ\\x83\\x85å ±')]}}, 'name': 'ChatPromptTemplate', 'tags': ['seq:step:2'], 'run_id': 'b57de69b-caf1-4cd2-8535-11ab0ce8b2d9', 'metadata': {}, 'parent_ids': ['2d52b46f-7fc1-454e-8e68-fee50456929e']}\n",
      "{'event': 'on_prompt_end', 'data': {'output': ChatPromptValue(messages=[HumanMessage(content='以下の文脈だけを踏まえて質問に回答してください。\\n文脈: \"\"\"\\n[Document(metadata={\\'title\\': \\'東京都の天気 - 日本気象協会 tenki.jp\\', \\'source\\': \\'https://tenki.jp/forecast/3/16/\\', \\'score\\': 0.7803451, \\'images\\': []}, page_content=\\'# tenki.jp 雨雲レーダー) 天気図 PM2.5分布予測 地震情報 日直予報士 熱中症情報 東京都の天気 ### 05月29日(木) 東京都の天気 曇のち雨 曇のち雨 曇のち雨 曇のち雨 曇のち雨 曇のち雨 曇のち雨 曇のち雨 晴時々曇 曇のち雨 曇のち雨 曇のち雨 曇のち雨 曇のち雨 最新の天気履歴 渋谷区 曇のち雨 豊島区 曇のち雨 江東区 曇のち雨 港区 曇のち雨 大田区 曇のち雨 府中市 曇のち雨 奥多摩町 曇のち雨 関東・甲信 ### 気象予報士のポイント解説(日直予報士) newマーク 関東甲信\\\\u3000今日29日は天気下り坂\\\\u3000昼頃から所々で雨雲が湧く\\\\u3000夜は広く雨に 関東甲信\\\\u3000今日29日は天気下り坂\\\\u3000昼頃から所々で雨雲が湧く\\\\u3000夜は広く雨に newマーク 今日29日は気圧が低下\\\\u3000沖縄や九州から近畿は影響度「大」の所も\\\\u3000頭痛など注意 今日29日は気圧が低下\\\\u3000沖縄や九州から近畿は影響度「大」の所も\\\\u3000頭痛など注意 今日29日\\\\u3000九州から関東は次第に雨\\\\u3000東北と北海道は晴れて気温上昇\\\\u3000真夏日も 今日29日\\\\u3000九州から関東は次第に雨\\\\u3000東北と北海道は晴れて気温上昇\\\\u3000真夏日も ### 東京都各地の天気 #### 東京23区 #### 多摩 #### 伊豆諸島北部(大島) #### 伊豆諸島南部(八丈島) #### 小笠原諸島(父島) ### おすすめ記事 LINEの友達追加 ### 天気ガイド 雨雲 ### 注目の情報 アプリに便利なサブスクプラン開始 「tenki.jpライト」なら現在地の雨雲接近通知が受け取れる！ 新サービス「気圧予報」 気圧変化を確認して、頭痛やめまい、倦怠感といった症状に備えましょう。 X（旧Twitter） tenki.jpの公式X（旧Twitter） 最新の気象・防災情報や、生活に役立つ情報を毎日リアルタイムに配信中！ 天気予報 観測 防災情報 天気図 指数情報 レジャー天気 季節特集 天気ニュース X(旧：Twitter) Youtube Facebook Instagram LINEの友達追加 tenki.jp tenki.jp tenki.jp 登山天気 tenki.jp 登山天気 全国のコンテンツ tenki.jpトップ 天気予報 観測 防災情報 天気図\\'), Document(metadata={\\'title\\': \\'東京（東京）の天気 - Yahoo!天気・災害\\', \\'source\\': \\'https://weather.yahoo.co.jp/weather/jp/13/4410.html\\', \\'score\\': 0.71185225, \\'images\\': []}, page_content=\\'東京（東京）の天気 - Yahoo! - Yahoo! Yahoo! | 6月25日(水)  曇一時雨曇一時雨   - *29*℃[-1] - *25*℃[-1]  |  |  |  |  |  | | --- | --- | --- | --- | --- | | 時間 | 0-6 | 6-12 | 12-18 | 18-24 | | 降水 | --- | --- | --- | 50％ |   風：  南東の風後北東の風  波：  0.5メートル | 6月26日(木)  曇一時雨曇一時雨   - *31*℃[+2] - *25*℃[0]  |  |  |  |  |  | | --- | --- | --- | --- | --- | | 時間 | 0-6 | 6-12 | 12-18 | 18-24 | | 降水 | 70％ | 20％ | 20％ | 40％ |   風：  北の風後南の風２３区西部では南西の風やや強く  波：  0.5メートル後1.5メートル | - 6月25日(水) - 6月26日(木) (C) LY Corporation Yahoo! (C) LY Corporation Yahoo! cpt_n=safetymail&cpt_m=bnr&cpt_s=yahoo&cpt_c=weatherbnr) Yahoo!\\'), Document(metadata={\\'title\\': \\'東京の天気予報 - ウェザーニュース\\', \\'source\\': \\'https://weathernews.jp/onebox/tenki/tokyo/\\', \\'score\\': 0.6778372, \\'images\\': []}, page_content=\\'{{item.cityname}} {{item.high}} {{item.low}} è\\\\x87ªç\\\\x84¶ã\\\\x83»å\\\\xad£ç¯\\\\x80ã\\\\x83»ã\\\\x83¬ã\\\\x82¸ã\\\\x83£ã\\\\x83¼æ\\\\x83\\\\x85å ± æ¢\\\\x85é\\\\x9b¨æ\\\\x83\\\\x85å ± è\\\\x8a±ç²\\\\x89é£\\\\x9bæ\\\\x95£æ\\\\x83\\\\x85å ± å\\\\x9c°é\\\\x9c\\\\x87æ\\\\x83\\\\x85å ± å\\\\x8f°é¢¨æ\\\\x83\\\\x85å ± é\\\\x95·æ\\\\x9c\\\\x9fäº\\\\x88å ± å\\\\x8f°é¢¨æ\\\\x83\\\\x85å ± å\\\\x9c°é\\\\x9c\\\\x87æ\\\\x83\\\\x85å ± æ´¥æ³¢æ\\\\x83\\\\x85å ± ç\\\\x81«å±±æ\\\\x83\\\\x85å ± æ¸\\\\x9bç\\\\x81½æ\\\\x83\\\\x85å ± é\\\\x81¿é\\\\x9b£æ\\\\x83\\\\x85å ± ã\\\\x81\\\\x95ã\\\\x81\\\\x8fã\\\\x82\\\\x89é\\\\x96\\\\x8bè\\\\x8a±æ\\\\x83\\\\x85å ± ã\\\\x82¹ã\\\\x82\\\\xadã\\\\x83¼ï¼\\\\x86ã\\\\x82¹ã\\\\x83\\\\x8eã\\\\x83\\\\x9cæ\\\\x83\\\\x85å ± è\\\\x8a±ç\\\\x81«å¤©æ°\\\\x97 Ch. ã\\\\x81»ã\\\\x81\\\\x9fã\\\\x82\\\\x8bæ\\\\x83\\\\x85å ± ã\\\\x81\\\\x82ã\\\\x81\\\\x98ã\\\\x81\\\\x95ã\\\\x81\\\\x84æ\\\\x83\\\\x85å ± æ\\\\x98\\\\x9fç©ºæ\\\\x83\\\\x85å ± å\\\\x88\\\\x9dæ\\\\x97¥ã\\\\x81®å\\\\x87ºæ\\\\x83\\\\x85å ± å\\\\x88\\\\x9dè©£æ\\\\x83\\\\x85å ± ç´\\\\x85è\\\\x91\\\\x89æ\\\\x83\\\\x85å ± ã\\\\x82¤ã\\\\x83«ã\\\\x83\\\\x9fã\\\\x83\\\\x8dã\\\\x83¼ã\\\\x82·ã\\\\x83§ã\\\\x83³æ\\\\x83\\\\x85å ± è\\\\x8a±ç²\\\\x89é£\\\\x9bæ\\\\x95£æ\\\\x83\\\\x85å ± å¤©æ°\\\\x97ç\\\\x97\\\\x9bäº\\\\x88å ± ç\\\\x86±ä¸\\\\xadç\\\\x97\\\\x87äº\\\\x88å ± ç´«å¤\\\\x96ç·\\\\x9aäº\\\\x88å ± æ\\\\x9c\\\\x8dè£\\\\x85äº\\\\x88å ± ã\\\\x81\\\\x8aæ´\\\\x97æ¿¯æ\\\\x83\\\\x85å ± Labs Ch. # æ\\\\x9d±äº¬ã\\\\x81®å¤©æ°\\\\x97äº\\\\x88å ± ## {{pref\\\\\\\\_jp}}{{cityname}}ã\\\\x81®1æ\\\\x99\\\\x82é\\\\x96\\\\x93æ¯\\\\x8eã\\\\x81®å¤©æ°\\\\x97 {{daily.date}}æ\\\\x97¥{{daily.youbi\\\\\\\\_str}} {{hourly.time}} {{hourly.prec}} {{hourly.temp}} {{hourly.wndspd}} ## {{pref\\\\\\\\_jp}}{{cityname}}ã\\\\x81®é\\\\x80±é\\\\x96\\\\x93å¤©æ°\\\\x97äº\\\\x88å ±ï¼\\\\x8810æ\\\\x97¥é\\\\x96\\\\x93ï¼\\\\x89 {{item.date}}   {{item.youbi\\\\\\\\_str}} {{item.high}} {{item.low}} {{item.pop}} ## å¸\\\\x82å\\\\x8cºç\\\\x94ºæ\\\\x9d\\\\x91å\\\\x88¥ã\\\\x81®å¤©æ°\\\\x97äº\\\\x88å ± {{point.rank}} ({{point.pref}}) ({{point.dateRecord}}) ## å\\\\x90\\\\x84ã\\\\x82¨ã\\\\x83ªã\\\\x82¢ã\\\\x81®å¤©æ°\\\\x97äº\\\\x88å ± {{point.rank}} ({{point.pref}}) ({{point.dateRecord}}) ### è\\\\x87ªç\\\\x84¶ã\\\\x83»å\\\\xad£ç¯\\\\x80ã\\\\x83»ã\\\\x83¬ã\\\\x82¸ã\\\\x83£ã\\\\x83¼æ\\\\x83\\\\x85å ±\\')]\\n\"\"\"\\n質問: 東京の今日の天気は？\\n', additional_kwargs={}, response_metadata={})]), 'input': {'question': '東京の今日の天気は？', 'context': [Document(metadata={'title': '東京都の天気 - 日本気象協会 tenki.jp', 'source': 'https://tenki.jp/forecast/3/16/', 'score': 0.7803451, 'images': []}, page_content='# tenki.jp 雨雲レーダー) 天気図 PM2.5分布予測 地震情報 日直予報士 熱中症情報 東京都の天気 ### 05月29日(木) 東京都の天気 曇のち雨 曇のち雨 曇のち雨 曇のち雨 曇のち雨 曇のち雨 曇のち雨 曇のち雨 晴時々曇 曇のち雨 曇のち雨 曇のち雨 曇のち雨 曇のち雨 最新の天気履歴 渋谷区 曇のち雨 豊島区 曇のち雨 江東区 曇のち雨 港区 曇のち雨 大田区 曇のち雨 府中市 曇のち雨 奥多摩町 曇のち雨 関東・甲信 ### 気象予報士のポイント解説(日直予報士) newマーク 関東甲信\\u3000今日29日は天気下り坂\\u3000昼頃から所々で雨雲が湧く\\u3000夜は広く雨に 関東甲信\\u3000今日29日は天気下り坂\\u3000昼頃から所々で雨雲が湧く\\u3000夜は広く雨に newマーク 今日29日は気圧が低下\\u3000沖縄や九州から近畿は影響度「大」の所も\\u3000頭痛など注意 今日29日は気圧が低下\\u3000沖縄や九州から近畿は影響度「大」の所も\\u3000頭痛など注意 今日29日\\u3000九州から関東は次第に雨\\u3000東北と北海道は晴れて気温上昇\\u3000真夏日も 今日29日\\u3000九州から関東は次第に雨\\u3000東北と北海道は晴れて気温上昇\\u3000真夏日も ### 東京都各地の天気 #### 東京23区 #### 多摩 #### 伊豆諸島北部(大島) #### 伊豆諸島南部(八丈島) #### 小笠原諸島(父島) ### おすすめ記事 LINEの友達追加 ### 天気ガイド 雨雲 ### 注目の情報 アプリに便利なサブスクプラン開始 「tenki.jpライト」なら現在地の雨雲接近通知が受け取れる！ 新サービス「気圧予報」 気圧変化を確認して、頭痛やめまい、倦怠感といった症状に備えましょう。 X（旧Twitter） tenki.jpの公式X（旧Twitter） 最新の気象・防災情報や、生活に役立つ情報を毎日リアルタイムに配信中！ 天気予報 観測 防災情報 天気図 指数情報 レジャー天気 季節特集 天気ニュース X(旧：Twitter) Youtube Facebook Instagram LINEの友達追加 tenki.jp tenki.jp tenki.jp 登山天気 tenki.jp 登山天気 全国のコンテンツ tenki.jpトップ 天気予報 観測 防災情報 天気図'), Document(metadata={'title': '東京（東京）の天気 - Yahoo!天気・災害', 'source': 'https://weather.yahoo.co.jp/weather/jp/13/4410.html', 'score': 0.71185225, 'images': []}, page_content='東京（東京）の天気 - Yahoo! - Yahoo! Yahoo! | 6月25日(水)  曇一時雨曇一時雨   - *29*℃[-1] - *25*℃[-1]  |  |  |  |  |  | | --- | --- | --- | --- | --- | | 時間 | 0-6 | 6-12 | 12-18 | 18-24 | | 降水 | --- | --- | --- | 50％ |   風：  南東の風後北東の風  波：  0.5メートル | 6月26日(木)  曇一時雨曇一時雨   - *31*℃[+2] - *25*℃[0]  |  |  |  |  |  | | --- | --- | --- | --- | --- | | 時間 | 0-6 | 6-12 | 12-18 | 18-24 | | 降水 | 70％ | 20％ | 20％ | 40％ |   風：  北の風後南の風２３区西部では南西の風やや強く  波：  0.5メートル後1.5メートル | - 6月25日(水) - 6月26日(木) (C) LY Corporation Yahoo! (C) LY Corporation Yahoo! cpt_n=safetymail&cpt_m=bnr&cpt_s=yahoo&cpt_c=weatherbnr) Yahoo!'), Document(metadata={'title': '東京の天気予報 - ウェザーニュース', 'source': 'https://weathernews.jp/onebox/tenki/tokyo/', 'score': 0.6778372, 'images': []}, page_content='{{item.cityname}} {{item.high}} {{item.low}} è\\x87ªç\\x84¶ã\\x83»å\\xad£ç¯\\x80ã\\x83»ã\\x83¬ã\\x82¸ã\\x83£ã\\x83¼æ\\x83\\x85å ± æ¢\\x85é\\x9b¨æ\\x83\\x85å ± è\\x8a±ç²\\x89é£\\x9bæ\\x95£æ\\x83\\x85å ± å\\x9c°é\\x9c\\x87æ\\x83\\x85å ± å\\x8f°é¢¨æ\\x83\\x85å ± é\\x95·æ\\x9c\\x9fäº\\x88å ± å\\x8f°é¢¨æ\\x83\\x85å ± å\\x9c°é\\x9c\\x87æ\\x83\\x85å ± æ´¥æ³¢æ\\x83\\x85å ± ç\\x81«å±±æ\\x83\\x85å ± æ¸\\x9bç\\x81½æ\\x83\\x85å ± é\\x81¿é\\x9b£æ\\x83\\x85å ± ã\\x81\\x95ã\\x81\\x8fã\\x82\\x89é\\x96\\x8bè\\x8a±æ\\x83\\x85å ± ã\\x82¹ã\\x82\\xadã\\x83¼ï¼\\x86ã\\x82¹ã\\x83\\x8eã\\x83\\x9cæ\\x83\\x85å ± è\\x8a±ç\\x81«å¤©æ°\\x97 Ch. ã\\x81»ã\\x81\\x9fã\\x82\\x8bæ\\x83\\x85å ± ã\\x81\\x82ã\\x81\\x98ã\\x81\\x95ã\\x81\\x84æ\\x83\\x85å ± æ\\x98\\x9fç©ºæ\\x83\\x85å ± å\\x88\\x9dæ\\x97¥ã\\x81®å\\x87ºæ\\x83\\x85å ± å\\x88\\x9dè©£æ\\x83\\x85å ± ç´\\x85è\\x91\\x89æ\\x83\\x85å ± ã\\x82¤ã\\x83«ã\\x83\\x9fã\\x83\\x8dã\\x83¼ã\\x82·ã\\x83§ã\\x83³æ\\x83\\x85å ± è\\x8a±ç²\\x89é£\\x9bæ\\x95£æ\\x83\\x85å ± å¤©æ°\\x97ç\\x97\\x9bäº\\x88å ± ç\\x86±ä¸\\xadç\\x97\\x87äº\\x88å ± ç´«å¤\\x96ç·\\x9aäº\\x88å ± æ\\x9c\\x8dè£\\x85äº\\x88å ± ã\\x81\\x8aæ´\\x97æ¿¯æ\\x83\\x85å ± Labs Ch. # æ\\x9d±äº¬ã\\x81®å¤©æ°\\x97äº\\x88å ± ## {{pref\\\\_jp}}{{cityname}}ã\\x81®1æ\\x99\\x82é\\x96\\x93æ¯\\x8eã\\x81®å¤©æ°\\x97 {{daily.date}}æ\\x97¥{{daily.youbi\\\\_str}} {{hourly.time}} {{hourly.prec}} {{hourly.temp}} {{hourly.wndspd}} ## {{pref\\\\_jp}}{{cityname}}ã\\x81®é\\x80±é\\x96\\x93å¤©æ°\\x97äº\\x88å ±ï¼\\x8810æ\\x97¥é\\x96\\x93ï¼\\x89 {{item.date}}   {{item.youbi\\\\_str}} {{item.high}} {{item.low}} {{item.pop}} ## å¸\\x82å\\x8cºç\\x94ºæ\\x9d\\x91å\\x88¥ã\\x81®å¤©æ°\\x97äº\\x88å ± {{point.rank}} ({{point.pref}}) ({{point.dateRecord}}) ## å\\x90\\x84ã\\x82¨ã\\x83ªã\\x82¢ã\\x81®å¤©æ°\\x97äº\\x88å ± {{point.rank}} ({{point.pref}}) ({{point.dateRecord}}) ### è\\x87ªç\\x84¶ã\\x83»å\\xad£ç¯\\x80ã\\x83»ã\\x83¬ã\\x82¸ã\\x83£ã\\x83¼æ\\x83\\x85å ±')]}}, 'run_id': 'b57de69b-caf1-4cd2-8535-11ab0ce8b2d9', 'name': 'ChatPromptTemplate', 'tags': ['seq:step:2'], 'metadata': {}, 'parent_ids': ['2d52b46f-7fc1-454e-8e68-fee50456929e']}\n",
      "{'event': 'on_chat_model_start', 'data': {'input': {'messages': [[HumanMessage(content='以下の文脈だけを踏まえて質問に回答してください。\\n文脈: \"\"\"\\n[Document(metadata={\\'title\\': \\'東京都の天気 - 日本気象協会 tenki.jp\\', \\'source\\': \\'https://tenki.jp/forecast/3/16/\\', \\'score\\': 0.7803451, \\'images\\': []}, page_content=\\'# tenki.jp 雨雲レーダー) 天気図 PM2.5分布予測 地震情報 日直予報士 熱中症情報 東京都の天気 ### 05月29日(木) 東京都の天気 曇のち雨 曇のち雨 曇のち雨 曇のち雨 曇のち雨 曇のち雨 曇のち雨 曇のち雨 晴時々曇 曇のち雨 曇のち雨 曇のち雨 曇のち雨 曇のち雨 最新の天気履歴 渋谷区 曇のち雨 豊島区 曇のち雨 江東区 曇のち雨 港区 曇のち雨 大田区 曇のち雨 府中市 曇のち雨 奥多摩町 曇のち雨 関東・甲信 ### 気象予報士のポイント解説(日直予報士) newマーク 関東甲信\\\\u3000今日29日は天気下り坂\\\\u3000昼頃から所々で雨雲が湧く\\\\u3000夜は広く雨に 関東甲信\\\\u3000今日29日は天気下り坂\\\\u3000昼頃から所々で雨雲が湧く\\\\u3000夜は広く雨に newマーク 今日29日は気圧が低下\\\\u3000沖縄や九州から近畿は影響度「大」の所も\\\\u3000頭痛など注意 今日29日は気圧が低下\\\\u3000沖縄や九州から近畿は影響度「大」の所も\\\\u3000頭痛など注意 今日29日\\\\u3000九州から関東は次第に雨\\\\u3000東北と北海道は晴れて気温上昇\\\\u3000真夏日も 今日29日\\\\u3000九州から関東は次第に雨\\\\u3000東北と北海道は晴れて気温上昇\\\\u3000真夏日も ### 東京都各地の天気 #### 東京23区 #### 多摩 #### 伊豆諸島北部(大島) #### 伊豆諸島南部(八丈島) #### 小笠原諸島(父島) ### おすすめ記事 LINEの友達追加 ### 天気ガイド 雨雲 ### 注目の情報 アプリに便利なサブスクプラン開始 「tenki.jpライト」なら現在地の雨雲接近通知が受け取れる！ 新サービス「気圧予報」 気圧変化を確認して、頭痛やめまい、倦怠感といった症状に備えましょう。 X（旧Twitter） tenki.jpの公式X（旧Twitter） 最新の気象・防災情報や、生活に役立つ情報を毎日リアルタイムに配信中！ 天気予報 観測 防災情報 天気図 指数情報 レジャー天気 季節特集 天気ニュース X(旧：Twitter) Youtube Facebook Instagram LINEの友達追加 tenki.jp tenki.jp tenki.jp 登山天気 tenki.jp 登山天気 全国のコンテンツ tenki.jpトップ 天気予報 観測 防災情報 天気図\\'), Document(metadata={\\'title\\': \\'東京（東京）の天気 - Yahoo!天気・災害\\', \\'source\\': \\'https://weather.yahoo.co.jp/weather/jp/13/4410.html\\', \\'score\\': 0.71185225, \\'images\\': []}, page_content=\\'東京（東京）の天気 - Yahoo! - Yahoo! Yahoo! | 6月25日(水)  曇一時雨曇一時雨   - *29*℃[-1] - *25*℃[-1]  |  |  |  |  |  | | --- | --- | --- | --- | --- | | 時間 | 0-6 | 6-12 | 12-18 | 18-24 | | 降水 | --- | --- | --- | 50％ |   風：  南東の風後北東の風  波：  0.5メートル | 6月26日(木)  曇一時雨曇一時雨   - *31*℃[+2] - *25*℃[0]  |  |  |  |  |  | | --- | --- | --- | --- | --- | | 時間 | 0-6 | 6-12 | 12-18 | 18-24 | | 降水 | 70％ | 20％ | 20％ | 40％ |   風：  北の風後南の風２３区西部では南西の風やや強く  波：  0.5メートル後1.5メートル | - 6月25日(水) - 6月26日(木) (C) LY Corporation Yahoo! (C) LY Corporation Yahoo! cpt_n=safetymail&cpt_m=bnr&cpt_s=yahoo&cpt_c=weatherbnr) Yahoo!\\'), Document(metadata={\\'title\\': \\'東京の天気予報 - ウェザーニュース\\', \\'source\\': \\'https://weathernews.jp/onebox/tenki/tokyo/\\', \\'score\\': 0.6778372, \\'images\\': []}, page_content=\\'{{item.cityname}} {{item.high}} {{item.low}} è\\\\x87ªç\\\\x84¶ã\\\\x83»å\\\\xad£ç¯\\\\x80ã\\\\x83»ã\\\\x83¬ã\\\\x82¸ã\\\\x83£ã\\\\x83¼æ\\\\x83\\\\x85å ± æ¢\\\\x85é\\\\x9b¨æ\\\\x83\\\\x85å ± è\\\\x8a±ç²\\\\x89é£\\\\x9bæ\\\\x95£æ\\\\x83\\\\x85å ± å\\\\x9c°é\\\\x9c\\\\x87æ\\\\x83\\\\x85å ± å\\\\x8f°é¢¨æ\\\\x83\\\\x85å ± é\\\\x95·æ\\\\x9c\\\\x9fäº\\\\x88å ± å\\\\x8f°é¢¨æ\\\\x83\\\\x85å ± å\\\\x9c°é\\\\x9c\\\\x87æ\\\\x83\\\\x85å ± æ´¥æ³¢æ\\\\x83\\\\x85å ± ç\\\\x81«å±±æ\\\\x83\\\\x85å ± æ¸\\\\x9bç\\\\x81½æ\\\\x83\\\\x85å ± é\\\\x81¿é\\\\x9b£æ\\\\x83\\\\x85å ± ã\\\\x81\\\\x95ã\\\\x81\\\\x8fã\\\\x82\\\\x89é\\\\x96\\\\x8bè\\\\x8a±æ\\\\x83\\\\x85å ± ã\\\\x82¹ã\\\\x82\\\\xadã\\\\x83¼ï¼\\\\x86ã\\\\x82¹ã\\\\x83\\\\x8eã\\\\x83\\\\x9cæ\\\\x83\\\\x85å ± è\\\\x8a±ç\\\\x81«å¤©æ°\\\\x97 Ch. ã\\\\x81»ã\\\\x81\\\\x9fã\\\\x82\\\\x8bæ\\\\x83\\\\x85å ± ã\\\\x81\\\\x82ã\\\\x81\\\\x98ã\\\\x81\\\\x95ã\\\\x81\\\\x84æ\\\\x83\\\\x85å ± æ\\\\x98\\\\x9fç©ºæ\\\\x83\\\\x85å ± å\\\\x88\\\\x9dæ\\\\x97¥ã\\\\x81®å\\\\x87ºæ\\\\x83\\\\x85å ± å\\\\x88\\\\x9dè©£æ\\\\x83\\\\x85å ± ç´\\\\x85è\\\\x91\\\\x89æ\\\\x83\\\\x85å ± ã\\\\x82¤ã\\\\x83«ã\\\\x83\\\\x9fã\\\\x83\\\\x8dã\\\\x83¼ã\\\\x82·ã\\\\x83§ã\\\\x83³æ\\\\x83\\\\x85å ± è\\\\x8a±ç²\\\\x89é£\\\\x9bæ\\\\x95£æ\\\\x83\\\\x85å ± å¤©æ°\\\\x97ç\\\\x97\\\\x9bäº\\\\x88å ± ç\\\\x86±ä¸\\\\xadç\\\\x97\\\\x87äº\\\\x88å ± ç´«å¤\\\\x96ç·\\\\x9aäº\\\\x88å ± æ\\\\x9c\\\\x8dè£\\\\x85äº\\\\x88å ± ã\\\\x81\\\\x8aæ´\\\\x97æ¿¯æ\\\\x83\\\\x85å ± Labs Ch. # æ\\\\x9d±äº¬ã\\\\x81®å¤©æ°\\\\x97äº\\\\x88å ± ## {{pref\\\\\\\\_jp}}{{cityname}}ã\\\\x81®1æ\\\\x99\\\\x82é\\\\x96\\\\x93æ¯\\\\x8eã\\\\x81®å¤©æ°\\\\x97 {{daily.date}}æ\\\\x97¥{{daily.youbi\\\\\\\\_str}} {{hourly.time}} {{hourly.prec}} {{hourly.temp}} {{hourly.wndspd}} ## {{pref\\\\\\\\_jp}}{{cityname}}ã\\\\x81®é\\\\x80±é\\\\x96\\\\x93å¤©æ°\\\\x97äº\\\\x88å ±ï¼\\\\x8810æ\\\\x97¥é\\\\x96\\\\x93ï¼\\\\x89 {{item.date}}   {{item.youbi\\\\\\\\_str}} {{item.high}} {{item.low}} {{item.pop}} ## å¸\\\\x82å\\\\x8cºç\\\\x94ºæ\\\\x9d\\\\x91å\\\\x88¥ã\\\\x81®å¤©æ°\\\\x97äº\\\\x88å ± {{point.rank}} ({{point.pref}}) ({{point.dateRecord}}) ## å\\\\x90\\\\x84ã\\\\x82¨ã\\\\x83ªã\\\\x82¢ã\\\\x81®å¤©æ°\\\\x97äº\\\\x88å ± {{point.rank}} ({{point.pref}}) ({{point.dateRecord}}) ### è\\\\x87ªç\\\\x84¶ã\\\\x83»å\\\\xad£ç¯\\\\x80ã\\\\x83»ã\\\\x83¬ã\\\\x82¸ã\\\\x83£ã\\\\x83¼æ\\\\x83\\\\x85å ±\\')]\\n\"\"\"\\n質問: 東京の今日の天気は？\\n', additional_kwargs={}, response_metadata={})]]}}, 'name': 'ChatOpenAI', 'tags': ['seq:step:3'], 'run_id': '50dd7d21-dca5-49dc-8bcc-a3f43d1b103d', 'metadata': {'ls_provider': 'openai', 'ls_model_name': 'gpt-4o-mini', 'ls_model_type': 'chat', 'ls_temperature': 0.0}, 'parent_ids': ['2d52b46f-7fc1-454e-8e68-fee50456929e']}\n",
      "{'event': 'on_chat_model_stream', 'data': {'chunk': AIMessageChunk(content='', additional_kwargs={}, response_metadata={}, id='run-50dd7d21-dca5-49dc-8bcc-a3f43d1b103d')}, 'run_id': '50dd7d21-dca5-49dc-8bcc-a3f43d1b103d', 'name': 'ChatOpenAI', 'tags': ['seq:step:3'], 'metadata': {'ls_provider': 'openai', 'ls_model_name': 'gpt-4o-mini', 'ls_model_type': 'chat', 'ls_temperature': 0.0}, 'parent_ids': ['2d52b46f-7fc1-454e-8e68-fee50456929e']}\n",
      "{'event': 'on_parser_start', 'data': {}, 'name': 'StrOutputParser', 'tags': ['seq:step:4'], 'run_id': '954c7d7f-5420-49ee-9fcc-d2c0b3554f95', 'metadata': {}, 'parent_ids': ['2d52b46f-7fc1-454e-8e68-fee50456929e']}\n",
      "{'event': 'on_parser_stream', 'run_id': '954c7d7f-5420-49ee-9fcc-d2c0b3554f95', 'name': 'StrOutputParser', 'tags': ['seq:step:4'], 'metadata': {}, 'data': {'chunk': ''}, 'parent_ids': ['2d52b46f-7fc1-454e-8e68-fee50456929e']}\n",
      "{'event': 'on_chain_stream', 'run_id': '2d52b46f-7fc1-454e-8e68-fee50456929e', 'name': 'RunnableSequence', 'tags': [], 'metadata': {}, 'data': {'chunk': ''}, 'parent_ids': []}\n",
      "{'event': 'on_chat_model_stream', 'data': {'chunk': AIMessageChunk(content='東京', additional_kwargs={}, response_metadata={}, id='run-50dd7d21-dca5-49dc-8bcc-a3f43d1b103d')}, 'run_id': '50dd7d21-dca5-49dc-8bcc-a3f43d1b103d', 'name': 'ChatOpenAI', 'tags': ['seq:step:3'], 'metadata': {'ls_provider': 'openai', 'ls_model_name': 'gpt-4o-mini', 'ls_model_type': 'chat', 'ls_temperature': 0.0}, 'parent_ids': ['2d52b46f-7fc1-454e-8e68-fee50456929e']}\n",
      "{'event': 'on_parser_stream', 'run_id': '954c7d7f-5420-49ee-9fcc-d2c0b3554f95', 'name': 'StrOutputParser', 'tags': ['seq:step:4'], 'metadata': {}, 'data': {'chunk': '東京'}, 'parent_ids': ['2d52b46f-7fc1-454e-8e68-fee50456929e']}\n",
      "{'event': 'on_chain_stream', 'run_id': '2d52b46f-7fc1-454e-8e68-fee50456929e', 'name': 'RunnableSequence', 'tags': [], 'metadata': {}, 'data': {'chunk': '東京'}, 'parent_ids': []}\n",
      "{'event': 'on_chat_model_stream', 'data': {'chunk': AIMessageChunk(content='の', additional_kwargs={}, response_metadata={}, id='run-50dd7d21-dca5-49dc-8bcc-a3f43d1b103d')}, 'run_id': '50dd7d21-dca5-49dc-8bcc-a3f43d1b103d', 'name': 'ChatOpenAI', 'tags': ['seq:step:3'], 'metadata': {'ls_provider': 'openai', 'ls_model_name': 'gpt-4o-mini', 'ls_model_type': 'chat', 'ls_temperature': 0.0}, 'parent_ids': ['2d52b46f-7fc1-454e-8e68-fee50456929e']}\n",
      "{'event': 'on_parser_stream', 'run_id': '954c7d7f-5420-49ee-9fcc-d2c0b3554f95', 'name': 'StrOutputParser', 'tags': ['seq:step:4'], 'metadata': {}, 'data': {'chunk': 'の'}, 'parent_ids': ['2d52b46f-7fc1-454e-8e68-fee50456929e']}\n",
      "{'event': 'on_chain_stream', 'run_id': '2d52b46f-7fc1-454e-8e68-fee50456929e', 'name': 'RunnableSequence', 'tags': [], 'metadata': {}, 'data': {'chunk': 'の'}, 'parent_ids': []}\n",
      "{'event': 'on_chat_model_stream', 'data': {'chunk': AIMessageChunk(content='今日', additional_kwargs={}, response_metadata={}, id='run-50dd7d21-dca5-49dc-8bcc-a3f43d1b103d')}, 'run_id': '50dd7d21-dca5-49dc-8bcc-a3f43d1b103d', 'name': 'ChatOpenAI', 'tags': ['seq:step:3'], 'metadata': {'ls_provider': 'openai', 'ls_model_name': 'gpt-4o-mini', 'ls_model_type': 'chat', 'ls_temperature': 0.0}, 'parent_ids': ['2d52b46f-7fc1-454e-8e68-fee50456929e']}\n",
      "{'event': 'on_parser_stream', 'run_id': '954c7d7f-5420-49ee-9fcc-d2c0b3554f95', 'name': 'StrOutputParser', 'tags': ['seq:step:4'], 'metadata': {}, 'data': {'chunk': '今日'}, 'parent_ids': ['2d52b46f-7fc1-454e-8e68-fee50456929e']}\n",
      "{'event': 'on_chain_stream', 'run_id': '2d52b46f-7fc1-454e-8e68-fee50456929e', 'name': 'RunnableSequence', 'tags': [], 'metadata': {}, 'data': {'chunk': '今日'}, 'parent_ids': []}\n",
      "{'event': 'on_chat_model_stream', 'data': {'chunk': AIMessageChunk(content='の', additional_kwargs={}, response_metadata={}, id='run-50dd7d21-dca5-49dc-8bcc-a3f43d1b103d')}, 'run_id': '50dd7d21-dca5-49dc-8bcc-a3f43d1b103d', 'name': 'ChatOpenAI', 'tags': ['seq:step:3'], 'metadata': {'ls_provider': 'openai', 'ls_model_name': 'gpt-4o-mini', 'ls_model_type': 'chat', 'ls_temperature': 0.0}, 'parent_ids': ['2d52b46f-7fc1-454e-8e68-fee50456929e']}\n",
      "{'event': 'on_parser_stream', 'run_id': '954c7d7f-5420-49ee-9fcc-d2c0b3554f95', 'name': 'StrOutputParser', 'tags': ['seq:step:4'], 'metadata': {}, 'data': {'chunk': 'の'}, 'parent_ids': ['2d52b46f-7fc1-454e-8e68-fee50456929e']}\n",
      "{'event': 'on_chain_stream', 'run_id': '2d52b46f-7fc1-454e-8e68-fee50456929e', 'name': 'RunnableSequence', 'tags': [], 'metadata': {}, 'data': {'chunk': 'の'}, 'parent_ids': []}\n",
      "{'event': 'on_chat_model_stream', 'data': {'chunk': AIMessageChunk(content='天', additional_kwargs={}, response_metadata={}, id='run-50dd7d21-dca5-49dc-8bcc-a3f43d1b103d')}, 'run_id': '50dd7d21-dca5-49dc-8bcc-a3f43d1b103d', 'name': 'ChatOpenAI', 'tags': ['seq:step:3'], 'metadata': {'ls_provider': 'openai', 'ls_model_name': 'gpt-4o-mini', 'ls_model_type': 'chat', 'ls_temperature': 0.0}, 'parent_ids': ['2d52b46f-7fc1-454e-8e68-fee50456929e']}\n",
      "{'event': 'on_parser_stream', 'run_id': '954c7d7f-5420-49ee-9fcc-d2c0b3554f95', 'name': 'StrOutputParser', 'tags': ['seq:step:4'], 'metadata': {}, 'data': {'chunk': '天'}, 'parent_ids': ['2d52b46f-7fc1-454e-8e68-fee50456929e']}\n",
      "{'event': 'on_chain_stream', 'run_id': '2d52b46f-7fc1-454e-8e68-fee50456929e', 'name': 'RunnableSequence', 'tags': [], 'metadata': {}, 'data': {'chunk': '天'}, 'parent_ids': []}\n",
      "{'event': 'on_chat_model_stream', 'data': {'chunk': AIMessageChunk(content='気', additional_kwargs={}, response_metadata={}, id='run-50dd7d21-dca5-49dc-8bcc-a3f43d1b103d')}, 'run_id': '50dd7d21-dca5-49dc-8bcc-a3f43d1b103d', 'name': 'ChatOpenAI', 'tags': ['seq:step:3'], 'metadata': {'ls_provider': 'openai', 'ls_model_name': 'gpt-4o-mini', 'ls_model_type': 'chat', 'ls_temperature': 0.0}, 'parent_ids': ['2d52b46f-7fc1-454e-8e68-fee50456929e']}\n",
      "{'event': 'on_parser_stream', 'run_id': '954c7d7f-5420-49ee-9fcc-d2c0b3554f95', 'name': 'StrOutputParser', 'tags': ['seq:step:4'], 'metadata': {}, 'data': {'chunk': '気'}, 'parent_ids': ['2d52b46f-7fc1-454e-8e68-fee50456929e']}\n",
      "{'event': 'on_chain_stream', 'run_id': '2d52b46f-7fc1-454e-8e68-fee50456929e', 'name': 'RunnableSequence', 'tags': [], 'metadata': {}, 'data': {'chunk': '気'}, 'parent_ids': []}\n",
      "{'event': 'on_chat_model_stream', 'data': {'chunk': AIMessageChunk(content='は', additional_kwargs={}, response_metadata={}, id='run-50dd7d21-dca5-49dc-8bcc-a3f43d1b103d')}, 'run_id': '50dd7d21-dca5-49dc-8bcc-a3f43d1b103d', 'name': 'ChatOpenAI', 'tags': ['seq:step:3'], 'metadata': {'ls_provider': 'openai', 'ls_model_name': 'gpt-4o-mini', 'ls_model_type': 'chat', 'ls_temperature': 0.0}, 'parent_ids': ['2d52b46f-7fc1-454e-8e68-fee50456929e']}\n",
      "{'event': 'on_parser_stream', 'run_id': '954c7d7f-5420-49ee-9fcc-d2c0b3554f95', 'name': 'StrOutputParser', 'tags': ['seq:step:4'], 'metadata': {}, 'data': {'chunk': 'は'}, 'parent_ids': ['2d52b46f-7fc1-454e-8e68-fee50456929e']}\n",
      "{'event': 'on_chain_stream', 'run_id': '2d52b46f-7fc1-454e-8e68-fee50456929e', 'name': 'RunnableSequence', 'tags': [], 'metadata': {}, 'data': {'chunk': 'は'}, 'parent_ids': []}\n",
      "{'event': 'on_chat_model_stream', 'data': {'chunk': AIMessageChunk(content='曇', additional_kwargs={}, response_metadata={}, id='run-50dd7d21-dca5-49dc-8bcc-a3f43d1b103d')}, 'run_id': '50dd7d21-dca5-49dc-8bcc-a3f43d1b103d', 'name': 'ChatOpenAI', 'tags': ['seq:step:3'], 'metadata': {'ls_provider': 'openai', 'ls_model_name': 'gpt-4o-mini', 'ls_model_type': 'chat', 'ls_temperature': 0.0}, 'parent_ids': ['2d52b46f-7fc1-454e-8e68-fee50456929e']}\n",
      "{'event': 'on_parser_stream', 'run_id': '954c7d7f-5420-49ee-9fcc-d2c0b3554f95', 'name': 'StrOutputParser', 'tags': ['seq:step:4'], 'metadata': {}, 'data': {'chunk': '曇'}, 'parent_ids': ['2d52b46f-7fc1-454e-8e68-fee50456929e']}\n",
      "{'event': 'on_chain_stream', 'run_id': '2d52b46f-7fc1-454e-8e68-fee50456929e', 'name': 'RunnableSequence', 'tags': [], 'metadata': {}, 'data': {'chunk': '曇'}, 'parent_ids': []}\n",
      "{'event': 'on_chat_model_stream', 'data': {'chunk': AIMessageChunk(content='の', additional_kwargs={}, response_metadata={}, id='run-50dd7d21-dca5-49dc-8bcc-a3f43d1b103d')}, 'run_id': '50dd7d21-dca5-49dc-8bcc-a3f43d1b103d', 'name': 'ChatOpenAI', 'tags': ['seq:step:3'], 'metadata': {'ls_provider': 'openai', 'ls_model_name': 'gpt-4o-mini', 'ls_model_type': 'chat', 'ls_temperature': 0.0}, 'parent_ids': ['2d52b46f-7fc1-454e-8e68-fee50456929e']}\n",
      "{'event': 'on_parser_stream', 'run_id': '954c7d7f-5420-49ee-9fcc-d2c0b3554f95', 'name': 'StrOutputParser', 'tags': ['seq:step:4'], 'metadata': {}, 'data': {'chunk': 'の'}, 'parent_ids': ['2d52b46f-7fc1-454e-8e68-fee50456929e']}\n",
      "{'event': 'on_chain_stream', 'run_id': '2d52b46f-7fc1-454e-8e68-fee50456929e', 'name': 'RunnableSequence', 'tags': [], 'metadata': {}, 'data': {'chunk': 'の'}, 'parent_ids': []}\n",
      "{'event': 'on_chat_model_stream', 'data': {'chunk': AIMessageChunk(content='ち', additional_kwargs={}, response_metadata={}, id='run-50dd7d21-dca5-49dc-8bcc-a3f43d1b103d')}, 'run_id': '50dd7d21-dca5-49dc-8bcc-a3f43d1b103d', 'name': 'ChatOpenAI', 'tags': ['seq:step:3'], 'metadata': {'ls_provider': 'openai', 'ls_model_name': 'gpt-4o-mini', 'ls_model_type': 'chat', 'ls_temperature': 0.0}, 'parent_ids': ['2d52b46f-7fc1-454e-8e68-fee50456929e']}\n",
      "{'event': 'on_parser_stream', 'run_id': '954c7d7f-5420-49ee-9fcc-d2c0b3554f95', 'name': 'StrOutputParser', 'tags': ['seq:step:4'], 'metadata': {}, 'data': {'chunk': 'ち'}, 'parent_ids': ['2d52b46f-7fc1-454e-8e68-fee50456929e']}\n",
      "{'event': 'on_chain_stream', 'run_id': '2d52b46f-7fc1-454e-8e68-fee50456929e', 'name': 'RunnableSequence', 'tags': [], 'metadata': {}, 'data': {'chunk': 'ち'}, 'parent_ids': []}\n",
      "{'event': 'on_chat_model_stream', 'data': {'chunk': AIMessageChunk(content='雨', additional_kwargs={}, response_metadata={}, id='run-50dd7d21-dca5-49dc-8bcc-a3f43d1b103d')}, 'run_id': '50dd7d21-dca5-49dc-8bcc-a3f43d1b103d', 'name': 'ChatOpenAI', 'tags': ['seq:step:3'], 'metadata': {'ls_provider': 'openai', 'ls_model_name': 'gpt-4o-mini', 'ls_model_type': 'chat', 'ls_temperature': 0.0}, 'parent_ids': ['2d52b46f-7fc1-454e-8e68-fee50456929e']}\n",
      "{'event': 'on_parser_stream', 'run_id': '954c7d7f-5420-49ee-9fcc-d2c0b3554f95', 'name': 'StrOutputParser', 'tags': ['seq:step:4'], 'metadata': {}, 'data': {'chunk': '雨'}, 'parent_ids': ['2d52b46f-7fc1-454e-8e68-fee50456929e']}\n",
      "{'event': 'on_chain_stream', 'run_id': '2d52b46f-7fc1-454e-8e68-fee50456929e', 'name': 'RunnableSequence', 'tags': [], 'metadata': {}, 'data': {'chunk': '雨'}, 'parent_ids': []}\n",
      "{'event': 'on_chat_model_stream', 'data': {'chunk': AIMessageChunk(content='です', additional_kwargs={}, response_metadata={}, id='run-50dd7d21-dca5-49dc-8bcc-a3f43d1b103d')}, 'run_id': '50dd7d21-dca5-49dc-8bcc-a3f43d1b103d', 'name': 'ChatOpenAI', 'tags': ['seq:step:3'], 'metadata': {'ls_provider': 'openai', 'ls_model_name': 'gpt-4o-mini', 'ls_model_type': 'chat', 'ls_temperature': 0.0}, 'parent_ids': ['2d52b46f-7fc1-454e-8e68-fee50456929e']}\n",
      "{'event': 'on_parser_stream', 'run_id': '954c7d7f-5420-49ee-9fcc-d2c0b3554f95', 'name': 'StrOutputParser', 'tags': ['seq:step:4'], 'metadata': {}, 'data': {'chunk': 'です'}, 'parent_ids': ['2d52b46f-7fc1-454e-8e68-fee50456929e']}\n",
      "{'event': 'on_chain_stream', 'run_id': '2d52b46f-7fc1-454e-8e68-fee50456929e', 'name': 'RunnableSequence', 'tags': [], 'metadata': {}, 'data': {'chunk': 'です'}, 'parent_ids': []}\n",
      "{'event': 'on_chat_model_stream', 'data': {'chunk': AIMessageChunk(content='。', additional_kwargs={}, response_metadata={}, id='run-50dd7d21-dca5-49dc-8bcc-a3f43d1b103d')}, 'run_id': '50dd7d21-dca5-49dc-8bcc-a3f43d1b103d', 'name': 'ChatOpenAI', 'tags': ['seq:step:3'], 'metadata': {'ls_provider': 'openai', 'ls_model_name': 'gpt-4o-mini', 'ls_model_type': 'chat', 'ls_temperature': 0.0}, 'parent_ids': ['2d52b46f-7fc1-454e-8e68-fee50456929e']}\n",
      "{'event': 'on_parser_stream', 'run_id': '954c7d7f-5420-49ee-9fcc-d2c0b3554f95', 'name': 'StrOutputParser', 'tags': ['seq:step:4'], 'metadata': {}, 'data': {'chunk': '。'}, 'parent_ids': ['2d52b46f-7fc1-454e-8e68-fee50456929e']}\n",
      "{'event': 'on_chain_stream', 'run_id': '2d52b46f-7fc1-454e-8e68-fee50456929e', 'name': 'RunnableSequence', 'tags': [], 'metadata': {}, 'data': {'chunk': '。'}, 'parent_ids': []}\n",
      "{'event': 'on_chat_model_stream', 'data': {'chunk': AIMessageChunk(content='昼', additional_kwargs={}, response_metadata={}, id='run-50dd7d21-dca5-49dc-8bcc-a3f43d1b103d')}, 'run_id': '50dd7d21-dca5-49dc-8bcc-a3f43d1b103d', 'name': 'ChatOpenAI', 'tags': ['seq:step:3'], 'metadata': {'ls_provider': 'openai', 'ls_model_name': 'gpt-4o-mini', 'ls_model_type': 'chat', 'ls_temperature': 0.0}, 'parent_ids': ['2d52b46f-7fc1-454e-8e68-fee50456929e']}\n",
      "{'event': 'on_parser_stream', 'run_id': '954c7d7f-5420-49ee-9fcc-d2c0b3554f95', 'name': 'StrOutputParser', 'tags': ['seq:step:4'], 'metadata': {}, 'data': {'chunk': '昼'}, 'parent_ids': ['2d52b46f-7fc1-454e-8e68-fee50456929e']}\n",
      "{'event': 'on_chain_stream', 'run_id': '2d52b46f-7fc1-454e-8e68-fee50456929e', 'name': 'RunnableSequence', 'tags': [], 'metadata': {}, 'data': {'chunk': '昼'}, 'parent_ids': []}\n",
      "{'event': 'on_chat_model_stream', 'data': {'chunk': AIMessageChunk(content='頃', additional_kwargs={}, response_metadata={}, id='run-50dd7d21-dca5-49dc-8bcc-a3f43d1b103d')}, 'run_id': '50dd7d21-dca5-49dc-8bcc-a3f43d1b103d', 'name': 'ChatOpenAI', 'tags': ['seq:step:3'], 'metadata': {'ls_provider': 'openai', 'ls_model_name': 'gpt-4o-mini', 'ls_model_type': 'chat', 'ls_temperature': 0.0}, 'parent_ids': ['2d52b46f-7fc1-454e-8e68-fee50456929e']}\n",
      "{'event': 'on_parser_stream', 'run_id': '954c7d7f-5420-49ee-9fcc-d2c0b3554f95', 'name': 'StrOutputParser', 'tags': ['seq:step:4'], 'metadata': {}, 'data': {'chunk': '頃'}, 'parent_ids': ['2d52b46f-7fc1-454e-8e68-fee50456929e']}\n",
      "{'event': 'on_chain_stream', 'run_id': '2d52b46f-7fc1-454e-8e68-fee50456929e', 'name': 'RunnableSequence', 'tags': [], 'metadata': {}, 'data': {'chunk': '頃'}, 'parent_ids': []}\n",
      "{'event': 'on_chat_model_stream', 'data': {'chunk': AIMessageChunk(content='から', additional_kwargs={}, response_metadata={}, id='run-50dd7d21-dca5-49dc-8bcc-a3f43d1b103d')}, 'run_id': '50dd7d21-dca5-49dc-8bcc-a3f43d1b103d', 'name': 'ChatOpenAI', 'tags': ['seq:step:3'], 'metadata': {'ls_provider': 'openai', 'ls_model_name': 'gpt-4o-mini', 'ls_model_type': 'chat', 'ls_temperature': 0.0}, 'parent_ids': ['2d52b46f-7fc1-454e-8e68-fee50456929e']}\n",
      "{'event': 'on_parser_stream', 'run_id': '954c7d7f-5420-49ee-9fcc-d2c0b3554f95', 'name': 'StrOutputParser', 'tags': ['seq:step:4'], 'metadata': {}, 'data': {'chunk': 'から'}, 'parent_ids': ['2d52b46f-7fc1-454e-8e68-fee50456929e']}\n",
      "{'event': 'on_chain_stream', 'run_id': '2d52b46f-7fc1-454e-8e68-fee50456929e', 'name': 'RunnableSequence', 'tags': [], 'metadata': {}, 'data': {'chunk': 'から'}, 'parent_ids': []}\n",
      "{'event': 'on_chat_model_stream', 'data': {'chunk': AIMessageChunk(content='所', additional_kwargs={}, response_metadata={}, id='run-50dd7d21-dca5-49dc-8bcc-a3f43d1b103d')}, 'run_id': '50dd7d21-dca5-49dc-8bcc-a3f43d1b103d', 'name': 'ChatOpenAI', 'tags': ['seq:step:3'], 'metadata': {'ls_provider': 'openai', 'ls_model_name': 'gpt-4o-mini', 'ls_model_type': 'chat', 'ls_temperature': 0.0}, 'parent_ids': ['2d52b46f-7fc1-454e-8e68-fee50456929e']}\n",
      "{'event': 'on_parser_stream', 'run_id': '954c7d7f-5420-49ee-9fcc-d2c0b3554f95', 'name': 'StrOutputParser', 'tags': ['seq:step:4'], 'metadata': {}, 'data': {'chunk': '所'}, 'parent_ids': ['2d52b46f-7fc1-454e-8e68-fee50456929e']}\n",
      "{'event': 'on_chain_stream', 'run_id': '2d52b46f-7fc1-454e-8e68-fee50456929e', 'name': 'RunnableSequence', 'tags': [], 'metadata': {}, 'data': {'chunk': '所'}, 'parent_ids': []}\n",
      "{'event': 'on_chat_model_stream', 'data': {'chunk': AIMessageChunk(content='々', additional_kwargs={}, response_metadata={}, id='run-50dd7d21-dca5-49dc-8bcc-a3f43d1b103d')}, 'run_id': '50dd7d21-dca5-49dc-8bcc-a3f43d1b103d', 'name': 'ChatOpenAI', 'tags': ['seq:step:3'], 'metadata': {'ls_provider': 'openai', 'ls_model_name': 'gpt-4o-mini', 'ls_model_type': 'chat', 'ls_temperature': 0.0}, 'parent_ids': ['2d52b46f-7fc1-454e-8e68-fee50456929e']}\n",
      "{'event': 'on_parser_stream', 'run_id': '954c7d7f-5420-49ee-9fcc-d2c0b3554f95', 'name': 'StrOutputParser', 'tags': ['seq:step:4'], 'metadata': {}, 'data': {'chunk': '々'}, 'parent_ids': ['2d52b46f-7fc1-454e-8e68-fee50456929e']}\n",
      "{'event': 'on_chain_stream', 'run_id': '2d52b46f-7fc1-454e-8e68-fee50456929e', 'name': 'RunnableSequence', 'tags': [], 'metadata': {}, 'data': {'chunk': '々'}, 'parent_ids': []}\n",
      "{'event': 'on_chat_model_stream', 'data': {'chunk': AIMessageChunk(content='で', additional_kwargs={}, response_metadata={}, id='run-50dd7d21-dca5-49dc-8bcc-a3f43d1b103d')}, 'run_id': '50dd7d21-dca5-49dc-8bcc-a3f43d1b103d', 'name': 'ChatOpenAI', 'tags': ['seq:step:3'], 'metadata': {'ls_provider': 'openai', 'ls_model_name': 'gpt-4o-mini', 'ls_model_type': 'chat', 'ls_temperature': 0.0}, 'parent_ids': ['2d52b46f-7fc1-454e-8e68-fee50456929e']}\n",
      "{'event': 'on_parser_stream', 'run_id': '954c7d7f-5420-49ee-9fcc-d2c0b3554f95', 'name': 'StrOutputParser', 'tags': ['seq:step:4'], 'metadata': {}, 'data': {'chunk': 'で'}, 'parent_ids': ['2d52b46f-7fc1-454e-8e68-fee50456929e']}\n",
      "{'event': 'on_chain_stream', 'run_id': '2d52b46f-7fc1-454e-8e68-fee50456929e', 'name': 'RunnableSequence', 'tags': [], 'metadata': {}, 'data': {'chunk': 'で'}, 'parent_ids': []}\n",
      "{'event': 'on_chat_model_stream', 'data': {'chunk': AIMessageChunk(content='雨', additional_kwargs={}, response_metadata={}, id='run-50dd7d21-dca5-49dc-8bcc-a3f43d1b103d')}, 'run_id': '50dd7d21-dca5-49dc-8bcc-a3f43d1b103d', 'name': 'ChatOpenAI', 'tags': ['seq:step:3'], 'metadata': {'ls_provider': 'openai', 'ls_model_name': 'gpt-4o-mini', 'ls_model_type': 'chat', 'ls_temperature': 0.0}, 'parent_ids': ['2d52b46f-7fc1-454e-8e68-fee50456929e']}\n",
      "{'event': 'on_parser_stream', 'run_id': '954c7d7f-5420-49ee-9fcc-d2c0b3554f95', 'name': 'StrOutputParser', 'tags': ['seq:step:4'], 'metadata': {}, 'data': {'chunk': '雨'}, 'parent_ids': ['2d52b46f-7fc1-454e-8e68-fee50456929e']}\n",
      "{'event': 'on_chain_stream', 'run_id': '2d52b46f-7fc1-454e-8e68-fee50456929e', 'name': 'RunnableSequence', 'tags': [], 'metadata': {}, 'data': {'chunk': '雨'}, 'parent_ids': []}\n",
      "{'event': 'on_chat_model_stream', 'data': {'chunk': AIMessageChunk(content='雲', additional_kwargs={}, response_metadata={}, id='run-50dd7d21-dca5-49dc-8bcc-a3f43d1b103d')}, 'run_id': '50dd7d21-dca5-49dc-8bcc-a3f43d1b103d', 'name': 'ChatOpenAI', 'tags': ['seq:step:3'], 'metadata': {'ls_provider': 'openai', 'ls_model_name': 'gpt-4o-mini', 'ls_model_type': 'chat', 'ls_temperature': 0.0}, 'parent_ids': ['2d52b46f-7fc1-454e-8e68-fee50456929e']}\n",
      "{'event': 'on_parser_stream', 'run_id': '954c7d7f-5420-49ee-9fcc-d2c0b3554f95', 'name': 'StrOutputParser', 'tags': ['seq:step:4'], 'metadata': {}, 'data': {'chunk': '雲'}, 'parent_ids': ['2d52b46f-7fc1-454e-8e68-fee50456929e']}\n",
      "{'event': 'on_chain_stream', 'run_id': '2d52b46f-7fc1-454e-8e68-fee50456929e', 'name': 'RunnableSequence', 'tags': [], 'metadata': {}, 'data': {'chunk': '雲'}, 'parent_ids': []}\n",
      "{'event': 'on_chat_model_stream', 'data': {'chunk': AIMessageChunk(content='が', additional_kwargs={}, response_metadata={}, id='run-50dd7d21-dca5-49dc-8bcc-a3f43d1b103d')}, 'run_id': '50dd7d21-dca5-49dc-8bcc-a3f43d1b103d', 'name': 'ChatOpenAI', 'tags': ['seq:step:3'], 'metadata': {'ls_provider': 'openai', 'ls_model_name': 'gpt-4o-mini', 'ls_model_type': 'chat', 'ls_temperature': 0.0}, 'parent_ids': ['2d52b46f-7fc1-454e-8e68-fee50456929e']}\n",
      "{'event': 'on_parser_stream', 'run_id': '954c7d7f-5420-49ee-9fcc-d2c0b3554f95', 'name': 'StrOutputParser', 'tags': ['seq:step:4'], 'metadata': {}, 'data': {'chunk': 'が'}, 'parent_ids': ['2d52b46f-7fc1-454e-8e68-fee50456929e']}\n",
      "{'event': 'on_chain_stream', 'run_id': '2d52b46f-7fc1-454e-8e68-fee50456929e', 'name': 'RunnableSequence', 'tags': [], 'metadata': {}, 'data': {'chunk': 'が'}, 'parent_ids': []}\n",
      "{'event': 'on_chat_model_stream', 'data': {'chunk': AIMessageChunk(content='湧', additional_kwargs={}, response_metadata={}, id='run-50dd7d21-dca5-49dc-8bcc-a3f43d1b103d')}, 'run_id': '50dd7d21-dca5-49dc-8bcc-a3f43d1b103d', 'name': 'ChatOpenAI', 'tags': ['seq:step:3'], 'metadata': {'ls_provider': 'openai', 'ls_model_name': 'gpt-4o-mini', 'ls_model_type': 'chat', 'ls_temperature': 0.0}, 'parent_ids': ['2d52b46f-7fc1-454e-8e68-fee50456929e']}\n",
      "{'event': 'on_parser_stream', 'run_id': '954c7d7f-5420-49ee-9fcc-d2c0b3554f95', 'name': 'StrOutputParser', 'tags': ['seq:step:4'], 'metadata': {}, 'data': {'chunk': '湧'}, 'parent_ids': ['2d52b46f-7fc1-454e-8e68-fee50456929e']}\n",
      "{'event': 'on_chain_stream', 'run_id': '2d52b46f-7fc1-454e-8e68-fee50456929e', 'name': 'RunnableSequence', 'tags': [], 'metadata': {}, 'data': {'chunk': '湧'}, 'parent_ids': []}\n",
      "{'event': 'on_chat_model_stream', 'data': {'chunk': AIMessageChunk(content='き', additional_kwargs={}, response_metadata={}, id='run-50dd7d21-dca5-49dc-8bcc-a3f43d1b103d')}, 'run_id': '50dd7d21-dca5-49dc-8bcc-a3f43d1b103d', 'name': 'ChatOpenAI', 'tags': ['seq:step:3'], 'metadata': {'ls_provider': 'openai', 'ls_model_name': 'gpt-4o-mini', 'ls_model_type': 'chat', 'ls_temperature': 0.0}, 'parent_ids': ['2d52b46f-7fc1-454e-8e68-fee50456929e']}\n",
      "{'event': 'on_parser_stream', 'run_id': '954c7d7f-5420-49ee-9fcc-d2c0b3554f95', 'name': 'StrOutputParser', 'tags': ['seq:step:4'], 'metadata': {}, 'data': {'chunk': 'き'}, 'parent_ids': ['2d52b46f-7fc1-454e-8e68-fee50456929e']}\n",
      "{'event': 'on_chain_stream', 'run_id': '2d52b46f-7fc1-454e-8e68-fee50456929e', 'name': 'RunnableSequence', 'tags': [], 'metadata': {}, 'data': {'chunk': 'き'}, 'parent_ids': []}\n",
      "{'event': 'on_chat_model_stream', 'data': {'chunk': AIMessageChunk(content='、', additional_kwargs={}, response_metadata={}, id='run-50dd7d21-dca5-49dc-8bcc-a3f43d1b103d')}, 'run_id': '50dd7d21-dca5-49dc-8bcc-a3f43d1b103d', 'name': 'ChatOpenAI', 'tags': ['seq:step:3'], 'metadata': {'ls_provider': 'openai', 'ls_model_name': 'gpt-4o-mini', 'ls_model_type': 'chat', 'ls_temperature': 0.0}, 'parent_ids': ['2d52b46f-7fc1-454e-8e68-fee50456929e']}\n",
      "{'event': 'on_parser_stream', 'run_id': '954c7d7f-5420-49ee-9fcc-d2c0b3554f95', 'name': 'StrOutputParser', 'tags': ['seq:step:4'], 'metadata': {}, 'data': {'chunk': '、'}, 'parent_ids': ['2d52b46f-7fc1-454e-8e68-fee50456929e']}\n",
      "{'event': 'on_chain_stream', 'run_id': '2d52b46f-7fc1-454e-8e68-fee50456929e', 'name': 'RunnableSequence', 'tags': [], 'metadata': {}, 'data': {'chunk': '、'}, 'parent_ids': []}\n",
      "{'event': 'on_chat_model_stream', 'data': {'chunk': AIMessageChunk(content='夜', additional_kwargs={}, response_metadata={}, id='run-50dd7d21-dca5-49dc-8bcc-a3f43d1b103d')}, 'run_id': '50dd7d21-dca5-49dc-8bcc-a3f43d1b103d', 'name': 'ChatOpenAI', 'tags': ['seq:step:3'], 'metadata': {'ls_provider': 'openai', 'ls_model_name': 'gpt-4o-mini', 'ls_model_type': 'chat', 'ls_temperature': 0.0}, 'parent_ids': ['2d52b46f-7fc1-454e-8e68-fee50456929e']}\n",
      "{'event': 'on_parser_stream', 'run_id': '954c7d7f-5420-49ee-9fcc-d2c0b3554f95', 'name': 'StrOutputParser', 'tags': ['seq:step:4'], 'metadata': {}, 'data': {'chunk': '夜'}, 'parent_ids': ['2d52b46f-7fc1-454e-8e68-fee50456929e']}\n",
      "{'event': 'on_chain_stream', 'run_id': '2d52b46f-7fc1-454e-8e68-fee50456929e', 'name': 'RunnableSequence', 'tags': [], 'metadata': {}, 'data': {'chunk': '夜'}, 'parent_ids': []}\n",
      "{'event': 'on_chat_model_stream', 'data': {'chunk': AIMessageChunk(content='は', additional_kwargs={}, response_metadata={}, id='run-50dd7d21-dca5-49dc-8bcc-a3f43d1b103d')}, 'run_id': '50dd7d21-dca5-49dc-8bcc-a3f43d1b103d', 'name': 'ChatOpenAI', 'tags': ['seq:step:3'], 'metadata': {'ls_provider': 'openai', 'ls_model_name': 'gpt-4o-mini', 'ls_model_type': 'chat', 'ls_temperature': 0.0}, 'parent_ids': ['2d52b46f-7fc1-454e-8e68-fee50456929e']}\n",
      "{'event': 'on_parser_stream', 'run_id': '954c7d7f-5420-49ee-9fcc-d2c0b3554f95', 'name': 'StrOutputParser', 'tags': ['seq:step:4'], 'metadata': {}, 'data': {'chunk': 'は'}, 'parent_ids': ['2d52b46f-7fc1-454e-8e68-fee50456929e']}\n",
      "{'event': 'on_chain_stream', 'run_id': '2d52b46f-7fc1-454e-8e68-fee50456929e', 'name': 'RunnableSequence', 'tags': [], 'metadata': {}, 'data': {'chunk': 'は'}, 'parent_ids': []}\n",
      "{'event': 'on_chat_model_stream', 'data': {'chunk': AIMessageChunk(content='広', additional_kwargs={}, response_metadata={}, id='run-50dd7d21-dca5-49dc-8bcc-a3f43d1b103d')}, 'run_id': '50dd7d21-dca5-49dc-8bcc-a3f43d1b103d', 'name': 'ChatOpenAI', 'tags': ['seq:step:3'], 'metadata': {'ls_provider': 'openai', 'ls_model_name': 'gpt-4o-mini', 'ls_model_type': 'chat', 'ls_temperature': 0.0}, 'parent_ids': ['2d52b46f-7fc1-454e-8e68-fee50456929e']}\n",
      "{'event': 'on_parser_stream', 'run_id': '954c7d7f-5420-49ee-9fcc-d2c0b3554f95', 'name': 'StrOutputParser', 'tags': ['seq:step:4'], 'metadata': {}, 'data': {'chunk': '広'}, 'parent_ids': ['2d52b46f-7fc1-454e-8e68-fee50456929e']}\n",
      "{'event': 'on_chain_stream', 'run_id': '2d52b46f-7fc1-454e-8e68-fee50456929e', 'name': 'RunnableSequence', 'tags': [], 'metadata': {}, 'data': {'chunk': '広'}, 'parent_ids': []}\n",
      "{'event': 'on_chat_model_stream', 'data': {'chunk': AIMessageChunk(content='く', additional_kwargs={}, response_metadata={}, id='run-50dd7d21-dca5-49dc-8bcc-a3f43d1b103d')}, 'run_id': '50dd7d21-dca5-49dc-8bcc-a3f43d1b103d', 'name': 'ChatOpenAI', 'tags': ['seq:step:3'], 'metadata': {'ls_provider': 'openai', 'ls_model_name': 'gpt-4o-mini', 'ls_model_type': 'chat', 'ls_temperature': 0.0}, 'parent_ids': ['2d52b46f-7fc1-454e-8e68-fee50456929e']}\n",
      "{'event': 'on_parser_stream', 'run_id': '954c7d7f-5420-49ee-9fcc-d2c0b3554f95', 'name': 'StrOutputParser', 'tags': ['seq:step:4'], 'metadata': {}, 'data': {'chunk': 'く'}, 'parent_ids': ['2d52b46f-7fc1-454e-8e68-fee50456929e']}\n",
      "{'event': 'on_chain_stream', 'run_id': '2d52b46f-7fc1-454e-8e68-fee50456929e', 'name': 'RunnableSequence', 'tags': [], 'metadata': {}, 'data': {'chunk': 'く'}, 'parent_ids': []}\n",
      "{'event': 'on_chat_model_stream', 'data': {'chunk': AIMessageChunk(content='雨', additional_kwargs={}, response_metadata={}, id='run-50dd7d21-dca5-49dc-8bcc-a3f43d1b103d')}, 'run_id': '50dd7d21-dca5-49dc-8bcc-a3f43d1b103d', 'name': 'ChatOpenAI', 'tags': ['seq:step:3'], 'metadata': {'ls_provider': 'openai', 'ls_model_name': 'gpt-4o-mini', 'ls_model_type': 'chat', 'ls_temperature': 0.0}, 'parent_ids': ['2d52b46f-7fc1-454e-8e68-fee50456929e']}\n",
      "{'event': 'on_parser_stream', 'run_id': '954c7d7f-5420-49ee-9fcc-d2c0b3554f95', 'name': 'StrOutputParser', 'tags': ['seq:step:4'], 'metadata': {}, 'data': {'chunk': '雨'}, 'parent_ids': ['2d52b46f-7fc1-454e-8e68-fee50456929e']}\n",
      "{'event': 'on_chain_stream', 'run_id': '2d52b46f-7fc1-454e-8e68-fee50456929e', 'name': 'RunnableSequence', 'tags': [], 'metadata': {}, 'data': {'chunk': '雨'}, 'parent_ids': []}\n",
      "{'event': 'on_chat_model_stream', 'data': {'chunk': AIMessageChunk(content='になる', additional_kwargs={}, response_metadata={}, id='run-50dd7d21-dca5-49dc-8bcc-a3f43d1b103d')}, 'run_id': '50dd7d21-dca5-49dc-8bcc-a3f43d1b103d', 'name': 'ChatOpenAI', 'tags': ['seq:step:3'], 'metadata': {'ls_provider': 'openai', 'ls_model_name': 'gpt-4o-mini', 'ls_model_type': 'chat', 'ls_temperature': 0.0}, 'parent_ids': ['2d52b46f-7fc1-454e-8e68-fee50456929e']}\n",
      "{'event': 'on_parser_stream', 'run_id': '954c7d7f-5420-49ee-9fcc-d2c0b3554f95', 'name': 'StrOutputParser', 'tags': ['seq:step:4'], 'metadata': {}, 'data': {'chunk': 'になる'}, 'parent_ids': ['2d52b46f-7fc1-454e-8e68-fee50456929e']}\n",
      "{'event': 'on_chain_stream', 'run_id': '2d52b46f-7fc1-454e-8e68-fee50456929e', 'name': 'RunnableSequence', 'tags': [], 'metadata': {}, 'data': {'chunk': 'になる'}, 'parent_ids': []}\n",
      "{'event': 'on_chat_model_stream', 'data': {'chunk': AIMessageChunk(content='予', additional_kwargs={}, response_metadata={}, id='run-50dd7d21-dca5-49dc-8bcc-a3f43d1b103d')}, 'run_id': '50dd7d21-dca5-49dc-8bcc-a3f43d1b103d', 'name': 'ChatOpenAI', 'tags': ['seq:step:3'], 'metadata': {'ls_provider': 'openai', 'ls_model_name': 'gpt-4o-mini', 'ls_model_type': 'chat', 'ls_temperature': 0.0}, 'parent_ids': ['2d52b46f-7fc1-454e-8e68-fee50456929e']}\n",
      "{'event': 'on_parser_stream', 'run_id': '954c7d7f-5420-49ee-9fcc-d2c0b3554f95', 'name': 'StrOutputParser', 'tags': ['seq:step:4'], 'metadata': {}, 'data': {'chunk': '予'}, 'parent_ids': ['2d52b46f-7fc1-454e-8e68-fee50456929e']}\n",
      "{'event': 'on_chain_stream', 'run_id': '2d52b46f-7fc1-454e-8e68-fee50456929e', 'name': 'RunnableSequence', 'tags': [], 'metadata': {}, 'data': {'chunk': '予'}, 'parent_ids': []}\n",
      "{'event': 'on_chat_model_stream', 'data': {'chunk': AIMessageChunk(content='報', additional_kwargs={}, response_metadata={}, id='run-50dd7d21-dca5-49dc-8bcc-a3f43d1b103d')}, 'run_id': '50dd7d21-dca5-49dc-8bcc-a3f43d1b103d', 'name': 'ChatOpenAI', 'tags': ['seq:step:3'], 'metadata': {'ls_provider': 'openai', 'ls_model_name': 'gpt-4o-mini', 'ls_model_type': 'chat', 'ls_temperature': 0.0}, 'parent_ids': ['2d52b46f-7fc1-454e-8e68-fee50456929e']}\n",
      "{'event': 'on_parser_stream', 'run_id': '954c7d7f-5420-49ee-9fcc-d2c0b3554f95', 'name': 'StrOutputParser', 'tags': ['seq:step:4'], 'metadata': {}, 'data': {'chunk': '報'}, 'parent_ids': ['2d52b46f-7fc1-454e-8e68-fee50456929e']}\n",
      "{'event': 'on_chain_stream', 'run_id': '2d52b46f-7fc1-454e-8e68-fee50456929e', 'name': 'RunnableSequence', 'tags': [], 'metadata': {}, 'data': {'chunk': '報'}, 'parent_ids': []}\n",
      "{'event': 'on_chat_model_stream', 'data': {'chunk': AIMessageChunk(content='です', additional_kwargs={}, response_metadata={}, id='run-50dd7d21-dca5-49dc-8bcc-a3f43d1b103d')}, 'run_id': '50dd7d21-dca5-49dc-8bcc-a3f43d1b103d', 'name': 'ChatOpenAI', 'tags': ['seq:step:3'], 'metadata': {'ls_provider': 'openai', 'ls_model_name': 'gpt-4o-mini', 'ls_model_type': 'chat', 'ls_temperature': 0.0}, 'parent_ids': ['2d52b46f-7fc1-454e-8e68-fee50456929e']}\n",
      "{'event': 'on_parser_stream', 'run_id': '954c7d7f-5420-49ee-9fcc-d2c0b3554f95', 'name': 'StrOutputParser', 'tags': ['seq:step:4'], 'metadata': {}, 'data': {'chunk': 'です'}, 'parent_ids': ['2d52b46f-7fc1-454e-8e68-fee50456929e']}\n",
      "{'event': 'on_chain_stream', 'run_id': '2d52b46f-7fc1-454e-8e68-fee50456929e', 'name': 'RunnableSequence', 'tags': [], 'metadata': {}, 'data': {'chunk': 'です'}, 'parent_ids': []}\n",
      "{'event': 'on_chat_model_stream', 'data': {'chunk': AIMessageChunk(content='。', additional_kwargs={}, response_metadata={}, id='run-50dd7d21-dca5-49dc-8bcc-a3f43d1b103d')}, 'run_id': '50dd7d21-dca5-49dc-8bcc-a3f43d1b103d', 'name': 'ChatOpenAI', 'tags': ['seq:step:3'], 'metadata': {'ls_provider': 'openai', 'ls_model_name': 'gpt-4o-mini', 'ls_model_type': 'chat', 'ls_temperature': 0.0}, 'parent_ids': ['2d52b46f-7fc1-454e-8e68-fee50456929e']}\n",
      "{'event': 'on_parser_stream', 'run_id': '954c7d7f-5420-49ee-9fcc-d2c0b3554f95', 'name': 'StrOutputParser', 'tags': ['seq:step:4'], 'metadata': {}, 'data': {'chunk': '。'}, 'parent_ids': ['2d52b46f-7fc1-454e-8e68-fee50456929e']}\n",
      "{'event': 'on_chain_stream', 'run_id': '2d52b46f-7fc1-454e-8e68-fee50456929e', 'name': 'RunnableSequence', 'tags': [], 'metadata': {}, 'data': {'chunk': '。'}, 'parent_ids': []}\n",
      "{'event': 'on_chat_model_stream', 'data': {'chunk': AIMessageChunk(content='', additional_kwargs={}, response_metadata={'finish_reason': 'stop', 'model_name': 'gpt-4o-mini-2024-07-18'}, id='run-50dd7d21-dca5-49dc-8bcc-a3f43d1b103d')}, 'run_id': '50dd7d21-dca5-49dc-8bcc-a3f43d1b103d', 'name': 'ChatOpenAI', 'tags': ['seq:step:3'], 'metadata': {'ls_provider': 'openai', 'ls_model_name': 'gpt-4o-mini', 'ls_model_type': 'chat', 'ls_temperature': 0.0}, 'parent_ids': ['2d52b46f-7fc1-454e-8e68-fee50456929e']}\n",
      "{'event': 'on_parser_stream', 'run_id': '954c7d7f-5420-49ee-9fcc-d2c0b3554f95', 'name': 'StrOutputParser', 'tags': ['seq:step:4'], 'metadata': {}, 'data': {'chunk': ''}, 'parent_ids': ['2d52b46f-7fc1-454e-8e68-fee50456929e']}\n",
      "{'event': 'on_chain_stream', 'run_id': '2d52b46f-7fc1-454e-8e68-fee50456929e', 'name': 'RunnableSequence', 'tags': [], 'metadata': {}, 'data': {'chunk': ''}, 'parent_ids': []}\n",
      "{'event': 'on_chat_model_end', 'data': {'output': AIMessageChunk(content='東京の今日の天気は曇のち雨です。昼頃から所々で雨雲が湧き、夜は広く雨になる予報です。', additional_kwargs={}, response_metadata={'finish_reason': 'stop', 'model_name': 'gpt-4o-mini-2024-07-18'}, id='run-50dd7d21-dca5-49dc-8bcc-a3f43d1b103d'), 'input': {'messages': [[HumanMessage(content='以下の文脈だけを踏まえて質問に回答してください。\\n文脈: \"\"\"\\n[Document(metadata={\\'title\\': \\'東京都の天気 - 日本気象協会 tenki.jp\\', \\'source\\': \\'https://tenki.jp/forecast/3/16/\\', \\'score\\': 0.7803451, \\'images\\': []}, page_content=\\'# tenki.jp 雨雲レーダー) 天気図 PM2.5分布予測 地震情報 日直予報士 熱中症情報 東京都の天気 ### 05月29日(木) 東京都の天気 曇のち雨 曇のち雨 曇のち雨 曇のち雨 曇のち雨 曇のち雨 曇のち雨 曇のち雨 晴時々曇 曇のち雨 曇のち雨 曇のち雨 曇のち雨 曇のち雨 最新の天気履歴 渋谷区 曇のち雨 豊島区 曇のち雨 江東区 曇のち雨 港区 曇のち雨 大田区 曇のち雨 府中市 曇のち雨 奥多摩町 曇のち雨 関東・甲信 ### 気象予報士のポイント解説(日直予報士) newマーク 関東甲信\\\\u3000今日29日は天気下り坂\\\\u3000昼頃から所々で雨雲が湧く\\\\u3000夜は広く雨に 関東甲信\\\\u3000今日29日は天気下り坂\\\\u3000昼頃から所々で雨雲が湧く\\\\u3000夜は広く雨に newマーク 今日29日は気圧が低下\\\\u3000沖縄や九州から近畿は影響度「大」の所も\\\\u3000頭痛など注意 今日29日は気圧が低下\\\\u3000沖縄や九州から近畿は影響度「大」の所も\\\\u3000頭痛など注意 今日29日\\\\u3000九州から関東は次第に雨\\\\u3000東北と北海道は晴れて気温上昇\\\\u3000真夏日も 今日29日\\\\u3000九州から関東は次第に雨\\\\u3000東北と北海道は晴れて気温上昇\\\\u3000真夏日も ### 東京都各地の天気 #### 東京23区 #### 多摩 #### 伊豆諸島北部(大島) #### 伊豆諸島南部(八丈島) #### 小笠原諸島(父島) ### おすすめ記事 LINEの友達追加 ### 天気ガイド 雨雲 ### 注目の情報 アプリに便利なサブスクプラン開始 「tenki.jpライト」なら現在地の雨雲接近通知が受け取れる！ 新サービス「気圧予報」 気圧変化を確認して、頭痛やめまい、倦怠感といった症状に備えましょう。 X（旧Twitter） tenki.jpの公式X（旧Twitter） 最新の気象・防災情報や、生活に役立つ情報を毎日リアルタイムに配信中！ 天気予報 観測 防災情報 天気図 指数情報 レジャー天気 季節特集 天気ニュース X(旧：Twitter) Youtube Facebook Instagram LINEの友達追加 tenki.jp tenki.jp tenki.jp 登山天気 tenki.jp 登山天気 全国のコンテンツ tenki.jpトップ 天気予報 観測 防災情報 天気図\\'), Document(metadata={\\'title\\': \\'東京（東京）の天気 - Yahoo!天気・災害\\', \\'source\\': \\'https://weather.yahoo.co.jp/weather/jp/13/4410.html\\', \\'score\\': 0.71185225, \\'images\\': []}, page_content=\\'東京（東京）の天気 - Yahoo! - Yahoo! Yahoo! | 6月25日(水)  曇一時雨曇一時雨   - *29*℃[-1] - *25*℃[-1]  |  |  |  |  |  | | --- | --- | --- | --- | --- | | 時間 | 0-6 | 6-12 | 12-18 | 18-24 | | 降水 | --- | --- | --- | 50％ |   風：  南東の風後北東の風  波：  0.5メートル | 6月26日(木)  曇一時雨曇一時雨   - *31*℃[+2] - *25*℃[0]  |  |  |  |  |  | | --- | --- | --- | --- | --- | | 時間 | 0-6 | 6-12 | 12-18 | 18-24 | | 降水 | 70％ | 20％ | 20％ | 40％ |   風：  北の風後南の風２３区西部では南西の風やや強く  波：  0.5メートル後1.5メートル | - 6月25日(水) - 6月26日(木) (C) LY Corporation Yahoo! (C) LY Corporation Yahoo! cpt_n=safetymail&cpt_m=bnr&cpt_s=yahoo&cpt_c=weatherbnr) Yahoo!\\'), Document(metadata={\\'title\\': \\'東京の天気予報 - ウェザーニュース\\', \\'source\\': \\'https://weathernews.jp/onebox/tenki/tokyo/\\', \\'score\\': 0.6778372, \\'images\\': []}, page_content=\\'{{item.cityname}} {{item.high}} {{item.low}} è\\\\x87ªç\\\\x84¶ã\\\\x83»å\\\\xad£ç¯\\\\x80ã\\\\x83»ã\\\\x83¬ã\\\\x82¸ã\\\\x83£ã\\\\x83¼æ\\\\x83\\\\x85å ± æ¢\\\\x85é\\\\x9b¨æ\\\\x83\\\\x85å ± è\\\\x8a±ç²\\\\x89é£\\\\x9bæ\\\\x95£æ\\\\x83\\\\x85å ± å\\\\x9c°é\\\\x9c\\\\x87æ\\\\x83\\\\x85å ± å\\\\x8f°é¢¨æ\\\\x83\\\\x85å ± é\\\\x95·æ\\\\x9c\\\\x9fäº\\\\x88å ± å\\\\x8f°é¢¨æ\\\\x83\\\\x85å ± å\\\\x9c°é\\\\x9c\\\\x87æ\\\\x83\\\\x85å ± æ´¥æ³¢æ\\\\x83\\\\x85å ± ç\\\\x81«å±±æ\\\\x83\\\\x85å ± æ¸\\\\x9bç\\\\x81½æ\\\\x83\\\\x85å ± é\\\\x81¿é\\\\x9b£æ\\\\x83\\\\x85å ± ã\\\\x81\\\\x95ã\\\\x81\\\\x8fã\\\\x82\\\\x89é\\\\x96\\\\x8bè\\\\x8a±æ\\\\x83\\\\x85å ± ã\\\\x82¹ã\\\\x82\\\\xadã\\\\x83¼ï¼\\\\x86ã\\\\x82¹ã\\\\x83\\\\x8eã\\\\x83\\\\x9cæ\\\\x83\\\\x85å ± è\\\\x8a±ç\\\\x81«å¤©æ°\\\\x97 Ch. ã\\\\x81»ã\\\\x81\\\\x9fã\\\\x82\\\\x8bæ\\\\x83\\\\x85å ± ã\\\\x81\\\\x82ã\\\\x81\\\\x98ã\\\\x81\\\\x95ã\\\\x81\\\\x84æ\\\\x83\\\\x85å ± æ\\\\x98\\\\x9fç©ºæ\\\\x83\\\\x85å ± å\\\\x88\\\\x9dæ\\\\x97¥ã\\\\x81®å\\\\x87ºæ\\\\x83\\\\x85å ± å\\\\x88\\\\x9dè©£æ\\\\x83\\\\x85å ± ç´\\\\x85è\\\\x91\\\\x89æ\\\\x83\\\\x85å ± ã\\\\x82¤ã\\\\x83«ã\\\\x83\\\\x9fã\\\\x83\\\\x8dã\\\\x83¼ã\\\\x82·ã\\\\x83§ã\\\\x83³æ\\\\x83\\\\x85å ± è\\\\x8a±ç²\\\\x89é£\\\\x9bæ\\\\x95£æ\\\\x83\\\\x85å ± å¤©æ°\\\\x97ç\\\\x97\\\\x9bäº\\\\x88å ± ç\\\\x86±ä¸\\\\xadç\\\\x97\\\\x87äº\\\\x88å ± ç´«å¤\\\\x96ç·\\\\x9aäº\\\\x88å ± æ\\\\x9c\\\\x8dè£\\\\x85äº\\\\x88å ± ã\\\\x81\\\\x8aæ´\\\\x97æ¿¯æ\\\\x83\\\\x85å ± Labs Ch. # æ\\\\x9d±äº¬ã\\\\x81®å¤©æ°\\\\x97äº\\\\x88å ± ## {{pref\\\\\\\\_jp}}{{cityname}}ã\\\\x81®1æ\\\\x99\\\\x82é\\\\x96\\\\x93æ¯\\\\x8eã\\\\x81®å¤©æ°\\\\x97 {{daily.date}}æ\\\\x97¥{{daily.youbi\\\\\\\\_str}} {{hourly.time}} {{hourly.prec}} {{hourly.temp}} {{hourly.wndspd}} ## {{pref\\\\\\\\_jp}}{{cityname}}ã\\\\x81®é\\\\x80±é\\\\x96\\\\x93å¤©æ°\\\\x97äº\\\\x88å ±ï¼\\\\x8810æ\\\\x97¥é\\\\x96\\\\x93ï¼\\\\x89 {{item.date}}   {{item.youbi\\\\\\\\_str}} {{item.high}} {{item.low}} {{item.pop}} ## å¸\\\\x82å\\\\x8cºç\\\\x94ºæ\\\\x9d\\\\x91å\\\\x88¥ã\\\\x81®å¤©æ°\\\\x97äº\\\\x88å ± {{point.rank}} ({{point.pref}}) ({{point.dateRecord}}) ## å\\\\x90\\\\x84ã\\\\x82¨ã\\\\x83ªã\\\\x82¢ã\\\\x81®å¤©æ°\\\\x97äº\\\\x88å ± {{point.rank}} ({{point.pref}}) ({{point.dateRecord}}) ### è\\\\x87ªç\\\\x84¶ã\\\\x83»å\\\\xad£ç¯\\\\x80ã\\\\x83»ã\\\\x83¬ã\\\\x82¸ã\\\\x83£ã\\\\x83¼æ\\\\x83\\\\x85å ±\\')]\\n\"\"\"\\n質問: 東京の今日の天気は？\\n', additional_kwargs={}, response_metadata={})]]}}, 'run_id': '50dd7d21-dca5-49dc-8bcc-a3f43d1b103d', 'name': 'ChatOpenAI', 'tags': ['seq:step:3'], 'metadata': {'ls_provider': 'openai', 'ls_model_name': 'gpt-4o-mini', 'ls_model_type': 'chat', 'ls_temperature': 0.0}, 'parent_ids': ['2d52b46f-7fc1-454e-8e68-fee50456929e']}\n",
      "{'event': 'on_parser_end', 'data': {'output': '東京の今日の天気は曇のち雨です。昼頃から所々で雨雲が湧き、夜は広く雨になる予報です。', 'input': AIMessageChunk(content='東京の今日の天気は曇のち雨です。昼頃から所々で雨雲が湧き、夜は広く雨になる予報です。', additional_kwargs={}, response_metadata={'finish_reason': 'stop', 'model_name': 'gpt-4o-mini-2024-07-18'}, id='run-50dd7d21-dca5-49dc-8bcc-a3f43d1b103d')}, 'run_id': '954c7d7f-5420-49ee-9fcc-d2c0b3554f95', 'name': 'StrOutputParser', 'tags': ['seq:step:4'], 'metadata': {}, 'parent_ids': ['2d52b46f-7fc1-454e-8e68-fee50456929e']}\n",
      "{'event': 'on_chain_end', 'data': {'output': '東京の今日の天気は曇のち雨です。昼頃から所々で雨雲が湧き、夜は広く雨になる予報です。'}, 'run_id': '2d52b46f-7fc1-454e-8e68-fee50456929e', 'name': 'RunnableSequence', 'tags': [], 'metadata': {}, 'parent_ids': []}\n"
     ]
    }
   ],
   "source": [
    "chain = (\n",
    "    {\"context\": retriever, \"question\": RunnablePassthrough()}\n",
    "    | prompt\n",
    "    | model\n",
    "    | StrOutputParser()\n",
    ")\n",
    "\n",
    "async for event in chain.astream_events(\"東京の今日の天気は？\", version=\"v2\"):\n",
    "    print(event, flush=True)"
   ]
  },
  {
   "cell_type": "code",
   "execution_count": 23,
   "metadata": {},
   "outputs": [
    {
     "name": "stdout",
     "output_type": "stream",
     "text": [
      "=== 検索結果 ===\n",
      "page_content='# tenki.jp 雨雲レーダー) 天気図 PM2.5分布予測 地震情報 日直予報士 熱中症情報 東京都の天気 ### 05月29日(木) 東京都の天気 曇のち雨 曇のち雨 曇のち雨 曇のち雨 曇のち雨 曇のち雨 曇のち雨 曇のち雨 晴時々曇 曇のち雨 曇のち雨 曇のち雨 曇のち雨 曇のち雨 最新の天気履歴 渋谷区 曇のち雨 豊島区 曇のち雨 江東区 曇のち雨 港区 曇のち雨 大田区 曇のち雨 府中市 曇のち雨 奥多摩町 曇のち雨 関東・甲信 ### 気象予報士のポイント解説(日直予報士) newマーク 関東甲信　今日29日は天気下り坂　昼頃から所々で雨雲が湧く　夜は広く雨に 関東甲信　今日29日は天気下り坂　昼頃から所々で雨雲が湧く　夜は広く雨に newマーク 今日29日は気圧が低下　沖縄や九州から近畿は影響度「大」の所も　頭痛など注意 今日29日は気圧が低下　沖縄や九州から近畿は影響度「大」の所も　頭痛など注意 今日29日　九州から関東は次第に雨　東北と北海道は晴れて気温上昇　真夏日も 今日29日　九州から関東は次第に雨　東北と北海道は晴れて気温上昇　真夏日も ### 東京都各地の天気 #### 東京23区 #### 多摩 #### 伊豆諸島北部(大島) #### 伊豆諸島南部(八丈島) #### 小笠原諸島(父島) ### おすすめ記事 LINEの友達追加 ### 天気ガイド 雨雲 ### 注目の情報 アプリに便利なサブスクプラン開始 「tenki.jpライト」なら現在地の雨雲接近通知が受け取れる！ 新サービス「気圧予報」 気圧変化を確認して、頭痛やめまい、倦怠感といった症状に備えましょう。 X（旧Twitter） tenki.jpの公式X（旧Twitter） 最新の気象・防災情報や、生活に役立つ情報を毎日リアルタイムに配信中！ 天気予報 観測 防災情報 天気図 指数情報 レジャー天気 季節特集 天気ニュース X(旧：Twitter) Youtube Facebook Instagram LINEの友達追加 tenki.jp tenki.jp tenki.jp 登山天気 tenki.jp 登山天気 全国のコンテンツ tenki.jpトップ 天気予報 観測 防災情報 天気図' metadata={'title': '東京都の天気 - 日本気象協会 tenki.jp', 'source': 'https://tenki.jp/forecast/3/16/', 'score': 0.7803451, 'images': []}\n",
      "page_content='東京（東京）の天気 - Yahoo! - Yahoo! Yahoo! | 6月25日(水)  曇一時雨曇一時雨   - *29*℃[-1] - *25*℃[-1]  |  |  |  |  |  | | --- | --- | --- | --- | --- | | 時間 | 0-6 | 6-12 | 12-18 | 18-24 | | 降水 | --- | --- | --- | 50％ |   風：  南東の風後北東の風  波：  0.5メートル | 6月26日(木)  曇一時雨曇一時雨   - *31*℃[+2] - *25*℃[0]  |  |  |  |  |  | | --- | --- | --- | --- | --- | | 時間 | 0-6 | 6-12 | 12-18 | 18-24 | | 降水 | 70％ | 20％ | 20％ | 40％ |   風：  北の風後南の風２３区西部では南西の風やや強く  波：  0.5メートル後1.5メートル | - 6月25日(水) - 6月26日(木) (C) LY Corporation Yahoo! (C) LY Corporation Yahoo! cpt_n=safetymail&cpt_m=bnr&cpt_s=yahoo&cpt_c=weatherbnr) Yahoo!' metadata={'title': '東京（東京）の天気 - Yahoo!天気・災害', 'source': 'https://weather.yahoo.co.jp/weather/jp/13/4410.html', 'score': 0.71185225, 'images': []}\n",
      "page_content='{{item.cityname}} {{item.high}} {{item.low}} èªç¶ã»å­£ç¯ã»ã¬ã¸ã£ã¼æå ± æ¢é¨æå ± è±ç²é£æ£æå ± å°éæå ± å°é¢¨æå ± é·æäºå ± å°é¢¨æå ± å°éæå ± æ´¥æ³¢æå ± ç«å±±æå ± æ¸ç½æå ± é¿é£æå ± ãããéè±æå ± ã¹ã­ã¼ï¼ã¹ããæå ± è±ç«å¤©æ° Ch. ã»ããæå ± ããããæå ± æç©ºæå ± åæ¥ã®åºæå ± åè©£æå ± ç´èæå ± ã¤ã«ããã¼ã·ã§ã³æå ± è±ç²é£æ£æå ± å¤©æ°çäºå ± ç±ä¸­çäºå ± ç´«å¤ç·äºå ± æè£äºå ± ãæ´æ¿¯æå ± Labs Ch. # æ±äº¬ã®å¤©æ°äºå ± ## {{pref\\_jp}}{{cityname}}ã®1æéæ¯ã®å¤©æ° {{daily.date}}æ¥{{daily.youbi\\_str}} {{hourly.time}} {{hourly.prec}} {{hourly.temp}} {{hourly.wndspd}} ## {{pref\\_jp}}{{cityname}}ã®é±éå¤©æ°äºå ±ï¼10æ¥éï¼ {{item.date}}   {{item.youbi\\_str}} {{item.high}} {{item.low}} {{item.pop}} ## å¸åºçºæå¥ã®å¤©æ°äºå ± {{point.rank}} ({{point.pref}}) ({{point.dateRecord}}) ## åã¨ãªã¢ã®å¤©æ°äºå ± {{point.rank}} ({{point.pref}}) ({{point.dateRecord}}) ### èªç¶ã»å­£ç¯ã»ã¬ã¸ã£ã¼æå ±' metadata={'title': '東京の天気予報 - ウェザーニュース', 'source': 'https://weathernews.jp/onebox/tenki/tokyo/', 'score': 0.6778372, 'images': []}\n",
      "=== 最終出力 ===\n",
      "東京の今日の天気は曇のち雨です。昼頃から所々で雨雲が湧き、夜は広く雨になる予報です。"
     ]
    }
   ],
   "source": [
    "async for event in chain.astream_events(\"東京の今日の天気は？\", version=\"v2\"):\n",
    "    event_kind = event[\"event\"]\n",
    "\n",
    "    if event_kind == \"on_retriever_end\":\n",
    "        print(\"=== 検索結果 ===\")\n",
    "        documents = event[\"data\"][\"output\"]\n",
    "        for document in documents:\n",
    "            print(document)\n",
    "\n",
    "    elif event_kind == \"on_parser_start\":\n",
    "        print(\"=== 最終出力 ===\")\n",
    "\n",
    "    elif event_kind == \"on_parser_stream\":\n",
    "        chunk = event[\"data\"][\"chunk\"]\n",
    "        print(chunk, end=\"\", flush=True)"
   ]
  },
  {
   "cell_type": "markdown",
   "metadata": {},
   "source": [
    "### （コラム）Chat history と Memory\n"
   ]
  },
  {
   "cell_type": "code",
   "execution_count": 26,
   "metadata": {},
   "outputs": [],
   "source": [
    "from langchain_core.output_parsers import StrOutputParser\n",
    "from langchain_core.prompts import ChatPromptTemplate, MessagesPlaceholder\n",
    "from langchain_openai import ChatOpenAI\n",
    "\n",
    "model = ChatOpenAI(model=\"gpt-4o-mini\", temperature=0)\n",
    "\n",
    "prompt = ChatPromptTemplate.from_messages(\n",
    "    [\n",
    "        (\"system\", \"You are a helpful assistant.\"),\n",
    "        MessagesPlaceholder(\"chat_history\", optional=True),\n",
    "        (\"human\", \"{input}\"),\n",
    "    ]\n",
    ")\n",
    "\n",
    "chain = prompt | model | StrOutputParser()"
   ]
  },
  {
   "cell_type": "code",
   "execution_count": 27,
   "metadata": {},
   "outputs": [],
   "source": [
    "from langchain_community.chat_message_histories import SQLChatMessageHistory\n",
    "\n",
    "\n",
    "def respond(session_id: str, human_message: str) -> str:\n",
    "    chat_message_history = SQLChatMessageHistory(\n",
    "        session_id=session_id, connection=\"sqlite:///sqlite.db\"\n",
    "    )\n",
    "\n",
    "    ai_message = chain.invoke(\n",
    "        {\n",
    "            \"chat_history\": chat_message_history.get_messages(),\n",
    "            \"input\": human_message,\n",
    "        }\n",
    "    )\n",
    "\n",
    "    chat_message_history.add_user_message(human_message)\n",
    "    chat_message_history.add_ai_message(ai_message)\n",
    "\n",
    "    return ai_message"
   ]
  },
  {
   "cell_type": "code",
   "execution_count": 28,
   "metadata": {},
   "outputs": [
    {
     "name": "stdout",
     "output_type": "stream",
     "text": [
      "こんにちは、ジョンさん！お会いできて嬉しいです。今日はどんなことをお話ししましょうか？\n",
      "はい、あなたの名前はジョンさんです。何か特別なことについてお話ししたいことがありますか？\n"
     ]
    }
   ],
   "source": [
    "from uuid import uuid4\n",
    "\n",
    "session_id = uuid4().hex\n",
    "\n",
    "output1 = respond(\n",
    "    session_id=session_id,\n",
    "    human_message=\"こんにちは！私はジョンと言います！\",\n",
    ")\n",
    "print(output1)\n",
    "\n",
    "output2 = respond(\n",
    "    session_id=session_id,\n",
    "    human_message=\"私の名前が分かりますか？\",\n",
    ")\n",
    "print(output2)"
   ]
  }
 ],
 "metadata": {
  "kernelspec": {
   "display_name": ".venv",
   "language": "python",
   "name": "python3"
  },
  "language_info": {
   "codemirror_mode": {
    "name": "ipython",
    "version": 3
   },
   "file_extension": ".py",
   "mimetype": "text/x-python",
   "name": "python",
   "nbconvert_exporter": "python",
   "pygments_lexer": "ipython3",
   "version": "3.13.5"
  }
 },
 "nbformat": 4,
 "nbformat_minor": 2
}
