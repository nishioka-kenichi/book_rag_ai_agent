{
 "cells": [
  {
   "cell_type": "markdown",
   "metadata": {},
   "source": [
    "# 3. プロンプトエンジニアリング\n"
   ]
  },
  {
   "cell_type": "code",
   "execution_count": 4,
   "metadata": {},
   "outputs": [
    {
     "name": "stdout",
     "output_type": "stream",
     "text": [
      "現在の作業ディレクトリ: /Users/kenichi/Projects\n",
      "参照する.envパス: /Users/kenichi/Projects/rag_ai_agent_book/.env\n",
      "OPENAI_API_KEY が正常に設定されました。\n"
     ]
    }
   ],
   "source": [
    "# import os\n",
    "# from google.colab import userdata\n",
    "# os.environ[\"OPENAI_API_KEY\"] = userdata.get(\"OPENAI_API_KEY\")\n",
    "\n",
    "import os\n",
    "from dotenv import load_dotenv\n",
    "\n",
    "current_working_directory = os.getcwd()\n",
    "dotenv_path = os.path.join(current_working_directory, 'rag_ai_agent_book', '.env')\n",
    "\n",
    "print(f\"現在の作業ディレクトリ: {current_working_directory}\")\n",
    "print(f\"参照する.envパス: {dotenv_path}\")\n",
    "\n",
    "load_dotenv(dotenv_path=dotenv_path)\n",
    "# 環境変数がロードされたか確認し、必要であればos.environに設定\n",
    "api_key = os.getenv(\"OPENAI_API_KEY\")\n",
    "\n",
    "if api_key is None:\n",
    "    print(\"OPENAI_API_KEY 環境変数が設定されていません。\")\n",
    "    print(\"rag_ai_agent_book/ディレクトリに.envファイルを作成し、OpenAI APIキーを設定してください。\")\n",
    "    print(\"例: OPENAI_API_KEY=\\\"sk-xxxxxxxxxxxxxxxxxxxxxxxxxxxxxxxxx\\\"\")\n",
    "else:\n",
    "    os.environ[\"OPENAI_API_KEY\"] = api_key # 他のライブラリがos.environから直接読み込むことを期待する場合のために設定\n",
    "    print(\"OPENAI_API_KEY が正常に設定されました。\")\n"
   ]
  },
  {
   "cell_type": "markdown",
   "metadata": {},
   "source": [
    "#### 【注意】既知のエラーについて\n",
    "\n",
    "openai パッケージが依存する httpx のアップデートにより、`openai==1.40.6` を使用する箇所で `TypeError: Client.__init__() got an unexpected keyword argument 'proxies'` というエラーが発生するようになりました。\n",
    "\n",
    "このエラーは、`!pip install httpx==0.27.2` のように、httpx の特定バージョンをインストールすることで回避することができます。\n",
    "\n",
    "なお、Google Colab で一度上記のエラーに遭遇したあとで `!pip install httpx==0.27.2` のようにパッケージをインストールし直した場合、以下のどちらかの操作を実施する必要があります。\n",
    "\n",
    "- Google Colab の「ランタイム」から「セッションを再起動する」を実行する\n",
    "- 「ランタイムを接続解除して削除」を実行してパッケージのインストールからやり直す\n"
   ]
  },
  {
   "cell_type": "code",
   "execution_count": null,
   "metadata": {},
   "outputs": [],
   "source": [
    "#!pip install openai==1.40.6 httpx==0.27.2"
   ]
  },
  {
   "cell_type": "markdown",
   "metadata": {},
   "source": [
    "## 3.2. プロンプトエンジニアリングとは\n"
   ]
  },
  {
   "cell_type": "code",
   "execution_count": 5,
   "metadata": {},
   "outputs": [
    {
     "name": "stdout",
     "output_type": "stream",
     "text": [
      "プロンプトエンジニアリングとは、特に人工知能（AI）や自然言語処理（NLP）モデルを活用する際に、モデルに対して効果的な入力（プロンプト）を設計・調整する手法や技術のことを指します。これにより、モデルから得られる出力の質や精度を向上させることを目的としています。\n",
      "\n",
      "プロンプトエンジニアリングの主な要素には以下が含まれます：\n",
      "\n",
      "1. **プロンプトの設計**: モデルに与える指示や質問をどのように構築するか。具体的で明確なプロンプトは、より良い応答を引き出す可能性があります。\n",
      "\n",
      "2. **コンテキストの提供**: モデルに必要な背景情報や具体的な例を与えることで、より正確な結果を得るためのサポートをします。\n",
      "\n",
      "3. **試行錯誤**: 様々なプロンプトをテストし、どの表現が最も良い結果をもたらすかを見極めるプロセスです。\n",
      "\n",
      "4. **フィードバックの活用**: モデルの応答を分析し、それに基づいてプロンプトを改善することも重要です。\n",
      "\n",
      "プロンプトエンジニアリングは、チャットボット、テキスト生成、質問応答システムなど、多くのAIアプリケーションにおいて重要な役割を果たしています。効果的なプロンプトを設計することで、ユーザーのニーズにより適切に応えることが可能になります。\n"
     ]
    }
   ],
   "source": [
    "from openai import OpenAI\n",
    "\n",
    "client = OpenAI()\n",
    "\n",
    "response = client.chat.completions.create(\n",
    "    model=\"gpt-4o-mini\",\n",
    "    messages=[\n",
    "        {\"role\": \"user\", \"content\": \"プロンプトエンジニアリングとは\"},\n",
    "    ],\n",
    ")\n",
    "print(response.choices[0].message.content)"
   ]
  },
  {
   "cell_type": "code",
   "execution_count": null,
   "metadata": {},
   "outputs": [],
   "source": [
    "response = client.chat.completions.create(\n",
    "    model=\"gpt-4o-mini\",\n",
    "    messages=[\n",
    "        {\"role\": \"system\", \"content\": \"質問に100文字程度で答えてください。\"},\n",
    "        {\"role\": \"user\", \"content\": \"プロンプトエンジニアリングとは\"},\n",
    "    ],\n",
    ")\n",
    "print(response.choices[0].message.content)"
   ]
  },
  {
   "cell_type": "markdown",
   "metadata": {},
   "source": [
    "## 3.3. プロンプトの構成要素の基本\n"
   ]
  },
  {
   "cell_type": "markdown",
   "metadata": {},
   "source": [
    "### プロンプトのテンプレート化\n"
   ]
  },
  {
   "cell_type": "code",
   "execution_count": 6,
   "metadata": {},
   "outputs": [
    {
     "name": "stdout",
     "output_type": "stream",
     "text": [
      "カレーのレシピをご紹介します。簡単に作れる基本的なチキンカレーのレシピを考えてみました。\n",
      "\n",
      "### 材料（4人分）\n",
      "\n",
      "- 鶏むね肉または鶏もも肉：400g（1口大にカット）\n",
      "- 玉ねぎ：2個（薄切り）\n",
      "- ジャガイモ：2個（1口大にカット）\n",
      "- ニンジン：1本（1口大にカット）\n",
      "- カレールー：1箱（約200～250g）\n",
      "- サラダ油：大さじ2\n",
      "- にんにく：2片（みじん切り）\n",
      "- 生姜：1片（みじん切り）\n",
      "- 水：800ml\n",
      "- 塩：適量\n",
      "- 黒胡椒：適量\n",
      "- garnish（オプション）：パセリや刻みネギ、ヨーグルトなど\n",
      "\n",
      "### 手順\n",
      "\n",
      "1. **下準備**：\n",
      "   - 鶏肉に塩と黒胡椒をふりかけて、しばらく置いておきます。\n",
      "\n",
      "2. **玉ねぎを炒める**：\n",
      "   - 大きな鍋にサラダ油を熱し、中火で薄切りにした玉ねぎを加えます。玉ねぎが透明になるまで炒めます。\n",
      "\n",
      "3. **にんにくと生姜を追加**：\n",
      "   - 玉ねぎが透明になったら、みじん切りにしたにんにくと生姜を加え、香りが立つまで炒めます。\n",
      "\n",
      "4. **鶏肉を加える**：\n",
      "   - 鶏肉を鍋に入れ、表面が白くなるまで炒めます。\n",
      "\n",
      "5. **野菜を加える**：\n",
      "   - ジャガイモとニンジンを加え、軽く炒めて全体を混ぜます。\n",
      "\n",
      "6. **水を加える**：\n",
      "   - 水を加えて、鍋を強火にします。煮立ったら、アクをすくい取り、弱火にして蓋をして約15分煮込みます。\n",
      "\n",
      "7. **カレールーを加える**：\n",
      "   - カレールーを割り入れ、よく混ぜて溶かします。さらに10分ほど煮込み、味がなじんだら火を止めます。\n",
      "\n",
      "8. **調整**：\n",
      "   - 必要に応じて、塩や黒胡椒で味を調整します。\n",
      "\n",
      "9. **盛り付け**：\n",
      "   - お皿にご飯を盛り、その上にカレーをかけます。オプションでパセリや刻みネギ、ヨーグルトを添えて完成です。\n",
      "\n",
      "### アドバイス\n",
      "- お好みで、他の野菜（例えばピーマンやカリフラワー）や豆類を加えることで、アレンジが可能です。\n",
      "- 辛さを調整するために、チリパウダーやカイエンペッパーを加えることもできます。\n",
      "\n",
      "おいしいカレーを楽しんでください！\n"
     ]
    }
   ],
   "source": [
    "prompt = '''\\\n",
    "以下の料理のレシピを考えてください。\n",
    "\n",
    "料理名: \"\"\"\n",
    "{dish}\n",
    "\"\"\"\n",
    "'''\n",
    "\n",
    "\n",
    "def generate_recipe(dish: str) -> str:\n",
    "    response = client.chat.completions.create(\n",
    "        model=\"gpt-4o-mini\",\n",
    "        messages=[\n",
    "            # formatはPythonの文字列メソッドで、波かっこ{}の部分に値を埋め込むために使います。\n",
    "            # 例えば、promptが「料理名: {dish}」なら、prompt.format(dish=\"カレー\")で「料理名: カレー」になります。\n",
    "            {\"role\": \"user\", \"content\": prompt.format(dish=dish)},\n",
    "        ],\n",
    "    )\n",
    "    return response.choices[0].message.content\n",
    "\n",
    "\n",
    "recipe = generate_recipe(\"カレー\")\n",
    "print(recipe)"
   ]
  },
  {
   "cell_type": "code",
   "execution_count": 8,
   "metadata": {},
   "outputs": [
    {
     "name": "stdout",
     "output_type": "stream",
     "text": [
      "もちろんです！ここにおいしいカレーのレシピをご紹介します。\n",
      "\n",
      "### 【材料】（4人分）\n",
      "- 鶏もも肉（または豚肉、牛肉）: 500g\n",
      "- 玉ねぎ: 2個\n",
      "- にんじん: 1本\n",
      "- じゃがいも: 2個\n",
      "- カレー粉: 2～3 tablespoons （お好みで調整）\n",
      "- ブイヨン（または水＋顆粒だし）: 500ml\n",
      "- サラダ油: 大さじ2\n",
      "- 塩: 適量\n",
      "- こしょう: 適量\n",
      "- 砂糖: 小さじ1\n",
      "- 醤油: 小さじ1\n",
      "- ココナッツミルク（オプション）: 200ml\n",
      "\n",
      "### 【作り方】\n",
      "1. **材料の下ごしらえ**\n",
      "   - 鶏肉は一口大に切り、塩、こしょうで下味をつける。\n",
      "   - 玉ねぎは薄切り、にんじんは輪切り、じゃがいもは一口大に切る。\n",
      "\n",
      "2. **炒める**\n",
      "   - 大きめの鍋にサラダ油を熱し、玉ねぎを中火で炒める。色が透明になるまで炒める。\n",
      "   - 次に鶏肉を加え、表面が白くなるまで炒める。\n",
      "\n",
      "3. **野菜を加える**\n",
      "   - にんじんとじゃがいもを加え、全体がよく混ざるように炒める。\n",
      "\n",
      "4. **煮込む**\n",
      "   - ブイヨン（または水＋顆粒だし）を加え、煮立ったらアクを取り除く。\n",
      "   - 中火にして10分ほど煮る。\n",
      "\n",
      "5. **カレー粉を加える**\n",
      "   - カレー粉、砂糖、醤油を加え、弱火でさらに20～30分煮込む。時々かき混ぜて、焦げ付かないように注意する。\n",
      "\n",
      "6. **仕上げ**\n",
      "   - （オプション）最後にココナッツミルクを加え、5分ほど煮て全体がなじんだら、味見して塩で調整する。\n",
      "\n",
      "7. **盛り付け**\n",
      "   - ご飯やナンと一緒に皿に盛りつけて、お好みでパセリや香菜を散らして完成！\n",
      "\n",
      "### 【ポイント】\n",
      "- お好みで、他の野菜（ピーマン、茄子など）を加えてもおいしいです。\n",
      "- 辛さが苦手な方は、カレー粉の量を調整してください。\n",
      "\n",
      "このカレーを家族や友人と一緒に楽しんでくださいね！\n"
     ]
    }
   ],
   "source": [
    "def generate_recipe(dish: str) -> str:\n",
    "    response = client.chat.completions.create(\n",
    "        model=\"gpt-4o-mini\",\n",
    "        messages=[\n",
    "            {\"role\": \"system\", \"content\": \"ユーザーが入力した料理のレシピを考えてください。\"},\n",
    "            {\"role\": \"user\", \"content\": f\"{dish}\"},\n",
    "        ],\n",
    "    )\n",
    "    return response.choices[0].message.content\n",
    "\n",
    "\n",
    "recipe = generate_recipe(\"カレー\")\n",
    "print(recipe)"
   ]
  },
  {
   "cell_type": "markdown",
   "metadata": {},
   "source": [
    "### 出力形式を指定する\n"
   ]
  },
  {
   "cell_type": "code",
   "execution_count": 9,
   "metadata": {},
   "outputs": [
    {
     "name": "stdout",
     "output_type": "stream",
     "text": [
      "```json\n",
      "{\n",
      "  \"材料\": [\"米\", \"鶏肉\", \"玉ねぎ\", \"にんじん\", \"じゃがいも\", \"カレールー\", \"水\", \"塩\", \"胡椒\"],\n",
      "  \"手順\": [\n",
      "    \"米を洗って炊飯器で炊く。\",\n",
      "    \"鶏肉を一口大に切り、塩と胡椒で下味をつける。\",\n",
      "    \"玉ねぎ、にんじん、じゃがいもを適当な大きさに切る。\",\n",
      "    \"鍋に油を熱し、玉ねぎを炒めて透明になるまで炒める。\",\n",
      "    \"鶏肉を加えて表面が白くなるまで炒める。\",\n",
      "    \"にんじんとじゃがいもを加えて、さらに炒める。\",\n",
      "    \"水を追加し、沸騰させたらアクを取り除く。\",\n",
      "    \"弱火にして15分ほど煮込む。\",\n",
      "    \"カレールーを加えて全体をよく混ぜ、さらに10分煮込む。\",\n",
      "    \"炊き上がった米を皿に盛り、カレーをかけて完成。\"\n",
      "  ]\n",
      "}\n",
      "```\n"
     ]
    }
   ],
   "source": [
    "system_prompt = \"\"\"\\\n",
    "ユーザーが入力した料理のレシピを考えてください。\n",
    "\n",
    "出力は以下のJSON形式にしてください。\n",
    "\n",
    "```\n",
    "{\n",
    "  \"材料\": [\"材料1\", \"材料2\"],\n",
    "  \"手順\": [\"手順1\", \"手順2\"]\n",
    "}\n",
    "```\n",
    "\"\"\"\n",
    "\n",
    "response = client.chat.completions.create(\n",
    "    model=\"gpt-4o-mini\",\n",
    "    messages=[\n",
    "        {\"role\": \"system\", \"content\": system_prompt},\n",
    "        {\"role\": \"user\", \"content\": \"カレー\"},\n",
    "    ],\n",
    ")\n",
    "print(response.choices[0].message.content)"
   ]
  },
  {
   "cell_type": "markdown",
   "metadata": {},
   "source": [
    "## 3.4. プロンプトエンジニアリングの定番の手法\n"
   ]
  },
  {
   "cell_type": "markdown",
   "metadata": {},
   "source": [
    "### Zero-shot プロンプティング\n"
   ]
  },
  {
   "cell_type": "code",
   "execution_count": null,
   "metadata": {},
   "outputs": [],
   "source": [
    "response = client.chat.completions.create(\n",
    "    model=\"gpt-4o-mini\",\n",
    "    messages=[\n",
    "        {\n",
    "            \"role\": \"system\",\n",
    "            \"content\": \"入力をポジティブ・ネガティブ・中立のどれかに分類してください。\",\n",
    "        },\n",
    "        {\n",
    "            \"role\": \"user\",\n",
    "            \"content\": \"ChatGPTはとても便利だ\",\n",
    "        },\n",
    "    ],\n",
    ")\n",
    "print(response.choices[0].message.content)"
   ]
  },
  {
   "cell_type": "markdown",
   "metadata": {},
   "source": [
    "### Few-shot プロンプティング\n"
   ]
  },
  {
   "cell_type": "code",
   "execution_count": null,
   "metadata": {},
   "outputs": [],
   "source": [
    "response = client.chat.completions.create(\n",
    "    model=\"gpt-4o-mini\",\n",
    "    messages=[\n",
    "        {\"role\": \"system\", \"content\": \"入力がAIに関係するか回答してください。\"},\n",
    "        {\"role\": \"user\", \"content\": \"ChatGPTはとても便利だ\"},\n",
    "    ],\n",
    ")\n",
    "print(response.choices[0].message.content)"
   ]
  },
  {
   "cell_type": "code",
   "execution_count": null,
   "metadata": {},
   "outputs": [],
   "source": [
    "response = client.chat.completions.create(\n",
    "    model=\"gpt-4o-mini\",\n",
    "    messages=[\n",
    "        {\"role\": \"system\", \"content\": \"入力がAIに関係するか回答してください。\"},\n",
    "        {\"role\": \"user\", \"content\": \"AIの進化はすごい\"},\n",
    "        {\"role\": \"assistant\", \"content\": \"true\"},\n",
    "        {\"role\": \"user\", \"content\": \"今日は良い天気だ\"},\n",
    "        {\"role\": \"assistant\", \"content\": \"false\"},\n",
    "        {\"role\": \"user\", \"content\": \"ChatGPTはとても便利だ\"},\n",
    "    ],\n",
    ")\n",
    "print(response.choices[0].message.content)"
   ]
  },
  {
   "cell_type": "markdown",
   "metadata": {},
   "source": [
    "### （コラム）Few-shot プロンプティングのその他の形式\n"
   ]
  },
  {
   "cell_type": "code",
   "execution_count": null,
   "metadata": {},
   "outputs": [],
   "source": [
    "prompt = \"\"\"\\\n",
    "入力がAIに関係するか回答してください。\n",
    "\n",
    "Q: AIの進化はすごい\n",
    "A: true\n",
    "Q: 今日は良い天気だ\n",
    "A: false\n",
    "Q: ChatGPTはとても便利だ\n",
    "A:\n",
    "\"\"\"\n",
    "\n",
    "response = client.completions.create(\n",
    "    model=\"gpt-3.5-turbo-instruct\",\n",
    "    prompt=prompt,\n",
    ")\n",
    "print(response.choices[0].text)"
   ]
  },
  {
   "cell_type": "code",
   "execution_count": null,
   "metadata": {},
   "outputs": [],
   "source": [
    "response = client.chat.completions.create(\n",
    "    model=\"gpt-4o-mini\",\n",
    "    messages=[\n",
    "        {\"role\": \"system\", \"content\": \"入力がAIに関係するか回答してください。\"},\n",
    "        {\"role\": \"system\", \"name\": \"example_user\", \"content\": \"AIの進化はすごい\"},\n",
    "        {\"role\": \"system\", \"name\": \"example_assistant\", \"content\": \"true\"},\n",
    "        {\"role\": \"system\", \"name\": \"example_user\", \"content\": \"今日は良い天気だ\"},\n",
    "        {\"role\": \"system\", \"name\": \"example_assistant\", \"content\": \"false\"},\n",
    "        {\"role\": \"user\", \"content\": \"ChatGPTはとても便利だ\"},\n",
    "    ],\n",
    ")\n",
    "print(response.choices[0].message.content)"
   ]
  },
  {
   "cell_type": "markdown",
   "metadata": {},
   "source": [
    "### Zero-shot Chain-of-Thought プロンプティング\n"
   ]
  },
  {
   "cell_type": "code",
   "execution_count": null,
   "metadata": {},
   "outputs": [],
   "source": [
    "response = client.chat.completions.create(\n",
    "    model=\"gpt-4o-mini\",\n",
    "    messages=[\n",
    "        {\"role\": \"system\", \"content\": \"回答だけ一言で出力してください。\"},\n",
    "        {\"role\": \"user\", \"content\": \"10 + 2 * 3 - 4 * 2\"},\n",
    "    ],\n",
    ")\n",
    "print(response.choices[0].message.content)"
   ]
  },
  {
   "cell_type": "code",
   "execution_count": null,
   "metadata": {},
   "outputs": [],
   "source": [
    "response = client.chat.completions.create(\n",
    "    model=\"gpt-4o-mini\",\n",
    "    messages=[\n",
    "        {\"role\": \"system\", \"content\": \"ステップバイステップで考えてください。\"},\n",
    "        {\"role\": \"user\", \"content\": \"10 + 2 * 3 - 4 * 2\"},\n",
    "    ],\n",
    ")\n",
    "print(response.choices[0].message.content)"
   ]
  },
  {
   "cell_type": "code",
   "execution_count": null,
   "metadata": {},
   "outputs": [],
   "source": []
  }
 ],
 "metadata": {
  "kernelspec": {
   "display_name": ".venv",
   "language": "python",
   "name": "python3"
  },
  "language_info": {
   "codemirror_mode": {
    "name": "ipython",
    "version": 3
   },
   "file_extension": ".py",
   "mimetype": "text/x-python",
   "name": "python",
   "nbconvert_exporter": "python",
   "pygments_lexer": "ipython3",
   "version": "3.13.5"
  }
 },
 "nbformat": 4,
 "nbformat_minor": 2
}
