{
 "cells": [
  {
   "cell_type": "markdown",
   "metadata": {},
   "source": [
    "# LangGraphで作るAIエージェント実践入門"
   ]
  },
  {
   "cell_type": "markdown",
   "metadata": {},
   "source": [
    "## 9.3 ハンズオン：Q&Aアプリケーション"
   ]
  },
  {
   "cell_type": "code",
   "execution_count": 3,
   "metadata": {},
   "outputs": [],
   "source": [
    "# 諸々の環境設定\n",
    "import os\n",
    "from pathlib import Path\n",
    "from dotenv import load_dotenv\n",
    "\n",
    "dotenv_path = os.path.join(os.getcwd(), 'rag_ai_agent_book', '.env')\n",
    "load_dotenv(dotenv_path)\n",
    "\n",
    "os.environ[\"OPENAI_API_KEY\"] = os.getenv(\"OPENAI_API_KEY\")\n",
    "os.environ[\"LANGCHAIN_TRACING_V2\"] = \"true\"\n",
    "os.environ[\"LANGCHAIN_ENDPOINT\"] = \"https://api.smith.langchain.com\"\n",
    "os.environ[\"LANGCHAIN_API_KEY\"] = os.getenv(\"LANGCHAIN_API_KEY\")\n",
    "os.environ[\"LANGCHAIN_PROJECT\"] = \"rag-ai-agent-book\""
   ]
  },
  {
   "cell_type": "code",
   "execution_count": 4,
   "metadata": {},
   "outputs": [],
   "source": [
    "# 専門家の定義を行なっている\n",
    "ROLES={\n",
    "\t\"1\":{\n",
    "\t\t\"name\":\"一般知識エキスパート\",\n",
    "\t\t\"description\":\"幅広い分野の一般的な質問に答える\",\n",
    "\t\t\"details\":\"幅広い分野の一般的な質問に対して、正確で分かりやすい回答を提供してください。\"\n",
    "\t},\n",
    "\t\"2\":{\n",
    "\t\t\"name\":\"生成AI製品エキスパート\",\n",
    "\t\t\"description\":\"生成AIや関連商品、技術に関する専門的な質問に答える\",\n",
    "\t\t\"details\":\"生成AIや関連製品、技術関する専門的な質問に対して、最新の情報と深い洞察を提供してください。\"\n",
    "\t},\n",
    "\t\"3\":{\n",
    "\t\t\"name\":\"カウンセラー\",\n",
    "\t\t\"description\":\"個人的な悩みや心理的な問題に対してサポートを提供する\",\n",
    "\t\t\"details\":\"個人的な悩みや心理的な問題に対して、共感で支援的な回答を提供し、可能であれば適切なアドバイスも行ってください\"\n",
    "\t}\n",
    "}"
   ]
  },
  {
   "cell_type": "code",
   "execution_count": 5,
   "metadata": {},
   "outputs": [],
   "source": [
    "# このセルはStateクラスとその関連インポートを定義\n",
    "\n",
    "import operator  # operatorモジュールをインポート（標準ライブラリで、加算や比較などの関数型演算子を提供する）\n",
    "from typing import Annotated  # 型アノテーション用のAnnotatedをインポート\n",
    "from pydantic import BaseModel,Field  # PydanticのBaseModelとFieldをインポート\n",
    "\n",
    "# ユーザーの状態を管理するStateクラスを定義\n",
    "class State(BaseModel):\n",
    "\t# ユーザーからの質問内容\n",
    "\tquery:str=Field(...,description=\"ユーザーからの質問\")\n",
    "\t# 選定された回答ロール\n",
    "\tcurrent_role:str=Field(default=\"\",description=\"選定された回答ロール\")\n",
    "\t# 回答履歴（リスト同士の加算を許可）\n",
    "\tmessages:Annotated[list[str],operator.add] = Field(default=[],description=\"回答履歴\")\n",
    "\t# 品質チェックの結果（True/False）\n",
    "\tcurrent_judge:bool=Field(default=False ,description=\"品質チェックの結果\")\n",
    "\t# 品質チェックの判定理由\n",
    "\tjudgement_reason:str=Field(default=\"\",description=\"品質チェックの判定理由\")"
   ]
  },
  {
   "cell_type": "code",
   "execution_count": 6,
   "metadata": {},
   "outputs": [],
   "source": [
    "# OpenAIのgpt-4oモデルを初期化し、max_tokensパラメータを動的に変更できるように設定\n",
    "\n",
    "from langchain_openai import ChatOpenAI  # OpenAIのチャットモデル用ラッパー\n",
    "from langchain_core.runnables import ConfigurableField  # 実行時にパラメータ変更可能なフィールド\n",
    "\n",
    "# OpenAIのgpt-4oモデルを温度0で初期化\n",
    "llm=ChatOpenAI(model=\"gpt-4o\", temperature=0)\n",
    "# max_tokensを後から変更できるように設定\n",
    "llm=llm.configurable_fields(max_tokens=ConfigurableField(id=\"max_tokens\"))\n",
    "\n"
   ]
  },
  {
   "cell_type": "code",
   "execution_count": 7,
   "metadata": {},
   "outputs": [],
   "source": [
    "\n",
    "from typing import Any  # 標準型ヒント用\n",
    "from langchain_core.prompts import ChatPromptTemplate  # プロンプトテンプレート生成\n",
    "from langchain_core.output_parsers import StrOutputParser  # 出力文字列パーサ\n",
    "\n",
    "# 質問内容から最適なロールを選択するノードの処理\n",
    "def selection_node(state:State)->dict[str,Any]:\n",
    "\t# ユーザーの質問を取得\n",
    "\tquery=state.query\n",
    "\t# ロール選択肢を整形して文字列化\n",
    "\trole_options=\"\\n\".join(  # 各ロールの説明を改行区切りで連結\n",
    "\t\t[f\"{k}.{v['name']}: {v['description']}\" for k,v in ROLES.items()]  # ロール番号・名前・説明を整形\n",
    "\n",
    "\t)\n",
    "\n",
    "\t# 質問分析とロール選択を促すプロンプトを作成\n",
    "\tprompt=ChatPromptTemplate.from_template(\"\"\"\n",
    "\t\t質問を分析し、最も適切な回答担当ロールを選択してください。\n",
    "\t\t選択肢:{role_options}\n",
    "\t\t回答は選択肢の番号(1,2,3)のみを返してください。\n",
    "\n",
    "\t\t質問:{query}\n",
    "\t\"\"\".strip()  # 文字列の先頭と末尾の空白文字（スペースや改行など）を取り除く\n",
    "\t)\n",
    "\n",
    "\t# プロンプト→LLM（max_tokens=1）→出力パースのチェーンを構築\n",
    "\tchain=(  # チェーン全体の構築\n",
    "\t\tprompt  # プロンプト\n",
    "\t\t|llm.with_config(configurable=dict(max_tokens=1))  # 最大トークン数を1に設定\n",
    "\t\t|StrOutputParser()  # 出力を文字列としてパース\n",
    "\t)\n",
    "\n",
    "\t# チェーンを実行し、ロール番号を取得\n",
    "\trole_number=chain.invoke({\"role_options\":role_options,\"query\":query})\n",
    "\t# 選択されたロール名を取得\n",
    "\tselected_role=ROLES[role_number.strip()][\"name\"]\n",
    "\t# 選択ロールを辞書で返却\n",
    "\treturn {\"current_role\":selected_role}"
   ]
  },
  {
   "cell_type": "code",
   "execution_count": 8,
   "metadata": {},
   "outputs": [],
   "source": [
    "# 質問内容と選択されたロールに基づき、適切な回答を生成して返すノード\n",
    "def answering_node(state:State)->dict[str,Any]:\n",
    "\t# stateからユーザーの質問を取得\n",
    "\tquery=state.query\n",
    "\t# stateから現在のロール名を取得\n",
    "\trole=state.current_role\n",
    "\t# ロールの詳細情報を整形して文字列化\n",
    "\trole_deteils=\"\\n\".join(  # 各ロールの名前と詳細を1行ずつ連結\n",
    "\t\t[f\"- {v['name']}:{v['details']}\" for v in ROLES.values()]  # ロール情報をリスト内包表記で生成\n",
    "\t)\n",
    "\t# 回答用プロンプトを作成\n",
    "\tprompt=ChatPromptTemplate.from_template(\"\"\"\n",
    "\t\t貴方は{role}として回答してください。以下の質問に対して、貴方の役割に基づいた適切な回答を提供してください。\n",
    "\t\t役割の詳細:{role_details}\n",
    "\t\t質問:{query}\n",
    "\t\t回答:\n",
    "\t\t\"\"\".strip()\n",
    "\t)\n",
    "\t# プロンプト・LLM・出力パーサーをパイプで連結しチェーンを構築\n",
    "\tchain=prompt|llm|StrOutputParser()\n",
    "\t# チェーンを実行して回答を生成\n",
    "\tanswer=chain.invoke({\"role\":role,\"role_details\":role_deteils, \"query\":query})\n",
    "\t# 回答をリスト形式で辞書に格納して返却\n",
    "\treturn {\"messages\":[answer]}"
   ]
  },
  {
   "cell_type": "code",
   "execution_count": 15,
   "metadata": {},
   "outputs": [],
   "source": [
    "# 回答の品質を判定し、その結果と理由を返す処理\n",
    "\n",
    "# 回答の品質判定結果を格納するデータモデル\n",
    "class Judgement(BaseModel):\n",
    "\t# 判定結果（True/False）\n",
    "\tjudge:bool=Field(default=False,description=\"判定結果\")\n",
    "\t# 判定理由\n",
    "\treason:str=Field(default=\"\",description=\"判定理由\")\n",
    "\n",
    "# 回答の品質をチェックするノード関数\n",
    "def check_node(state:State)->dict[str,Any]:\n",
    "\t# ユーザーからの質問を取得\n",
    "\tquery=state.query\n",
    "\t# 直近の回答を取得\n",
    "\tanswer=state.messages[-1]\n",
    "\t# チェック用プロンプトを作成\n",
    "\tprompt=ChatPromptTemplate.from_template(\"\"\"\n",
    "\t\t以下の回答の品質をチェックし、問題っがある場合は'False'、問題がない場合は'True'を回答してください。また、その判断理由も説明してください。\n",
    "\t\tユーザーからの質問:{query}\n",
    "\t\t回答:{answer}\n",
    "\t\"\"\".strip()\n",
    "\t)\n",
    "\t# プロンプト・LLM・構造化出力パーサーをパイプで連結\n",
    "\tchain=prompt|llm.with_structured_output(Judgement)\n",
    "\t# チェーンを実行して判定結果を取得\n",
    "\tresult: Judgement = chain.invoke({\"query\": query, \"answer\": answer}) #戻り値（Judgement型のインスタンス）を result という変数に代入しています。\n",
    "\n",
    "\t# 判定結果と理由を辞書で返却\n",
    "\treturn{\n",
    "\t\t\"current_judge\":result.judge,\n",
    "\t\t\"judgement_reason\":result.reason\n",
    "\t}"
   ]
  },
  {
   "cell_type": "code",
   "execution_count": 16,
   "metadata": {},
   "outputs": [],
   "source": [
    "# Stateクラスをもとにワークフローグラフを構築し、ノードやエッジを設定する処理\n",
    "\n",
    "# ワークフロー構築用のライブラリをインポート\n",
    "from langgraph.graph import StateGraph  # ワークフロー構築用のライブラリ\n",
    "\n",
    "# Stateクラスをもとにワークフローグラフのインスタンスを生成\n",
    "workflow = StateGraph(State)\n",
    "\n",
    "# selectionノードを追加\n",
    "workflow.add_node(\"selection\", selection_node)\n",
    "# answeringノードを追加\n",
    "workflow.add_node(\"answering\", answering_node)\n",
    "# checkノードを追加\n",
    "workflow.add_node(\"check\", check_node)\n",
    "\n",
    "# エントリーポイント（開始ノード）をselectionに設定\n",
    "workflow.set_entry_point(\"selection\")\n",
    "# selectionノードからansweringノードへのエッジを追加\n",
    "workflow.add_edge(\"selection\", \"answering\")\n",
    "# answeringノードからcheckノードへのエッジを追加\n",
    "workflow.add_edge(\"answering\", \"check\")"
   ]
  },
  {
   "cell_type": "code",
   "execution_count": 17,
   "metadata": {},
   "outputs": [],
   "source": [
    "# checkノードの判定結果に応じて次のノードを分岐させる条件付きエッジを追加する処理\n",
    "\n",
    "from langgraph.graph import END  # ワークフローの終了ノードを表す定数\n",
    "\n",
    "# checkノードから条件に応じてENDまたはselectionノードへ遷移するエッジを追加\n",
    "workflow.add_conditional_edges(\n",
    "    \"check\",  # 判定対象ノード\n",
    "    lambda state: state.current_judge,  # 判定条件（state.current_judgeの値で分岐）\n",
    "    {True: END, False: \"selection\"}  # TrueならEND、Falseならselectionへ\n",
    ")"
   ]
  },
  {
   "cell_type": "code",
   "execution_count": 21,
   "metadata": {},
   "outputs": [
    {
     "data": {
      "text/plain": [
       "{'query': '生成AIについて教えてください',\n",
       " 'current_role': '生成AI製品エキスパート',\n",
       " 'messages': ['生成AI（生成的人工知能）とは、人工知能の一分野であり、新しいデータやコンテンツを生成する能力を持つモデルやシステムを指します。これには、テキスト、画像、音声、動画などの多様な形式の生成が含まれます。生成AIの代表的な技術には、以下のようなものがあります。\\n\\n1. **自然言語処理（NLP）モデル**: 例えば、GPT（Generative Pre-trained Transformer）シリーズは、テキストの生成や翻訳、要約などに用いられます。これらのモデルは、大量のテキストデータを学習し、人間のように自然な文章を生成することができます。\\n\\n2. **画像生成モデル**: GAN（Generative Adversarial Networks）やVAE（Variational Autoencoders）などの技術を用いて、新しい画像を生成します。これにより、アート作品の創作や、現実には存在しない人物の顔を生成することが可能です。\\n\\n3. **音声合成**: TTS（Text-to-Speech）技術を用いて、テキストから自然な音声を生成します。これにより、音声アシスタントやナレーションの自動生成が可能になります。\\n\\n生成AIは、クリエイティブな分野やエンターテインメント、教育、医療など、さまざまな分野で応用されています。しかし、生成AIの利用には倫理的な課題も伴います。例えば、偽情報の生成や著作権の問題などが挙げられます。そのため、生成AIの開発と利用においては、倫理的な配慮と責任ある使用が求められています。\\n\\nこの分野は急速に進化しており、今後も新しい技術や応用が登場することが期待されています。'],\n",
       " 'current_judge': True,\n",
       " 'judgement_reason': '回答は生成AIについての基本的な情報を網羅しており、自然言語処理、画像生成、音声合成などの具体例を挙げて説明しています。また、生成AIの応用分野や倫理的な課題についても触れており、全体としてバランスの取れた内容です。特に誤った情報や不正確な記述は見当たらず、ユーザーの質問に対して適切に答えています。'}"
      ]
     },
     "execution_count": 21,
     "metadata": {},
     "output_type": "execute_result"
    }
   ],
   "source": [
    "# ワークフローをコンパイルし、初期状態で実行して結果を取得する処理\n",
    "\n",
    "# ワークフローをコンパイルして実行可能なオブジェクトを作成\n",
    "compiled = workflow.compile()\n",
    "\n",
    "# 初期状態（クエリを含むStateインスタンス）を作成\n",
    "initial_state = State(query=\"生成AIについて教えてください\")\n",
    "\n",
    "# コンパイル済みワークフローに初期状態を渡して実行し、結果を取得\n",
    "result = compiled.invoke(initial_state)\n",
    "\n",
    "# 実行結果（Stateの内容）を表示\n",
    "result"
   ]
  },
  {
   "cell_type": "code",
   "execution_count": 22,
   "metadata": {},
   "outputs": [
    {
     "name": "stdout",
     "output_type": "stream",
     "text": [
      "生成AI（生成的人工知能）とは、人工知能の一分野であり、新しいデータやコンテンツを生成する能力を持つモデルやシステムを指します。これには、テキスト、画像、音声、動画などの多様な形式の生成が含まれます。生成AIの代表的な技術には、以下のようなものがあります。\n",
      "\n",
      "1. **自然言語処理（NLP）モデル**: 例えば、GPT（Generative Pre-trained Transformer）シリーズは、テキストの生成や翻訳、要約などに用いられます。これらのモデルは、大量のテキストデータを学習し、人間のように自然な文章を生成することができます。\n",
      "\n",
      "2. **画像生成モデル**: GAN（Generative Adversarial Networks）やVAE（Variational Autoencoders）などの技術を用いて、新しい画像を生成します。これにより、アート作品の創作や、現実には存在しない人物の顔を生成することが可能です。\n",
      "\n",
      "3. **音声合成**: TTS（Text-to-Speech）技術を用いて、テキストから自然な音声を生成します。これにより、音声アシスタントやナレーションの自動生成が可能になります。\n",
      "\n",
      "生成AIは、クリエイティブな分野やエンターテインメント、教育、医療など、さまざまな分野で応用されています。しかし、生成AIの利用には倫理的な課題も伴います。例えば、偽情報の生成や著作権の問題などが挙げられます。そのため、生成AIの開発と利用においては、倫理的な配慮と責任ある使用が求められています。\n",
      "\n",
      "この分野は急速に進化しており、今後も新しい技術や応用が登場することが期待されています。\n"
     ]
    }
   ],
   "source": [
    "print(result[\"messages\"][-1])"
   ]
  },
  {
   "cell_type": "code",
   "execution_count": null,
   "metadata": {},
   "outputs": [],
   "source": [
    "initial_state = State(query=\"生成AIについて教えてください\")\n",
    "result = await compiled.ainvoke(initial_state)\n",
    "result"
   ]
  },
  {
   "cell_type": "code",
   "execution_count": null,
   "metadata": {},
   "outputs": [],
   "source": [
    "# Homebrewでグラフ行がソフトをインストールする\n",
    "# brew install graphviz\n",
    "\n",
    "# パスを通して仮想環境にインストール\n",
    "# export CPATH=/opt/homebrew/opt/graphviz/include && export LIBRARY_PATH=/opt/homebrew/opt/graphviz/lib && ./.venv/bin/pip install pygraphviz"
   ]
  },
  {
   "cell_type": "code",
   "execution_count": 26,
   "metadata": {},
   "outputs": [
    {
     "data": {
      "image/png": "[encoded data removed]",
      "text/plain": [
       "<IPython.core.display.Image object>"
      ]
     },
     "execution_count": 26,
     "metadata": {},
     "output_type": "execute_result"
    }
   ],
   "source": [
    "# ワークフローグラフをPNG画像として描画し、ノートブック上に表示する\n",
    "\n",
    "from IPython.display import Image  # Jupyterノートブックで画像を表示するためのライブラリ\n",
    "\n",
    "# ワークフローグラフをPNG画像として生成し表示\n",
    "Image(compiled.get_graph().draw_png())"
   ]
  },
  {
   "cell_type": "markdown",
   "metadata": {},
   "source": [
    "## 9.4 チェックポイント機能：ステートの永続化と再会"
   ]
  },
  {
   "cell_type": "code",
   "execution_count": null,
   "metadata": {},
   "outputs": [],
   "source": [
    "# !pip install langchain==0.3.0 langchain-openai==0.2.0 langgraph==0.2.22 langgraph-checkpoint==1.0.11"
   ]
  },
  {
   "cell_type": "code",
   "execution_count": 13,
   "metadata": {},
   "outputs": [],
   "source": [
    "# ステート管理とメッセージ追加、LLM応答を行うクラス・関数群\n",
    "\n",
    "# 標準演算子モジュール\n",
    "import operator  # 標準演算子を提供\n",
    "# 型アノテーション用の型とユーティリティ\n",
    "from typing import Annotated,Any  # 型ヒントと任意型\n",
    "# LangChainのメッセージクラス\n",
    "from langchain_core.messages import SystemMessage,HumanMessage,BaseMessage  # メッセージ型\n",
    "# OpenAIのチャットモデル\n",
    "from langchain_openai import ChatOpenAI  # OpenAIチャットモデル\n",
    "# データバリデーション用のモデル\n",
    "from pydantic import BaseModel,Field  # データモデルとフィールド\n",
    "\n",
    "# ステート（状態）を管理するクラス\n",
    "class State(BaseModel):\n",
    "\t# ユーザーからのクエリ\n",
    "\tquery:str\n",
    "\t# メッセージ履歴（BaseMessage型のリスト、加算で連結）\n",
    "\tmessages:Annotated[list[BaseMessage],operator.add]=Field(default=[])\n",
    "\n",
    "# メッセージ履歴にシステム・ユーザーメッセージを追加する関数\n",
    "def add_message(state:State)->dict[str,Any]:\n",
    "\t# 追加するメッセージを格納するリスト\n",
    "\tadditional_message=[]\n",
    "\t# メッセージ履歴が空の場合はシステムメッセージを追加\n",
    "\tif not state.messages:\n",
    "\t\tadditional_message.append(\n",
    "\t\t\tSystemMessage(content=\"貴方は最小限の応答をする対話エージェントです。\")\n",
    "\t\t)\n",
    "\t# ユーザーのクエリをHumanMessageとして追加\n",
    "\tadditional_message.append(HumanMessage(content=state.query))\n",
    "\t# 追加したメッセージを辞書で返す\n",
    "\treturn {\"messages\":additional_message}\n",
    "\n",
    "# LLMにメッセージ履歴を渡して応答を得る関数\n",
    "def llm_response(state:State)->dict[str,Any]:\n",
    "\t# OpenAIのチャットモデルを初期化\n",
    "\tllm=ChatOpenAI(model=\"gpt-4o-mini\",temperature=2)\n",
    "\t# メッセージ履歴をモデルに渡して応答を取得\n",
    "\tai_message=llm.invoke(state.messages)\n",
    "\t# 応答メッセージを辞書で返す\n",
    "\treturn {\"messages\":[ai_message]}"
   ]
  },
  {
   "cell_type": "code",
   "execution_count": 14,
   "metadata": {},
   "outputs": [],
   "source": [
    "# チェックポイントの内容とメタデータを表示する関数を定義する\n",
    "\n",
    "from pprint import pprint  # 標準ライブラリ、見やすく出力\n",
    "from langchain_core.runnables import RunnableConfig  # LangChainの実行設定\n",
    "from langgraph.checkpoint.base import BaseCheckpointSaver  # チェックポイント保存の基底クラス\n",
    "\n",
    "# チェックポイントの内容とメタデータを出力する関数\n",
    "def print_checkpoint_dump(checkpointer:BaseCheckpointSaver, config:RunnableConfig):\n",
    "\t# チェックポイントタプルを取得\n",
    "\tcheckpoint_tuple = checkpointer.get_tuple(config)\n",
    "\n",
    "\t# チェックポイントデータを表示\n",
    "\tprint(\"チェックポイントデータ：\")\n",
    "\tpprint(checkpoint_tuple.checkpoint)\n",
    "\t# メタデータを表示\n",
    "\tprint(\"\\nメタデータ：\")\n",
    "\tpprint(checkpoint_tuple.metadata)"
   ]
  },
  {
   "cell_type": "code",
   "execution_count": 15,
   "metadata": {},
   "outputs": [],
   "source": [
    "# LangGraphを用いて状態遷移グラフを構築し、チェックポイント機能付きでコンパイルする\n",
    "\n",
    "from langgraph.graph import StateGraph, END  # 状態遷移グラフ構築用\n",
    "from langgraph.checkpoint.memory import MemorySaver  # メモリ上のチェックポイント保存\n",
    "\n",
    "# 状態遷移グラフのインスタンスを作成\n",
    "graph=StateGraph(State)\n",
    "# add_messageノードをグラフに追加\n",
    "graph.add_node(\"add_message\",add_message)\n",
    "# llm_responseノードをグラフに追加\n",
    "graph.add_node(\"llm_response\",llm_response)\n",
    "\n",
    "# エントリーポイント（開始ノード）を設定\n",
    "graph.set_entry_point(\"add_message\")\n",
    "# add_messageからllm_responseへの遷移を追加\n",
    "graph.add_edge(\"add_message\",\"llm_response\")\n",
    "# llm_responseからENDへの遷移を追加\n",
    "graph.add_edge(\"llm_response\",END)\n",
    "\n",
    "# メモリ型チェックポイントセーバーを作成\n",
    "checkpointer=MemorySaver()\n",
    "# チェックポイント機能付きでグラフをコンパイル\n",
    "compiled_graph=graph.compile(checkpointer=checkpointer)"
   ]
  },
  {
   "cell_type": "code",
   "execution_count": null,
   "metadata": {},
   "outputs": [
    {
     "data": {
      "text/plain": [
       "{'query': '私が好きなものはずんだ餅です。覚えておいてね。',\n",
       " 'messages': [SystemMessage(content='貴方は最小限の応答をする対話エージェントです。', additional_kwargs={}, response_metadata={}),\n",
       "  HumanMessage(content='私が好きなものはずんだ餅です。覚えておいてね。', additional_kwargs={}, response_metadata={}),\n",
       "  AIMessage(content='了解しました。ずんだ餅ですね。', additional_kwargs={'refusal': None}, response_metadata={'token_usage': {'completion_tokens': 10, 'prompt_tokens': 50, 'total_tokens': 60, 'prompt_tokens_details': {'cached_tokens': 0, 'audio_tokens': 0}, 'completion_tokens_details': {'reasoning_tokens': 0, 'audio_tokens': 0, 'accepted_prediction_tokens': 0, 'rejected_prediction_tokens': 0}}, 'model_name': 'gpt-4o-mini-2024-07-18', 'system_fingerprint': 'fp_34a54ae93c', 'finish_reason': 'stop', 'logprobs': None}, id='run-d87c23d8-cdf9-403a-bea9-a62b9355ca7e-0', usage_metadata={'input_tokens': 50, 'output_tokens': 10, 'total_tokens': 60})]}"
      ]
     },
     "execution_count": 16,
     "metadata": {},
     "output_type": "execute_result"
    }
   ],
   "source": [
    "# チェックポイント付きLangGraphにユーザー入力を渡して応答を得る一連の処理\n",
    "\n",
    "# スレッドIDを指定した設定を作成\n",
    "config = {\"configurable\": {\"thread_id\": \"example-1\"}}\n",
    "\n",
    "# ユーザーのクエリをStateオブジェクトとして作成\n",
    "user_query = State(query=\"私が好きなものはずんだ餅です。覚えておいてね。\")\n",
    "\n",
    "# グラフにユーザー入力と設定を渡して応答を取得\n",
    "first_response = compiled_graph.invoke(user_query, config)\n",
    "\n",
    "# 応答内容を表示\n",
    "first_response"
   ]
  },
  {
   "cell_type": "code",
   "execution_count": null,
   "metadata": {},
   "outputs": [
    {
     "name": "stdout",
     "output_type": "stream",
     "text": [
      "CheckpointTuple(config={'configurable': {'thread_id': 'example-1', 'checkpoint_ns': '', 'checkpoint_id': '1f06a154-e821-6a76-8002-6e1040a9ee83'}}, checkpoint={'v': 1, 'ts': '2025-07-26T11:40:19.249194+00:00', 'id': '1f06a154-e821-6a76-8002-6e1040a9ee83', 'channel_values': {'query': '私が好きなものはずんだ餅です。覚えておいてね。', 'messages': [SystemMessage(content='貴方は最小限の応答をする対話エージェントです。', additional_kwargs={}, response_metadata={}), HumanMessage(content='私が好きなものはずんだ餅です。覚えておいてね。', additional_kwargs={}, response_metadata={}), AIMessage(content='了解しました。ずんだ餅ですね。', additional_kwargs={'refusal': None}, response_metadata={'token_usage': {'completion_tokens': 10, 'prompt_tokens': 50, 'total_tokens': 60, 'prompt_tokens_details': {'cached_tokens': 0, 'audio_tokens': 0}, 'completion_tokens_details': {'reasoning_tokens': 0, 'audio_tokens': 0, 'accepted_prediction_tokens': 0, 'rejected_prediction_tokens': 0}}, 'model_name': 'gpt-4o-mini-2024-07-18', 'system_fingerprint': 'fp_34a54ae93c', 'finish_reason': 'stop', 'logprobs': None}, id='run-d87c23d8-cdf9-403a-bea9-a62b9355ca7e-0', usage_metadata={'input_tokens': 50, 'output_tokens': 10, 'total_tokens': 60})], 'llm_response': 'llm_response'}, 'channel_versions': {'__start__': '00000000000000000000000000000002.0.00971189228605096', 'query': '00000000000000000000000000000002.0.8649491925228773', 'messages': '00000000000000000000000000000004.0.3494279554760992', 'start:add_message': '00000000000000000000000000000003.0.997617855314486', 'add_message': '00000000000000000000000000000004.0.9996589709376291', 'llm_response': '00000000000000000000000000000004.0.09568842462500893'}, 'versions_seen': {'__input__': {}, '__start__': {'__start__': '00000000000000000000000000000001.0.27156898550320674'}, 'add_message': {'start:add_message': '00000000000000000000000000000002.0.1919202098617463'}, 'llm_response': {'add_message': '00000000000000000000000000000003.0.8237873184671343'}}, 'pending_sends': []}, metadata={'source': 'loop', 'writes': {'llm_response': {'messages': [AIMessage(content='了解しました。ずんだ餅ですね。', additional_kwargs={'refusal': None}, response_metadata={'token_usage': {'completion_tokens': 10, 'prompt_tokens': 50, 'total_tokens': 60, 'prompt_tokens_details': {'cached_tokens': 0, 'audio_tokens': 0}, 'completion_tokens_details': {'reasoning_tokens': 0, 'audio_tokens': 0, 'accepted_prediction_tokens': 0, 'rejected_prediction_tokens': 0}}, 'model_name': 'gpt-4o-mini-2024-07-18', 'system_fingerprint': 'fp_34a54ae93c', 'finish_reason': 'stop', 'logprobs': None}, id='run-d87c23d8-cdf9-403a-bea9-a62b9355ca7e-0', usage_metadata={'input_tokens': 50, 'output_tokens': 10, 'total_tokens': 60})]}}, 'step': 2, 'parents': {}}, parent_config={'configurable': {'thread_id': 'example-1', 'checkpoint_ns': '', 'checkpoint_id': '1f06a154-dd90-6d00-8001-7309fdfcc56a'}}, pending_writes=[])\n",
      "CheckpointTuple(config={'configurable': {'thread_id': 'example-1', 'checkpoint_ns': '', 'checkpoint_id': '1f06a154-dd90-6d00-8001-7309fdfcc56a'}}, checkpoint={'v': 1, 'ts': '2025-07-26T11:40:18.141299+00:00', 'id': '1f06a154-dd90-6d00-8001-7309fdfcc56a', 'channel_values': {'query': '私が好きなものはずんだ餅です。覚えておいてね。', 'messages': [SystemMessage(content='貴方は最小限の応答をする対話エージェントです。', additional_kwargs={}, response_metadata={}), HumanMessage(content='私が好きなものはずんだ餅です。覚えておいてね。', additional_kwargs={}, response_metadata={})], 'add_message': 'add_message'}, 'channel_versions': {'__start__': '00000000000000000000000000000002.0.00971189228605096', 'query': '00000000000000000000000000000002.0.8649491925228773', 'messages': '00000000000000000000000000000003.0.796260664777511', 'start:add_message': '00000000000000000000000000000003.0.997617855314486', 'add_message': '00000000000000000000000000000003.0.8237873184671343'}, 'versions_seen': {'__input__': {}, '__start__': {'__start__': '00000000000000000000000000000001.0.27156898550320674'}, 'add_message': {'start:add_message': '00000000000000000000000000000002.0.1919202098617463'}}, 'pending_sends': []}, metadata={'source': 'loop', 'writes': {'add_message': {'messages': [SystemMessage(content='貴方は最小限の応答をする対話エージェントです。', additional_kwargs={}, response_metadata={}), HumanMessage(content='私が好きなものはずんだ餅です。覚えておいてね。', additional_kwargs={}, response_metadata={})]}}, 'step': 1, 'parents': {}}, parent_config={'configurable': {'thread_id': 'example-1', 'checkpoint_ns': '', 'checkpoint_id': '1f06a154-dd8c-6f2a-8000-ca116de6d7a2'}}, pending_writes=[])\n",
      "CheckpointTuple(config={'configurable': {'thread_id': 'example-1', 'checkpoint_ns': '', 'checkpoint_id': '1f06a154-dd8c-6f2a-8000-ca116de6d7a2'}}, checkpoint={'v': 1, 'ts': '2025-07-26T11:40:18.139718+00:00', 'id': '1f06a154-dd8c-6f2a-8000-ca116de6d7a2', 'channel_values': {'query': '私が好きなものはずんだ餅です。覚えておいてね。', 'messages': [], 'start:add_message': '__start__'}, 'channel_versions': {'__start__': '00000000000000000000000000000002.0.00971189228605096', 'query': '00000000000000000000000000000002.0.8649491925228773', 'messages': '00000000000000000000000000000002.0.9069342201827407', 'start:add_message': '00000000000000000000000000000002.0.1919202098617463'}, 'versions_seen': {'__input__': {}, '__start__': {'__start__': '00000000000000000000000000000001.0.27156898550320674'}}, 'pending_sends': []}, metadata={'source': 'loop', 'writes': None, 'step': 0, 'parents': {}}, parent_config={'configurable': {'thread_id': 'example-1', 'checkpoint_ns': '', 'checkpoint_id': '1f06a154-dd86-69f4-bfff-762d94e7dd7b'}}, pending_writes=[])\n",
      "CheckpointTuple(config={'configurable': {'thread_id': 'example-1', 'checkpoint_ns': '', 'checkpoint_id': '1f06a154-dd86-69f4-bfff-762d94e7dd7b'}}, checkpoint={'v': 1, 'ts': '2025-07-26T11:40:18.137132+00:00', 'id': '1f06a154-dd86-69f4-bfff-762d94e7dd7b', 'channel_values': {'__start__': State(query='私が好きなものはずんだ餅です。覚えておいてね。', messages=[])}, 'channel_versions': {'__start__': '00000000000000000000000000000001.0.27156898550320674'}, 'versions_seen': {'__input__': {}}, 'pending_sends': []}, metadata={'source': 'input', 'writes': {'__start__': State(query='私が好きなものはずんだ餅です。覚えておいてね。', messages=[])}, 'step': -1, 'parents': {}}, parent_config=None, pending_writes=[])\n"
     ]
    }
   ],
   "source": [
    "# チェックポイントリストを取得して内容を表示する処理\n",
    "\n",
    "# チェックポイントリストをループで取得\n",
    "for checkpoint in checkpointer.list(config):\n",
    "    # 各チェックポイントの内容を表示\n",
    "    print(checkpoint)"
   ]
  },
  {
   "cell_type": "code",
   "execution_count": null,
   "metadata": {},
   "outputs": [
    {
     "name": "stdout",
     "output_type": "stream",
     "text": [
      "チェックポイントデータ：\n",
      "{'channel_values': {'llm_response': 'llm_response',\n",
      "                    'messages': [SystemMessage(content='貴方は最小限の応答をする対話エージェントです。', additional_kwargs={}, response_metadata={}),\n",
      "                                 HumanMessage(content='私が好きなものはずんだ餅です。覚えておいてね。', additional_kwargs={}, response_metadata={}),\n",
      "                                 AIMessage(content='了解しました。ずんだ餅ですね。', additional_kwargs={'refusal': None}, response_metadata={'token_usage': {'completion_tokens': 10, 'prompt_tokens': 50, 'total_tokens': 60, 'prompt_tokens_details': {'cached_tokens': 0, 'audio_tokens': 0}, 'completion_tokens_details': {'reasoning_tokens': 0, 'audio_tokens': 0, 'accepted_prediction_tokens': 0, 'rejected_prediction_tokens': 0}}, 'model_name': 'gpt-4o-mini-2024-07-18', 'system_fingerprint': 'fp_34a54ae93c', 'finish_reason': 'stop', 'logprobs': None}, id='run-d87c23d8-cdf9-403a-bea9-a62b9355ca7e-0', usage_metadata={'input_tokens': 50, 'output_tokens': 10, 'total_tokens': 60})],\n",
      "                    'query': '私が好きなものはずんだ餅です。覚えておいてね。'},\n",
      " 'channel_versions': {'__start__': '00000000000000000000000000000002.0.00971189228605096',\n",
      "                      'add_message': '00000000000000000000000000000004.0.9996589709376291',\n",
      "                      'llm_response': '00000000000000000000000000000004.0.09568842462500893',\n",
      "                      'messages': '00000000000000000000000000000004.0.3494279554760992',\n",
      "                      'query': '00000000000000000000000000000002.0.8649491925228773',\n",
      "                      'start:add_message': '00000000000000000000000000000003.0.997617855314486'},\n",
      " 'id': '1f06a154-e821-6a76-8002-6e1040a9ee83',\n",
      " 'pending_sends': [],\n",
      " 'ts': '2025-07-26T11:40:19.249194+00:00',\n",
      " 'v': 1,\n",
      " 'versions_seen': {'__input__': {},\n",
      "                   '__start__': {'__start__': '00000000000000000000000000000001.0.27156898550320674'},\n",
      "                   'add_message': {'start:add_message': '00000000000000000000000000000002.0.1919202098617463'},\n",
      "                   'llm_response': {'add_message': '00000000000000000000000000000003.0.8237873184671343'}}}\n",
      "\n",
      "メタデータ：\n",
      "{'parents': {},\n",
      " 'source': 'loop',\n",
      " 'step': 2,\n",
      " 'writes': {'llm_response': {'messages': [AIMessage(content='了解しました。ずんだ餅ですね。', additional_kwargs={'refusal': None}, response_metadata={'token_usage': {'completion_tokens': 10, 'prompt_tokens': 50, 'total_tokens': 60, 'prompt_tokens_details': {'cached_tokens': 0, 'audio_tokens': 0}, 'completion_tokens_details': {'reasoning_tokens': 0, 'audio_tokens': 0, 'accepted_prediction_tokens': 0, 'rejected_prediction_tokens': 0}}, 'model_name': 'gpt-4o-mini-2024-07-18', 'system_fingerprint': 'fp_34a54ae93c', 'finish_reason': 'stop', 'logprobs': None}, id='run-d87c23d8-cdf9-403a-bea9-a62b9355ca7e-0', usage_metadata={'input_tokens': 50, 'output_tokens': 10, 'total_tokens': 60})]}}}\n"
     ]
    }
   ],
   "source": [
    "# チェックポイントの内容をダンプして表示する\n",
    "print_checkpoint_dump(checkpointer,config)"
   ]
  },
  {
   "cell_type": "code",
   "execution_count": null,
   "metadata": {},
   "outputs": [
    {
     "data": {
      "text/plain": [
       "{'query': '私の好物は覚えているか？',\n",
       " 'messages': [SystemMessage(content='貴方は最小限の応答をする対話エージェントです。', additional_kwargs={}, response_metadata={}),\n",
       "  HumanMessage(content='私が好きなものはずんだ餅です。覚えておいてね。', additional_kwargs={}, response_metadata={}),\n",
       "  AIMessage(content='了解しました。ずんだ餅ですね。', additional_kwargs={'refusal': None}, response_metadata={'token_usage': {'completion_tokens': 10, 'prompt_tokens': 50, 'total_tokens': 60, 'prompt_tokens_details': {'cached_tokens': 0, 'audio_tokens': 0}, 'completion_tokens_details': {'reasoning_tokens': 0, 'audio_tokens': 0, 'accepted_prediction_tokens': 0, 'rejected_prediction_tokens': 0}}, 'model_name': 'gpt-4o-mini-2024-07-18', 'system_fingerprint': 'fp_34a54ae93c', 'finish_reason': 'stop', 'logprobs': None}, id='run-d87c23d8-cdf9-403a-bea9-a62b9355ca7e-0', usage_metadata={'input_tokens': 50, 'output_tokens': 10, 'total_tokens': 60}),\n",
       "  HumanMessage(content='私の好物は覚えているか？', additional_kwargs={}, response_metadata={}),\n",
       "  AIMessage(content='はい、ずんだ餅です。', additional_kwargs={'refusal': None}, response_metadata={'token_usage': {'completion_tokens': 9, 'prompt_tokens': 78, 'total_tokens': 87, 'prompt_tokens_details': {'cached_tokens': 0, 'audio_tokens': 0}, 'completion_tokens_details': {'reasoning_tokens': 0, 'audio_tokens': 0, 'accepted_prediction_tokens': 0, 'rejected_prediction_tokens': 0}}, 'model_name': 'gpt-4o-mini-2024-07-18', 'system_fingerprint': 'fp_62a23a81ef', 'finish_reason': 'stop', 'logprobs': None}, id='run-f86535f5-53d5-49a4-82af-00d711734a14-0', usage_metadata={'input_tokens': 78, 'output_tokens': 9, 'total_tokens': 87})]}"
      ]
     },
     "execution_count": 19,
     "metadata": {},
     "output_type": "execute_result"
    }
   ],
   "source": [
    "# 2回目のユーザー入力を使って、記憶が維持されているかを確認する処理\n",
    "\n",
    "# ユーザーからの新しいクエリをStateオブジェクトとして作成\n",
    "user_query=State(query=\"私の好物は覚えているか？\")\n",
    "\n",
    "# チェックポイント付きLangGraphに新しいユーザー入力を渡して応答を取得\n",
    "second_response=compiled_graph.invoke(user_query,config)\n",
    "\n",
    "# 応答内容を表示\n",
    "second_response"
   ]
  },
  {
   "cell_type": "code",
   "execution_count": 20,
   "metadata": {},
   "outputs": [
    {
     "name": "stdout",
     "output_type": "stream",
     "text": [
      "CheckpointTuple(config={'configurable': {'thread_id': 'example-1', 'checkpoint_ns': '', 'checkpoint_id': '1f06a164-c119-6a86-8006-caf2f1f3f7ed'}}, checkpoint={'v': 1, 'ts': '2025-07-26T11:47:24.653205+00:00', 'id': '1f06a164-c119-6a86-8006-caf2f1f3f7ed', 'channel_values': {'query': '私の好物は覚えているか？', 'messages': [SystemMessage(content='貴方は最小限の応答をする対話エージェントです。', additional_kwargs={}, response_metadata={}), HumanMessage(content='私が好きなものはずんだ餅です。覚えておいてね。', additional_kwargs={}, response_metadata={}), AIMessage(content='了解しました。ずんだ餅ですね。', additional_kwargs={'refusal': None}, response_metadata={'token_usage': {'completion_tokens': 10, 'prompt_tokens': 50, 'total_tokens': 60, 'prompt_tokens_details': {'cached_tokens': 0, 'audio_tokens': 0}, 'completion_tokens_details': {'reasoning_tokens': 0, 'audio_tokens': 0, 'accepted_prediction_tokens': 0, 'rejected_prediction_tokens': 0}}, 'model_name': 'gpt-4o-mini-2024-07-18', 'system_fingerprint': 'fp_34a54ae93c', 'finish_reason': 'stop', 'logprobs': None}, id='run-d87c23d8-cdf9-403a-bea9-a62b9355ca7e-0', usage_metadata={'input_tokens': 50, 'output_tokens': 10, 'total_tokens': 60}), HumanMessage(content='私の好物は覚えているか？', additional_kwargs={}, response_metadata={}), AIMessage(content='はい、ずんだ餅です。', additional_kwargs={'refusal': None}, response_metadata={'token_usage': {'completion_tokens': 9, 'prompt_tokens': 78, 'total_tokens': 87, 'prompt_tokens_details': {'cached_tokens': 0, 'audio_tokens': 0}, 'completion_tokens_details': {'reasoning_tokens': 0, 'audio_tokens': 0, 'accepted_prediction_tokens': 0, 'rejected_prediction_tokens': 0}}, 'model_name': 'gpt-4o-mini-2024-07-18', 'system_fingerprint': 'fp_62a23a81ef', 'finish_reason': 'stop', 'logprobs': None}, id='run-f86535f5-53d5-49a4-82af-00d711734a14-0', usage_metadata={'input_tokens': 78, 'output_tokens': 9, 'total_tokens': 87})], 'llm_response': 'llm_response'}, 'channel_versions': {'__start__': '00000000000000000000000000000006.0.10660938393848729', 'query': '00000000000000000000000000000006.0.36981693432773133', 'messages': '00000000000000000000000000000008.0.8599415820483319', 'start:add_message': '00000000000000000000000000000007.0.8481923455890527', 'add_message': '00000000000000000000000000000008.0.7114080639813618', 'llm_response': '00000000000000000000000000000008.0.28703550626554963'}, 'versions_seen': {'__input__': {}, '__start__': {'__start__': '00000000000000000000000000000005.0.021766249061597076'}, 'add_message': {'start:add_message': '00000000000000000000000000000006.0.5046857997853275'}, 'llm_response': {'add_message': '00000000000000000000000000000007.0.06892085258768788'}}, 'pending_sends': []}, metadata={'source': 'loop', 'writes': {'llm_response': {'messages': [AIMessage(content='はい、ずんだ餅です。', additional_kwargs={'refusal': None}, response_metadata={'token_usage': {'completion_tokens': 9, 'prompt_tokens': 78, 'total_tokens': 87, 'prompt_tokens_details': {'cached_tokens': 0, 'audio_tokens': 0}, 'completion_tokens_details': {'reasoning_tokens': 0, 'audio_tokens': 0, 'accepted_prediction_tokens': 0, 'rejected_prediction_tokens': 0}}, 'model_name': 'gpt-4o-mini-2024-07-18', 'system_fingerprint': 'fp_62a23a81ef', 'finish_reason': 'stop', 'logprobs': None}, id='run-f86535f5-53d5-49a4-82af-00d711734a14-0', usage_metadata={'input_tokens': 78, 'output_tokens': 9, 'total_tokens': 87})]}}, 'step': 6, 'parents': {}}, parent_config={'configurable': {'thread_id': 'example-1', 'checkpoint_ns': '', 'checkpoint_id': '1f06a164-b908-6bb2-8005-12f4d85ac86d'}}, pending_writes=[])\n",
      "CheckpointTuple(config={'configurable': {'thread_id': 'example-1', 'checkpoint_ns': '', 'checkpoint_id': '1f06a164-b908-6bb2-8005-12f4d85ac86d'}}, checkpoint={'v': 1, 'ts': '2025-07-26T11:47:23.807417+00:00', 'id': '1f06a164-b908-6bb2-8005-12f4d85ac86d', 'channel_values': {'query': '私の好物は覚えているか？', 'messages': [SystemMessage(content='貴方は最小限の応答をする対話エージェントです。', additional_kwargs={}, response_metadata={}), HumanMessage(content='私が好きなものはずんだ餅です。覚えておいてね。', additional_kwargs={}, response_metadata={}), AIMessage(content='了解しました。ずんだ餅ですね。', additional_kwargs={'refusal': None}, response_metadata={'token_usage': {'completion_tokens': 10, 'prompt_tokens': 50, 'total_tokens': 60, 'prompt_tokens_details': {'cached_tokens': 0, 'audio_tokens': 0}, 'completion_tokens_details': {'reasoning_tokens': 0, 'audio_tokens': 0, 'accepted_prediction_tokens': 0, 'rejected_prediction_tokens': 0}}, 'model_name': 'gpt-4o-mini-2024-07-18', 'system_fingerprint': 'fp_34a54ae93c', 'finish_reason': 'stop', 'logprobs': None}, id='run-d87c23d8-cdf9-403a-bea9-a62b9355ca7e-0', usage_metadata={'input_tokens': 50, 'output_tokens': 10, 'total_tokens': 60}), HumanMessage(content='私の好物は覚えているか？', additional_kwargs={}, response_metadata={})], 'add_message': 'add_message'}, 'channel_versions': {'__start__': '00000000000000000000000000000006.0.10660938393848729', 'query': '00000000000000000000000000000006.0.36981693432773133', 'messages': '00000000000000000000000000000007.0.605672509074248', 'start:add_message': '00000000000000000000000000000007.0.8481923455890527', 'add_message': '00000000000000000000000000000007.0.06892085258768788', 'llm_response': '00000000000000000000000000000005.0.2886528279573213'}, 'versions_seen': {'__input__': {}, '__start__': {'__start__': '00000000000000000000000000000005.0.021766249061597076'}, 'add_message': {'start:add_message': '00000000000000000000000000000006.0.5046857997853275'}, 'llm_response': {'add_message': '00000000000000000000000000000003.0.8237873184671343'}}, 'pending_sends': []}, metadata={'source': 'loop', 'writes': {'add_message': {'messages': [HumanMessage(content='私の好物は覚えているか？', additional_kwargs={}, response_metadata={})]}}, 'step': 5, 'parents': {}}, parent_config={'configurable': {'thread_id': 'example-1', 'checkpoint_ns': '', 'checkpoint_id': '1f06a164-b904-674c-8004-fea6f1681326'}}, pending_writes=[])\n",
      "CheckpointTuple(config={'configurable': {'thread_id': 'example-1', 'checkpoint_ns': '', 'checkpoint_id': '1f06a164-b904-674c-8004-fea6f1681326'}}, checkpoint={'v': 1, 'ts': '2025-07-26T11:47:23.805657+00:00', 'id': '1f06a164-b904-674c-8004-fea6f1681326', 'channel_values': {'query': '私の好物は覚えているか？', 'messages': [SystemMessage(content='貴方は最小限の応答をする対話エージェントです。', additional_kwargs={}, response_metadata={}), HumanMessage(content='私が好きなものはずんだ餅です。覚えておいてね。', additional_kwargs={}, response_metadata={}), AIMessage(content='了解しました。ずんだ餅ですね。', additional_kwargs={'refusal': None}, response_metadata={'token_usage': {'completion_tokens': 10, 'prompt_tokens': 50, 'total_tokens': 60, 'prompt_tokens_details': {'cached_tokens': 0, 'audio_tokens': 0}, 'completion_tokens_details': {'reasoning_tokens': 0, 'audio_tokens': 0, 'accepted_prediction_tokens': 0, 'rejected_prediction_tokens': 0}}, 'model_name': 'gpt-4o-mini-2024-07-18', 'system_fingerprint': 'fp_34a54ae93c', 'finish_reason': 'stop', 'logprobs': None}, id='run-d87c23d8-cdf9-403a-bea9-a62b9355ca7e-0', usage_metadata={'input_tokens': 50, 'output_tokens': 10, 'total_tokens': 60})], 'start:add_message': '__start__'}, 'channel_versions': {'__start__': '00000000000000000000000000000006.0.10660938393848729', 'query': '00000000000000000000000000000006.0.36981693432773133', 'messages': '00000000000000000000000000000006.0.16171971683809472', 'start:add_message': '00000000000000000000000000000006.0.5046857997853275', 'add_message': '00000000000000000000000000000004.0.9996589709376291', 'llm_response': '00000000000000000000000000000005.0.2886528279573213'}, 'versions_seen': {'__input__': {}, '__start__': {'__start__': '00000000000000000000000000000005.0.021766249061597076'}, 'add_message': {'start:add_message': '00000000000000000000000000000002.0.1919202098617463'}, 'llm_response': {'add_message': '00000000000000000000000000000003.0.8237873184671343'}}, 'pending_sends': []}, metadata={'source': 'loop', 'writes': None, 'step': 4, 'parents': {}}, parent_config={'configurable': {'thread_id': 'example-1', 'checkpoint_ns': '', 'checkpoint_id': '1f06a164-b900-6368-8003-60210400239d'}}, pending_writes=[])\n",
      "CheckpointTuple(config={'configurable': {'thread_id': 'example-1', 'checkpoint_ns': '', 'checkpoint_id': '1f06a164-b900-6368-8003-60210400239d'}}, checkpoint={'v': 1, 'ts': '2025-07-26T11:47:23.803926+00:00', 'id': '1f06a164-b900-6368-8003-60210400239d', 'channel_values': {'query': '私が好きなものはずんだ餅です。覚えておいてね。', 'messages': [SystemMessage(content='貴方は最小限の応答をする対話エージェントです。', additional_kwargs={}, response_metadata={}), HumanMessage(content='私が好きなものはずんだ餅です。覚えておいてね。', additional_kwargs={}, response_metadata={}), AIMessage(content='了解しました。ずんだ餅ですね。', additional_kwargs={'refusal': None}, response_metadata={'token_usage': {'completion_tokens': 10, 'prompt_tokens': 50, 'total_tokens': 60, 'prompt_tokens_details': {'cached_tokens': 0, 'audio_tokens': 0}, 'completion_tokens_details': {'reasoning_tokens': 0, 'audio_tokens': 0, 'accepted_prediction_tokens': 0, 'rejected_prediction_tokens': 0}}, 'model_name': 'gpt-4o-mini-2024-07-18', 'system_fingerprint': 'fp_34a54ae93c', 'finish_reason': 'stop', 'logprobs': None}, id='run-d87c23d8-cdf9-403a-bea9-a62b9355ca7e-0', usage_metadata={'input_tokens': 50, 'output_tokens': 10, 'total_tokens': 60})], '__start__': State(query='私の好物は覚えているか？', messages=[])}, 'channel_versions': {'__start__': '00000000000000000000000000000005.0.021766249061597076', 'query': '00000000000000000000000000000002.0.8649491925228773', 'messages': '00000000000000000000000000000004.0.3494279554760992', 'start:add_message': '00000000000000000000000000000003.0.997617855314486', 'add_message': '00000000000000000000000000000004.0.9996589709376291', 'llm_response': '00000000000000000000000000000005.0.2886528279573213'}, 'versions_seen': {'__input__': {}, '__start__': {'__start__': '00000000000000000000000000000001.0.27156898550320674'}, 'add_message': {'start:add_message': '00000000000000000000000000000002.0.1919202098617463'}, 'llm_response': {'add_message': '00000000000000000000000000000003.0.8237873184671343'}}, 'pending_sends': []}, metadata={'source': 'input', 'writes': {'__start__': State(query='私の好物は覚えているか？', messages=[])}, 'step': 3, 'parents': {}}, parent_config={'configurable': {'thread_id': 'example-1', 'checkpoint_ns': '', 'checkpoint_id': '1f06a154-e821-6a76-8002-6e1040a9ee83'}}, pending_writes=[])\n",
      "CheckpointTuple(config={'configurable': {'thread_id': 'example-1', 'checkpoint_ns': '', 'checkpoint_id': '1f06a154-e821-6a76-8002-6e1040a9ee83'}}, checkpoint={'v': 1, 'ts': '2025-07-26T11:40:19.249194+00:00', 'id': '1f06a154-e821-6a76-8002-6e1040a9ee83', 'channel_values': {'query': '私が好きなものはずんだ餅です。覚えておいてね。', 'messages': [SystemMessage(content='貴方は最小限の応答をする対話エージェントです。', additional_kwargs={}, response_metadata={}), HumanMessage(content='私が好きなものはずんだ餅です。覚えておいてね。', additional_kwargs={}, response_metadata={}), AIMessage(content='了解しました。ずんだ餅ですね。', additional_kwargs={'refusal': None}, response_metadata={'token_usage': {'completion_tokens': 10, 'prompt_tokens': 50, 'total_tokens': 60, 'prompt_tokens_details': {'cached_tokens': 0, 'audio_tokens': 0}, 'completion_tokens_details': {'reasoning_tokens': 0, 'audio_tokens': 0, 'accepted_prediction_tokens': 0, 'rejected_prediction_tokens': 0}}, 'model_name': 'gpt-4o-mini-2024-07-18', 'system_fingerprint': 'fp_34a54ae93c', 'finish_reason': 'stop', 'logprobs': None}, id='run-d87c23d8-cdf9-403a-bea9-a62b9355ca7e-0', usage_metadata={'input_tokens': 50, 'output_tokens': 10, 'total_tokens': 60})], 'llm_response': 'llm_response'}, 'channel_versions': {'__start__': '00000000000000000000000000000002.0.00971189228605096', 'query': '00000000000000000000000000000002.0.8649491925228773', 'messages': '00000000000000000000000000000004.0.3494279554760992', 'start:add_message': '00000000000000000000000000000003.0.997617855314486', 'add_message': '00000000000000000000000000000004.0.9996589709376291', 'llm_response': '00000000000000000000000000000004.0.09568842462500893'}, 'versions_seen': {'__input__': {}, '__start__': {'__start__': '00000000000000000000000000000001.0.27156898550320674'}, 'add_message': {'start:add_message': '00000000000000000000000000000002.0.1919202098617463'}, 'llm_response': {'add_message': '00000000000000000000000000000003.0.8237873184671343'}}, 'pending_sends': []}, metadata={'source': 'loop', 'writes': {'llm_response': {'messages': [AIMessage(content='了解しました。ずんだ餅ですね。', additional_kwargs={'refusal': None}, response_metadata={'token_usage': {'completion_tokens': 10, 'prompt_tokens': 50, 'total_tokens': 60, 'prompt_tokens_details': {'cached_tokens': 0, 'audio_tokens': 0}, 'completion_tokens_details': {'reasoning_tokens': 0, 'audio_tokens': 0, 'accepted_prediction_tokens': 0, 'rejected_prediction_tokens': 0}}, 'model_name': 'gpt-4o-mini-2024-07-18', 'system_fingerprint': 'fp_34a54ae93c', 'finish_reason': 'stop', 'logprobs': None}, id='run-d87c23d8-cdf9-403a-bea9-a62b9355ca7e-0', usage_metadata={'input_tokens': 50, 'output_tokens': 10, 'total_tokens': 60})]}}, 'step': 2, 'parents': {}}, parent_config={'configurable': {'thread_id': 'example-1', 'checkpoint_ns': '', 'checkpoint_id': '1f06a154-dd90-6d00-8001-7309fdfcc56a'}}, pending_writes=[])\n",
      "CheckpointTuple(config={'configurable': {'thread_id': 'example-1', 'checkpoint_ns': '', 'checkpoint_id': '1f06a154-dd90-6d00-8001-7309fdfcc56a'}}, checkpoint={'v': 1, 'ts': '2025-07-26T11:40:18.141299+00:00', 'id': '1f06a154-dd90-6d00-8001-7309fdfcc56a', 'channel_values': {'query': '私が好きなものはずんだ餅です。覚えておいてね。', 'messages': [SystemMessage(content='貴方は最小限の応答をする対話エージェントです。', additional_kwargs={}, response_metadata={}), HumanMessage(content='私が好きなものはずんだ餅です。覚えておいてね。', additional_kwargs={}, response_metadata={})], 'add_message': 'add_message'}, 'channel_versions': {'__start__': '00000000000000000000000000000002.0.00971189228605096', 'query': '00000000000000000000000000000002.0.8649491925228773', 'messages': '00000000000000000000000000000003.0.796260664777511', 'start:add_message': '00000000000000000000000000000003.0.997617855314486', 'add_message': '00000000000000000000000000000003.0.8237873184671343'}, 'versions_seen': {'__input__': {}, '__start__': {'__start__': '00000000000000000000000000000001.0.27156898550320674'}, 'add_message': {'start:add_message': '00000000000000000000000000000002.0.1919202098617463'}}, 'pending_sends': []}, metadata={'source': 'loop', 'writes': {'add_message': {'messages': [SystemMessage(content='貴方は最小限の応答をする対話エージェントです。', additional_kwargs={}, response_metadata={}), HumanMessage(content='私が好きなものはずんだ餅です。覚えておいてね。', additional_kwargs={}, response_metadata={})]}}, 'step': 1, 'parents': {}}, parent_config={'configurable': {'thread_id': 'example-1', 'checkpoint_ns': '', 'checkpoint_id': '1f06a154-dd8c-6f2a-8000-ca116de6d7a2'}}, pending_writes=[])\n",
      "CheckpointTuple(config={'configurable': {'thread_id': 'example-1', 'checkpoint_ns': '', 'checkpoint_id': '1f06a154-dd8c-6f2a-8000-ca116de6d7a2'}}, checkpoint={'v': 1, 'ts': '2025-07-26T11:40:18.139718+00:00', 'id': '1f06a154-dd8c-6f2a-8000-ca116de6d7a2', 'channel_values': {'query': '私が好きなものはずんだ餅です。覚えておいてね。', 'messages': [], 'start:add_message': '__start__'}, 'channel_versions': {'__start__': '00000000000000000000000000000002.0.00971189228605096', 'query': '00000000000000000000000000000002.0.8649491925228773', 'messages': '00000000000000000000000000000002.0.9069342201827407', 'start:add_message': '00000000000000000000000000000002.0.1919202098617463'}, 'versions_seen': {'__input__': {}, '__start__': {'__start__': '00000000000000000000000000000001.0.27156898550320674'}}, 'pending_sends': []}, metadata={'source': 'loop', 'writes': None, 'step': 0, 'parents': {}}, parent_config={'configurable': {'thread_id': 'example-1', 'checkpoint_ns': '', 'checkpoint_id': '1f06a154-dd86-69f4-bfff-762d94e7dd7b'}}, pending_writes=[])\n",
      "CheckpointTuple(config={'configurable': {'thread_id': 'example-1', 'checkpoint_ns': '', 'checkpoint_id': '1f06a154-dd86-69f4-bfff-762d94e7dd7b'}}, checkpoint={'v': 1, 'ts': '2025-07-26T11:40:18.137132+00:00', 'id': '1f06a154-dd86-69f4-bfff-762d94e7dd7b', 'channel_values': {'__start__': State(query='私が好きなものはずんだ餅です。覚えておいてね。', messages=[])}, 'channel_versions': {'__start__': '00000000000000000000000000000001.0.27156898550320674'}, 'versions_seen': {'__input__': {}}, 'pending_sends': []}, metadata={'source': 'input', 'writes': {'__start__': State(query='私が好きなものはずんだ餅です。覚えておいてね。', messages=[])}, 'step': -1, 'parents': {}}, parent_config=None, pending_writes=[])\n"
     ]
    }
   ],
   "source": [
    "# チェックポイントリストを取得して内容を表示する処理 2回目\n",
    "\n",
    "# チェックポイントリストをループで取得\n",
    "for checkpoint in checkpointer.list(config):\n",
    "    # 各チェックポイントの内容を表示\n",
    "    print(checkpoint)"
   ]
  },
  {
   "cell_type": "code",
   "execution_count": null,
   "metadata": {},
   "outputs": [
    {
     "data": {
      "text/plain": [
       "{'query': '私の好物は何？',\n",
       " 'messages': [SystemMessage(content='貴方は最小限の応答をする対話エージェントです。', additional_kwargs={}, response_metadata={}),\n",
       "  HumanMessage(content='私の好物は何？', additional_kwargs={}, response_metadata={}),\n",
       "  AIMessage(content='わかりません。教えて下さい。', additional_kwargs={'refusal': None}, response_metadata={'token_usage': {'completion_tokens': 9, 'prompt_tokens': 38, 'total_tokens': 47, 'prompt_tokens_details': {'cached_tokens': 0, 'audio_tokens': 0}, 'completion_tokens_details': {'reasoning_tokens': 0, 'audio_tokens': 0, 'accepted_prediction_tokens': 0, 'rejected_prediction_tokens': 0}}, 'model_name': 'gpt-4o-mini-2024-07-18', 'system_fingerprint': 'fp_34a54ae93c', 'finish_reason': 'stop', 'logprobs': None}, id='run-6483aa82-1747-450a-84ae-45bc2b9f6752-0', usage_metadata={'input_tokens': 38, 'output_tokens': 9, 'total_tokens': 47})]}"
      ]
     },
     "execution_count": 21,
     "metadata": {},
     "output_type": "execute_result"
    }
   ],
   "source": [
    "# 別スレッドでユーザーの好物を問い合わせる処理\n",
    "\n",
    "# 新しいスレッドIDを指定した設定を作成\n",
    "config = {\"configurable\": {\"thread_id\": \"example-2\"}}\n",
    "\n",
    "# ユーザーの質問をStateオブジェクトとして作成\n",
    "user_query = State(query=\"私の好物は何？\")\n",
    "\n",
    "# 設定とユーザー入力をLangGraphに渡して応答を取得\n",
    "other_thread_response = compiled_graph.invoke(user_query, config)\n",
    "\n",
    "# 応答内容を表示\n",
    "other_thread_response"
   ]
  },
  {
   "cell_type": "code",
   "execution_count": null,
   "metadata": {},
   "outputs": [],
   "source": []
  }
 ],
 "metadata": {
  "kernelspec": {
   "display_name": ".venv",
   "language": "python",
   "name": "python3"
  },
  "language_info": {
   "codemirror_mode": {
    "name": "ipython",
    "version": 3
   },
   "file_extension": ".py",
   "mimetype": "text/x-python",
   "name": "python",
   "nbconvert_exporter": "python",
   "pygments_lexer": "ipython3",
   "version": "3.13.5"
  }
 },
 "nbformat": 4,
 "nbformat_minor": 2
}
